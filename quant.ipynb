{
  "nbformat": 4,
  "nbformat_minor": 0,
  "metadata": {
    "colab": {
      "name": "quant.ipynb",
      "provenance": [],
      "collapsed_sections": [],
      "authorship_tag": "ABX9TyO4PdWRvu03tnNS4JtRIKse",
      "include_colab_link": true
    },
    "kernelspec": {
      "name": "python3",
      "display_name": "Python 3"
    },
    "language_info": {
      "name": "python"
    }
  },
  "cells": [
    {
      "cell_type": "markdown",
      "metadata": {
        "id": "view-in-github",
        "colab_type": "text"
      },
      "source": [
        "<a href=\"https://colab.research.google.com/github/pathces-gone/study-python-stock/blob/main/quant.ipynb\" target=\"_parent\"><img src=\"https://colab.research.google.com/assets/colab-badge.svg\" alt=\"Open In Colab\"/></a>"
      ]
    },
    {
      "cell_type": "code",
      "execution_count": 16,
      "metadata": {
        "id": "ohcC7ZSNLDiB"
      },
      "outputs": [],
      "source": [
        "import numpy as np\n",
        "import types"
      ]
    },
    {
      "cell_type": "code",
      "source": [
        "class IndexItem:\n",
        "  def __init__(self, comment:str, f: types.LambdaType,*params):\n",
        "    self.comment= comment\n",
        "    _params = params[0]\n",
        "    num = len(_params)\n",
        "    print(num)\n",
        "    if num == 1:\n",
        "      ret = f(_params[0])\n",
        "    elif num == 2:\n",
        "      ret = f(_params[0],_params[1])\n",
        "    elif num == 3:\n",
        "      ret = f(_params[0],_params[1],_params[2])\n",
        "    else:\n",
        "      ret = 0\n",
        "    print(ret)\n",
        "\n",
        "mmd = IndexItem(\"mmd@min/max-1\", lambda x,y: np.abs(x/y-1), [277.37,1145.66])\n",
        "\n"
      ],
      "metadata": {
        "id": "oRQSmg2lM6bt",
        "colab": {
          "base_uri": "https://localhost:8080/"
        },
        "outputId": "c6fb8282-b07b-45ba-b0d1-9f79f8e8df1b"
      },
      "execution_count": 43,
      "outputs": [
        {
          "output_type": "stream",
          "name": "stdout",
          "text": [
            "2\n",
            "0.7578950124818882\n"
          ]
        }
      ]
    }
  ]
}