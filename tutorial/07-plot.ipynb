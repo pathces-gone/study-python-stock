{
 "cells": [
  {
   "cell_type": "markdown",
   "metadata": {},
   "source": [
    "https://altair-viz.github.io/gallery/index.html"
   ]
  },
  {
   "cell_type": "code",
   "execution_count": 4,
   "metadata": {},
   "outputs": [
    {
     "name": "stdout",
     "output_type": "stream",
     "text": [
      "    symbol       date   price\n",
      "0     MSFT 2000-01-01   39.81\n",
      "1     MSFT 2000-02-01   36.35\n",
      "2     MSFT 2000-03-01   43.22\n",
      "3     MSFT 2000-04-01   28.37\n",
      "4     MSFT 2000-05-01   25.45\n",
      "..     ...        ...     ...\n",
      "555   AAPL 2009-11-01  199.91\n",
      "556   AAPL 2009-12-01  210.73\n",
      "557   AAPL 2010-01-01  192.06\n",
      "558   AAPL 2010-02-01  204.62\n",
      "559   AAPL 2010-03-01  223.02\n",
      "\n",
      "[560 rows x 3 columns]\n"
     ]
    }
   ],
   "source": [
    "import altair as alt\n",
    "from vega_datasets import data\n",
    "\n",
    "\n",
    "source = data.stocks()\n",
    "\n",
    "print(source)\n",
    "\n"
   ]
  },
  {
   "cell_type": "code",
   "execution_count": null,
   "metadata": {},
   "outputs": [],
   "source": [
    "alt.Chart(source).mark_line(point=True).encode(\n",
    "    x='date:T',\n",
    "    y='price:Q',\n",
    "    color='symbol:N'\n",
    ")"
   ]
  },
  {
   "cell_type": "code",
   "execution_count": 49,
   "metadata": {},
   "outputs": [],
   "source": [
    "  from fredapi import Fred\n",
    "  import os\n",
    "  import matplotlib.pyplot as plt\n",
    "  import datetime\n",
    "\n",
    "  start = '2000-01-01'\n",
    "  end   = datetime.datetime.strftime(datetime.datetime.today(),\"%Y-%m-%d\")\n",
    "\n",
    "  fred = Fred(api_key=os.environ.get('FRED_KEY'))\n",
    "  dgs10 = fred.get_series('DGS10',observation_start=start, observation_end=end).rolling(window=20).mean()\n",
    "  dgs2  = fred.get_series('DGS2',observation_start=start, observation_end=end).rolling(window=20).mean()\n",
    "  dgs10_2 = dgs10-dgs2"
   ]
  },
  {
   "cell_type": "code",
   "execution_count": 53,
   "metadata": {},
   "outputs": [
    {
     "name": "stdout",
     "output_type": "stream",
     "text": [
      "          symbol       date   ratio\n",
      "30         dgs10 2000-02-14  6.6525\n",
      "31         dgs10 2000-02-15  6.6430\n",
      "32         dgs10 2000-02-16  6.6345\n",
      "33         dgs10 2000-02-17  6.6240\n",
      "34         dgs10 2000-02-18  6.6090\n",
      "...          ...        ...     ...\n",
      "5701  dgs10-dgs2 2021-11-09  1.1345\n",
      "5702  dgs10-dgs2 2021-11-10  1.1275\n",
      "5733  dgs10-dgs2 2021-12-23  0.8160\n",
      "5770  dgs10-dgs2 2022-02-14  0.6375\n",
      "5771  dgs10-dgs2 2022-02-15  0.6205\n",
      "\n",
      "[5229 rows x 3 columns]\n"
     ]
    },
    {
     "data": {
      "text/html": [
       "\n",
       "<div id=\"altair-viz-6acfa13f38694a41bfa6d5a74f4f0ce9\"></div>\n",
       "<script type=\"text/javascript\">\n",
       "  var VEGA_DEBUG = (typeof VEGA_DEBUG == \"undefined\") ? {} : VEGA_DEBUG;\n",
       "  (function(spec, embedOpt){\n",
       "    let outputDiv = document.currentScript.previousElementSibling;\n",
       "    if (outputDiv.id !== \"altair-viz-6acfa13f38694a41bfa6d5a74f4f0ce9\") {\n",
       "      outputDiv = document.getElementById(\"altair-viz-6acfa13f38694a41bfa6d5a74f4f0ce9\");\n",
       "    }\n",
       "    const paths = {\n",
       "      \"vega\": \"https://cdn.jsdelivr.net/npm//vega@5?noext\",\n",
       "      \"vega-lib\": \"https://cdn.jsdelivr.net/npm//vega-lib?noext\",\n",
       "      \"vega-lite\": \"https://cdn.jsdelivr.net/npm//vega-lite@4.17.0?noext\",\n",
       "      \"vega-embed\": \"https://cdn.jsdelivr.net/npm//vega-embed@6?noext\",\n",
       "    };\n",
       "\n",
       "    function maybeLoadScript(lib, version) {\n",
       "      var key = `${lib.replace(\"-\", \"\")}_version`;\n",
       "      return (VEGA_DEBUG[key] == version) ?\n",
       "        Promise.resolve(paths[lib]) :\n",
       "        new Promise(function(resolve, reject) {\n",
       "          var s = document.createElement('script');\n",
       "          document.getElementsByTagName(\"head\")[0].appendChild(s);\n",
       "          s.async = true;\n",
       "          s.onload = () => {\n",
       "            VEGA_DEBUG[key] = version;\n",
       "            return resolve(paths[lib]);\n",
       "          };\n",
       "          s.onerror = () => reject(`Error loading script: ${paths[lib]}`);\n",
       "          s.src = paths[lib];\n",
       "        });\n",
       "    }\n",
       "\n",
       "    function showError(err) {\n",
       "      outputDiv.innerHTML = `<div class=\"error\" style=\"color:red;\">${err}</div>`;\n",
       "      throw err;\n",
       "    }\n",
       "\n",
       "    function displayChart(vegaEmbed) {\n",
       "      vegaEmbed(outputDiv, spec, embedOpt)\n",
       "        .catch(err => showError(`Javascript Error: ${err.message}<br>This usually means there's a typo in your chart specification. See the javascript console for the full traceback.`));\n",
       "    }\n",
       "\n",
       "    if(typeof define === \"function\" && define.amd) {\n",
       "      requirejs.config({paths});\n",
       "      require([\"vega-embed\"], displayChart, err => showError(`Error loading script: ${err.message}`));\n",
       "    } else {\n",
       "      maybeLoadScript(\"vega\", \"5\")\n",
       "        .then(() => maybeLoadScript(\"vega-lite\", \"4.17.0\"))\n",
       "        .then(() => maybeLoadScript(\"vega-embed\", \"6\"))\n",
       "        .catch(showError)\n",
       "        .then(() => displayChart(vegaEmbed));\n",
       "    }\n",
       "  })({\"config\": {\"view\": {\"continuousWidth\": 400, \"continuousHeight\": 300}}, \"data\": {\"url\": \"altair-data-e3823c458057824c723994e3046ce683.csv\", \"format\": {\"type\": \"csv\"}}, \"mark\": {\"type\": \"line\", \"point\": false}, \"encoding\": {\"color\": {\"field\": \"symbol\", \"type\": \"nominal\"}, \"x\": {\"field\": \"date\", \"type\": \"temporal\"}, \"y\": {\"field\": \"ratio\", \"type\": \"quantitative\"}}, \"$schema\": \"https://vega.github.io/schema/vega-lite/v4.17.0.json\"}, {\"mode\": \"vega-lite\"});\n",
       "</script>"
      ],
      "text/plain": [
       "alt.Chart(...)"
      ]
     },
     "execution_count": 53,
     "metadata": {},
     "output_type": "execute_result"
    }
   ],
   "source": [
    "import pandas as pd\n",
    "import numpy as np\n",
    "\n",
    "\n",
    "dgs10_df   = pd.DataFrame({'symbol': np.repeat('dgs10', len(dgs10)),'date':dgs10.index, 'ratio':dgs10.values})\n",
    "dgs2_df    = pd.DataFrame({'symbol': np.repeat('dgs2', len(dgs2)),'date':dgs2.index, 'ratio':dgs2.values})\n",
    "dgs10_2_df = pd.DataFrame({'symbol': np.repeat('dgs10-dgs2', len(dgs10_2)), 'date':dgs10_2.index, 'ratio':dgs10_2.values})\n",
    "\n",
    "source = pd.concat([dgs10_df, dgs2_df,dgs10_2_df])\n",
    "source = source.dropna(axis=0) # drop np.NaN\n",
    "print(source)\n",
    "\n",
    "alt.data_transformers.enable('csv') #allow >5000\n",
    "alt.Chart(source).mark_line(point=False).encode(\n",
    "    x='date:T',\n",
    "    y='ratio:Q',\n",
    "    color='symbol:N'\n",
    ")\n"
   ]
  },
  {
   "cell_type": "code",
   "execution_count": 56,
   "metadata": {},
   "outputs": [
    {
     "data": {
      "text/html": [
       "\n",
       "<div id=\"altair-viz-da18fa41791c44aabd48ecc264711bb7\"></div>\n",
       "<script type=\"text/javascript\">\n",
       "  var VEGA_DEBUG = (typeof VEGA_DEBUG == \"undefined\") ? {} : VEGA_DEBUG;\n",
       "  (function(spec, embedOpt){\n",
       "    let outputDiv = document.currentScript.previousElementSibling;\n",
       "    if (outputDiv.id !== \"altair-viz-da18fa41791c44aabd48ecc264711bb7\") {\n",
       "      outputDiv = document.getElementById(\"altair-viz-da18fa41791c44aabd48ecc264711bb7\");\n",
       "    }\n",
       "    const paths = {\n",
       "      \"vega\": \"https://cdn.jsdelivr.net/npm//vega@5?noext\",\n",
       "      \"vega-lib\": \"https://cdn.jsdelivr.net/npm//vega-lib?noext\",\n",
       "      \"vega-lite\": \"https://cdn.jsdelivr.net/npm//vega-lite@4.17.0?noext\",\n",
       "      \"vega-embed\": \"https://cdn.jsdelivr.net/npm//vega-embed@6?noext\",\n",
       "    };\n",
       "\n",
       "    function maybeLoadScript(lib, version) {\n",
       "      var key = `${lib.replace(\"-\", \"\")}_version`;\n",
       "      return (VEGA_DEBUG[key] == version) ?\n",
       "        Promise.resolve(paths[lib]) :\n",
       "        new Promise(function(resolve, reject) {\n",
       "          var s = document.createElement('script');\n",
       "          document.getElementsByTagName(\"head\")[0].appendChild(s);\n",
       "          s.async = true;\n",
       "          s.onload = () => {\n",
       "            VEGA_DEBUG[key] = version;\n",
       "            return resolve(paths[lib]);\n",
       "          };\n",
       "          s.onerror = () => reject(`Error loading script: ${paths[lib]}`);\n",
       "          s.src = paths[lib];\n",
       "        });\n",
       "    }\n",
       "\n",
       "    function showError(err) {\n",
       "      outputDiv.innerHTML = `<div class=\"error\" style=\"color:red;\">${err}</div>`;\n",
       "      throw err;\n",
       "    }\n",
       "\n",
       "    function displayChart(vegaEmbed) {\n",
       "      vegaEmbed(outputDiv, spec, embedOpt)\n",
       "        .catch(err => showError(`Javascript Error: ${err.message}<br>This usually means there's a typo in your chart specification. See the javascript console for the full traceback.`));\n",
       "    }\n",
       "\n",
       "    if(typeof define === \"function\" && define.amd) {\n",
       "      requirejs.config({paths});\n",
       "      require([\"vega-embed\"], displayChart, err => showError(`Error loading script: ${err.message}`));\n",
       "    } else {\n",
       "      maybeLoadScript(\"vega\", \"5\")\n",
       "        .then(() => maybeLoadScript(\"vega-lite\", \"4.17.0\"))\n",
       "        .then(() => maybeLoadScript(\"vega-embed\", \"6\"))\n",
       "        .catch(showError)\n",
       "        .then(() => displayChart(vegaEmbed));\n",
       "    }\n",
       "  })({\"config\": {\"view\": {\"continuousWidth\": 400, \"continuousHeight\": 300}}, \"data\": {\"url\": \"altair-data-e3823c458057824c723994e3046ce683.csv\", \"format\": {\"type\": \"csv\"}}, \"mark\": {\"type\": \"line\", \"point\": false}, \"encoding\": {\"color\": {\"field\": \"symbol\", \"type\": \"nominal\"}, \"x\": {\"field\": \"date\", \"type\": \"temporal\"}, \"y\": {\"field\": \"ratio\", \"type\": \"quantitative\"}}, \"$schema\": \"https://vega.github.io/schema/vega-lite/v4.17.0.json\"}, {\"mode\": \"vega-lite\"});\n",
       "</script>"
      ],
      "text/plain": [
       "alt.Chart(...)"
      ]
     },
     "execution_count": 56,
     "metadata": {},
     "output_type": "execute_result"
    }
   ],
   "source": [
    "lines = (\n",
    "    alt.Chart(source)\n",
    "    .mark_line()\n",
    "    .encode(x=\"date\", y=\"ratio\", color=\"symbol\")\n",
    ")\n",
    "\n",
    "xrule = (\n",
    "    alt.Chart()\n",
    "    .mark_rule(color=\"cyan\", strokeWidth=2)\n",
    "    .encode(x=alt.datum(alt.DateTime(year=2006, month=\"November\")))\n",
    ")\n",
    "\n",
    "\n",
    "alt.Chart(source).mark_line(point=False).encode(\n",
    "    x='date:T',\n",
    "    y='ratio:Q',\n",
    "    color='symbol:N'\n",
    ")"
   ]
  },
  {
   "cell_type": "code",
   "execution_count": null,
   "metadata": {},
   "outputs": [],
   "source": []
  }
 ],
 "metadata": {
  "interpreter": {
   "hash": "f9f85f796d01129d0dd105a088854619f454435301f6ffec2fea96ecbd9be4ac"
  },
  "kernelspec": {
   "display_name": "Python 3.9.10 64-bit",
   "language": "python",
   "name": "python3"
  },
  "language_info": {
   "codemirror_mode": {
    "name": "ipython",
    "version": 3
   },
   "file_extension": ".py",
   "mimetype": "text/x-python",
   "name": "python",
   "nbconvert_exporter": "python",
   "pygments_lexer": "ipython3",
   "version": "3.9.10"
  },
  "orig_nbformat": 4
 },
 "nbformat": 4,
 "nbformat_minor": 2
}
