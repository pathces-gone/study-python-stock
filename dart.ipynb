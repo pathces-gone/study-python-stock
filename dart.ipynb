{
  "nbformat": 4,
  "nbformat_minor": 0,
  "metadata": {
    "colab": {
      "name": "dart.ipynb",
      "provenance": [],
      "authorship_tag": "ABX9TyOihc6+aa3DtD/n5/Anqvj+",
      "include_colab_link": true
    },
    "kernelspec": {
      "name": "python3",
      "display_name": "Python 3"
    },
    "language_info": {
      "name": "python"
    }
  },
  "cells": [
    {
      "cell_type": "markdown",
      "metadata": {
        "id": "view-in-github",
        "colab_type": "text"
      },
      "source": [
        "<a href=\"https://colab.research.google.com/github/pathces-gone/study-python-stock/blob/main/dart.ipynb\" target=\"_parent\"><img src=\"https://colab.research.google.com/assets/colab-badge.svg\" alt=\"Open In Colab\"/></a>"
      ]
    },
    {
      "cell_type": "markdown",
      "source": [
        "[dart-fss readthedocs](https://dart-fss.readthedocs.io/en/latest/)"
      ],
      "metadata": {
        "id": "Ob__AU7VWLgP"
      }
    },
    {
      "cell_type": "code",
      "source": [
        "try:\n",
        "  import colab\n",
        "  !pip install --upgrade pip\n",
        "except:\n",
        "  pass\n",
        "!pip install --user dart-fss"
      ],
      "metadata": {
        "colab": {
          "base_uri": "https://localhost:8080/"
        },
        "id": "pviUU3jAWGSV",
        "outputId": "d6adfb93-9aa6-47eb-8096-a1d1ab092777"
      },
      "execution_count": 1,
      "outputs": [
        {
          "output_type": "stream",
          "name": "stdout",
          "text": [
            "Requirement already satisfied: pip in /usr/local/lib/python3.7/dist-packages (21.3.1)\n",
            "\u001b[33mWARNING: Running pip as the 'root' user can result in broken permissions and conflicting behaviour with the system package manager. It is recommended to use a virtual environment instead: https://pip.pypa.io/warnings/venv\u001b[0m\n",
            "Requirement already satisfied: dart-fss in /root/.local/lib/python3.7/site-packages (0.3.15)\n",
            "Requirement already satisfied: pandas<1.3.0,>=1.1.5 in /usr/local/lib/python3.7/dist-packages (from dart-fss) (1.1.5)\n",
            "Requirement already satisfied: certifi in /usr/local/lib/python3.7/dist-packages (from dart-fss) (2021.10.8)\n",
            "Requirement already satisfied: soupsieve in /root/.local/lib/python3.7/site-packages (from dart-fss) (2.3.1)\n",
            "Requirement already satisfied: idna>=3.0 in /root/.local/lib/python3.7/site-packages (from dart-fss) (3.3)\n",
            "Requirement already satisfied: urllib3 in /usr/local/lib/python3.7/dist-packages (from dart-fss) (1.24.3)\n",
            "Requirement already satisfied: beautifulsoup4 in /usr/local/lib/python3.7/dist-packages (from dart-fss) (4.6.3)\n",
            "Requirement already satisfied: isodate in /root/.local/lib/python3.7/site-packages (from dart-fss) (0.6.1)\n",
            "Requirement already satisfied: fake-useragent in /root/.local/lib/python3.7/site-packages (from dart-fss) (0.1.11)\n",
            "Requirement already satisfied: six in /usr/local/lib/python3.7/dist-packages (from dart-fss) (1.15.0)\n",
            "Requirement already satisfied: appdirs in /usr/local/lib/python3.7/dist-packages (from dart-fss) (1.4.4)\n",
            "Requirement already satisfied: tqdm in /usr/local/lib/python3.7/dist-packages (from dart-fss) (4.62.3)\n",
            "Requirement already satisfied: lxml in /usr/local/lib/python3.7/dist-packages (from dart-fss) (4.2.6)\n",
            "Requirement already satisfied: xmltodict in /root/.local/lib/python3.7/site-packages (from dart-fss) (0.12.0)\n",
            "Requirement already satisfied: decorator in /usr/local/lib/python3.7/dist-packages (from dart-fss) (4.4.2)\n",
            "Requirement already satisfied: halo in /root/.local/lib/python3.7/site-packages (from dart-fss) (0.0.31)\n",
            "Requirement already satisfied: html5lib in /usr/local/lib/python3.7/dist-packages (from dart-fss) (1.0.1)\n",
            "Requirement already satisfied: openpyxl in /usr/local/lib/python3.7/dist-packages (from dart-fss) (2.5.9)\n",
            "Requirement already satisfied: arelle in /root/.local/lib/python3.7/site-packages (from dart-fss) (2.2)\n",
            "Requirement already satisfied: numpy>=1.19.5 in /usr/local/lib/python3.7/dist-packages (from dart-fss) (1.19.5)\n",
            "Requirement already satisfied: pickleshare in /usr/local/lib/python3.7/dist-packages (from dart-fss) (0.7.5)\n",
            "Requirement already satisfied: python-dateutil in /usr/local/lib/python3.7/dist-packages (from dart-fss) (2.8.2)\n",
            "Requirement already satisfied: ipython-genutils in /usr/local/lib/python3.7/dist-packages (from dart-fss) (0.2.0)\n",
            "Requirement already satisfied: attrs in /usr/local/lib/python3.7/dist-packages (from dart-fss) (21.2.0)\n",
            "Requirement already satisfied: pytz in /usr/local/lib/python3.7/dist-packages (from dart-fss) (2018.9)\n",
            "Requirement already satisfied: backcall in /usr/local/lib/python3.7/dist-packages (from dart-fss) (0.2.0)\n",
            "Requirement already satisfied: traitlets in /usr/local/lib/python3.7/dist-packages (from dart-fss) (5.1.1)\n",
            "Requirement already satisfied: chardet in /usr/local/lib/python3.7/dist-packages (from dart-fss) (3.0.4)\n",
            "Requirement already satisfied: py in /usr/local/lib/python3.7/dist-packages (from dart-fss) (1.11.0)\n",
            "Requirement already satisfied: wcwidth in /usr/local/lib/python3.7/dist-packages (from dart-fss) (0.2.5)\n",
            "Requirement already satisfied: requests in /root/.local/lib/python3.7/site-packages (from dart-fss) (2.26.0)\n",
            "Requirement already satisfied: colorama>=0.3.9 in /root/.local/lib/python3.7/site-packages (from halo->dart-fss) (0.4.4)\n",
            "Requirement already satisfied: spinners>=0.0.24 in /root/.local/lib/python3.7/site-packages (from halo->dart-fss) (0.0.24)\n",
            "Requirement already satisfied: log-symbols>=0.0.14 in /root/.local/lib/python3.7/site-packages (from halo->dart-fss) (0.0.14)\n",
            "Requirement already satisfied: termcolor>=1.1.0 in /usr/local/lib/python3.7/dist-packages (from halo->dart-fss) (1.1.0)\n",
            "Requirement already satisfied: webencodings in /usr/local/lib/python3.7/dist-packages (from html5lib->dart-fss) (0.5.1)\n",
            "Requirement already satisfied: et-xmlfile in /usr/local/lib/python3.7/dist-packages (from openpyxl->dart-fss) (1.1.0)\n",
            "Requirement already satisfied: jdcal in /usr/local/lib/python3.7/dist-packages (from openpyxl->dart-fss) (1.4.1)\n",
            "Requirement already satisfied: charset-normalizer~=2.0.0 in /usr/local/lib/python3.7/dist-packages (from requests->dart-fss) (2.0.8)\n",
            "\u001b[33mWARNING: Running pip as the 'root' user can result in broken permissions and conflicting behaviour with the system package manager. It is recommended to use a virtual environment instead: https://pip.pypa.io/warnings/venv\u001b[0m\n"
          ]
        }
      ]
    },
    {
      "cell_type": "code",
      "source": [
        "import dart_fss as dart"
      ],
      "metadata": {
        "id": "pcWf0FbrEEae"
      },
      "execution_count": 3,
      "outputs": []
    },
    {
      "cell_type": "code",
      "source": [
        "import dart_fss as dart\n",
        "# Open DART API KEY 설정\n",
        "api_key='xxxxxxxxxxxxxxxxxxxxxxxxxxxxxxxxxxxxxxxx'\n",
        "dart.set_api_key(api_key=api_key)\n",
        "\n",
        "# DART 에 공시된 회사 리스트 불러오기\n",
        "corp_list = dart.get_corp_list()\n",
        "\n",
        "# 삼성전자 검색\n",
        "samsung = corp_list.find_by_corp_name('삼성전자', exactly=True)[0]\n",
        "\n",
        "# 2012년부터 연간 연결재무제표 불러오기\n",
        "fs = samsung.extract_fs(bgn_de='20120101')\n",
        "\n",
        "# 재무제표 검색 결과를 엑셀파일로 저장 ( 기본저장위치: 실행폴더/fsdata )\n",
        "fs.save()"
      ],
      "metadata": {
        "id": "9wRkXi6uWIgC"
      },
      "execution_count": 2,
      "outputs": []
    }
  ]
}