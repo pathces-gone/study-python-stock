{
 "cells": [
  {
   "cell_type": "markdown",
   "metadata": {},
   "source": [
    "# 경기지표\n",
    "\n",
    "1. 10y-2y = (T10Y2Y)\n",
    "2. 10y-3m = (T10Y3M)\n",
    "3. unemployment rate (UNRATE)\n",
    "4. federal funds effective rate (FENFUNDS)\n",
    "5. 10y breakeven inflaction rate (T10YIE)"
   ]
  },
  {
   "cell_type": "code",
   "execution_count": null,
   "metadata": {},
   "outputs": [],
   "source": [
    "# Global/WindowsApps (3.9.13)\n",
    "!pip3 install --user fredapi\n",
    "!pip3 install --user matplotlib\n",
    "!pip3 install --user numpy\n",
    "!pip3 install --user scipy\n",
    "!pip3 install --user pandas\n",
    "!pip3 install --user seaborn\n",
    "!pip3 install --user sklearn\n",
    "!pip3 install --user pandas_datareader"
   ]
  }
 ],
 "metadata": {
  "interpreter": {
   "hash": "d5d6f9088dec911ee94529a71f604ab69d01a047e7a8e97299651377083ed1ac"
  },
  "kernelspec": {
   "display_name": "Python 3.9.10 ('tf25')",
   "language": "python",
   "name": "python3"
  },
  "language_info": {
   "codemirror_mode": {
    "name": "ipython",
    "version": 3
   },
   "file_extension": ".py",
   "mimetype": "text/x-python",
   "name": "python",
   "nbconvert_exporter": "python",
   "pygments_lexer": "ipython3",
   "version": "3.9.10"
  },
  "orig_nbformat": 4
 },
 "nbformat": 4,
 "nbformat_minor": 2
}
