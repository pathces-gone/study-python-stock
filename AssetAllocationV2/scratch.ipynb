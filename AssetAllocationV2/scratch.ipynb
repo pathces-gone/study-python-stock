{
 "cells": [
  {
   "cell_type": "code",
   "execution_count": null,
   "metadata": {},
   "outputs": [],
   "source": [
    "import numpy as np\n",
    "import pandas as pd\n",
    "from pandas_datareader import data as pdr\n",
    "import yfinance as yf\n",
    "import FinanceDataReader as fdr #pip3 install --user finance-datareader\n",
    "from fredapi import Fred\n",
    "import datetime, os\n"
   ]
  },
  {
   "cell_type": "code",
   "execution_count": null,
   "metadata": {},
   "outputs": [],
   "source": [
    "ticker='SPY'\n",
    "yf.pdr_override()\n",
    "df_price = pdr.get_data_yahoo(ticker)"
   ]
  },
  {
   "cell_type": "code",
   "execution_count": null,
   "metadata": {},
   "outputs": [],
   "source": [
    "start = df_price.index[0] \n",
    "end   = df_price.index[-1]\n",
    "df_new_index = pd.date_range(start,end)\n",
    "df_price = df_price.reindex(df_new_index)\n",
    "\n",
    "df_price.isna().sum()\n",
    "df_price.replace(np.NaN, 0, inplace=True)\n",
    "\n",
    "for today in df_price.index:\n",
    "  if df_price.loc[today,'Close'] == 0:\n",
    "    df_price.loc[today]= df_price.loc[today-datetime.timedelta(days=1)]"
   ]
  },
  {
   "cell_type": "code",
   "execution_count": null,
   "metadata": {},
   "outputs": [],
   "source": [
    "trading_df = pd.DataFrame(df_price['Close'],columns=['Close'])\n",
    "trading_df['Qty']     = 0\n",
    "trading_df['Capital'] = 0"
   ]
  },
  {
   "cell_type": "code",
   "execution_count": null,
   "metadata": {},
   "outputs": [],
   "source": [
    "import datetime\n",
    "from dateutil import relativedelta\n",
    "\n",
    "def get_pivot(year, month, day):\n",
    "  pivot_date = datetime.datetime.strptime(\"%d-%d-%d\"%(year,month,day), \"%Y-%m-%d\")\n",
    "  return pivot_date\n",
    "\n",
    "def get_next_month(today:datetime):\n",
    "    nextmonth = today + relativedelta.relativedelta(months=1)\n",
    "    return nextmonth\n",
    "\n",
    "def set_reblancing_date(trading_df, start_date, end_date):\n",
    "  # Set pivot\n",
    "  trading_df['Pivot'] = 0\n",
    "  iter_date = start_date\n",
    "  while iter_date <= end_date:\n",
    "    AW_4_  = (iter_date.month==4)\n",
    "    AW_11_ = (iter_date.month==11)\n",
    "    if (AW_4_ or AW_11_):\n",
    "      pivot_date = get_pivot(iter_date.year,iter_date.month,28)\n",
    "      trading_df.loc[pivot_date,'Pivot'] = 1 \n",
    "      print(pivot_date)\n",
    "    iter_date = get_next_month(iter_date)\n",
    "  return trading_df"
   ]
  },
  {
   "cell_type": "code",
   "execution_count": null,
   "metadata": {},
   "outputs": [],
   "source": [
    "# Sim Env\n",
    "## Date\n",
    "start_date = datetime.datetime.strptime('2020-01-03', '%Y-%m-%d')\n",
    "end_date = datetime.datetime.strptime('2022-01-03', '%Y-%m-%d')\n",
    "period = (start_date <= trading_df.index) & (end_date >= trading_df.index)\n",
    "trading_df = trading_df.loc[period]\n",
    "\n",
    "trading_df = set_reblancing_date(trading_df,start_date, end_date)\n",
    "trading_df['Pivot'].value_counts()\n",
    "\n",
    "## Portpolio\n",
    "init_capital = 1_000_000\n",
    "qty = int(init_capital/df_price.loc[start_date, 'Close'])"
   ]
  },
  {
   "cell_type": "code",
   "execution_count": 27,
   "metadata": {},
   "outputs": [
    {
     "data": {
      "text/plain": [
       "<AxesSubplot:>"
      ]
     },
     "execution_count": 27,
     "metadata": {},
     "output_type": "execute_result"
    },
    {
     "data": {
      "image/png": "[encoded data removed]",
      "text/plain": [
       "<Figure size 432x288 with 1 Axes>"
      ]
     },
     "metadata": {
      "needs_background": "light"
     },
     "output_type": "display_data"
    }
   ],
   "source": [
    "# Run\n",
    "trading_df.loc[period, 'Qty'] = qty\n",
    "trading_df['Capital'] = trading_df['Qty']*trading_df['Close']\n",
    "trading_df['Capital'].plot()"
   ]
  },
  {
   "cell_type": "code",
   "execution_count": null,
   "metadata": {},
   "outputs": [],
   "source": [
    "## Reblance\n",
    "\n",
    "def reblance(portpolio_df):\n",
    "  quater_total_capital = portpolio_df['Total_Capital']\n",
    "  pass \n",
    "\n",
    "\n",
    "\n",
    "\n",
    "\n",
    "ratio = 0.3\n",
    "quater_total_capital = init_capital\n",
    "\n",
    "\n",
    "\n",
    "\n",
    "pivots = trading_df.loc[trading_df['Pivot']==1, ['Capital','Qty']]\n",
    "pivots = pivots['Capital']\n",
    "if pivots['Capital'] < quater_total_capital:\n",
    "print(pivots)\n",
    "\n",
    "## print\n",
    "#"
   ]
  }
 ],
 "metadata": {
  "interpreter": {
   "hash": "f9f85f796d01129d0dd105a088854619f454435301f6ffec2fea96ecbd9be4ac"
  },
  "kernelspec": {
   "display_name": "Python 3.9.10 64-bit",
   "language": "python",
   "name": "python3"
  },
  "language_info": {
   "codemirror_mode": {
    "name": "ipython",
    "version": 3
   },
   "file_extension": ".py",
   "mimetype": "text/x-python",
   "name": "python",
   "nbconvert_exporter": "python",
   "pygments_lexer": "ipython3",
   "version": "3.9.10"
  },
  "orig_nbformat": 4
 },
 "nbformat": 4,
 "nbformat_minor": 2
}
