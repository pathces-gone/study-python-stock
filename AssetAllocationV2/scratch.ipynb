{
 "cells": [
  {
   "cell_type": "code",
   "execution_count": 58,
   "metadata": {},
   "outputs": [],
   "source": [
    "import numpy as np\n",
    "import pandas as pd\n",
    "from pandas_datareader import data as pdr\n",
    "import yfinance as yf\n",
    "import FinanceDataReader as fdr #pip3 install --user finance-datareader\n",
    "from fredapi import Fred\n",
    "import datetime, os\n",
    "\n",
    "import matplotlib.pyplot as plt"
   ]
  },
  {
   "cell_type": "code",
   "execution_count": 59,
   "metadata": {},
   "outputs": [
    {
     "name": "stdout",
     "output_type": "stream",
     "text": [
      "[*********************100%***********************]  2 of 2 completed\n"
     ]
    }
   ],
   "source": [
    "#ticker='msft aapl goog'#'SPY'\n",
    "tickers=['QQQ','GLD']\n",
    "yf.pdr_override()\n",
    "df_price = pdr.get_data_yahoo(tickers)\n",
    "df_price.isnull().sum()\n",
    "df_price.dropna(axis=0,inplace=True)"
   ]
  },
  {
   "cell_type": "code",
   "execution_count": 60,
   "metadata": {},
   "outputs": [
    {
     "data": {
      "text/html": [
       "<div>\n",
       "<style scoped>\n",
       "    .dataframe tbody tr th:only-of-type {\n",
       "        vertical-align: middle;\n",
       "    }\n",
       "\n",
       "    .dataframe tbody tr th {\n",
       "        vertical-align: top;\n",
       "    }\n",
       "\n",
       "    .dataframe thead tr th {\n",
       "        text-align: left;\n",
       "    }\n",
       "</style>\n",
       "<table border=\"1\" class=\"dataframe\">\n",
       "  <thead>\n",
       "    <tr>\n",
       "      <th></th>\n",
       "      <th colspan=\"2\" halign=\"left\">Adj Close</th>\n",
       "      <th colspan=\"2\" halign=\"left\">Close</th>\n",
       "      <th colspan=\"2\" halign=\"left\">High</th>\n",
       "      <th colspan=\"2\" halign=\"left\">Low</th>\n",
       "      <th colspan=\"2\" halign=\"left\">Open</th>\n",
       "      <th colspan=\"2\" halign=\"left\">Volume</th>\n",
       "    </tr>\n",
       "    <tr>\n",
       "      <th></th>\n",
       "      <th>GLD</th>\n",
       "      <th>QQQ</th>\n",
       "      <th>GLD</th>\n",
       "      <th>QQQ</th>\n",
       "      <th>GLD</th>\n",
       "      <th>QQQ</th>\n",
       "      <th>GLD</th>\n",
       "      <th>QQQ</th>\n",
       "      <th>GLD</th>\n",
       "      <th>QQQ</th>\n",
       "      <th>GLD</th>\n",
       "      <th>QQQ</th>\n",
       "    </tr>\n",
       "  </thead>\n",
       "  <tbody>\n",
       "    <tr>\n",
       "      <th>2004-11-18</th>\n",
       "      <td>44.380001</td>\n",
       "      <td>34.003872</td>\n",
       "      <td>44.380001</td>\n",
       "      <td>39.290001</td>\n",
       "      <td>44.490002</td>\n",
       "      <td>39.360001</td>\n",
       "      <td>44.070000</td>\n",
       "      <td>38.889999</td>\n",
       "      <td>44.430000</td>\n",
       "      <td>38.980000</td>\n",
       "      <td>5992000.0</td>\n",
       "      <td>94901100.0</td>\n",
       "    </tr>\n",
       "    <tr>\n",
       "      <th>2004-11-19</th>\n",
       "      <td>44.779999</td>\n",
       "      <td>33.475933</td>\n",
       "      <td>44.779999</td>\n",
       "      <td>38.680000</td>\n",
       "      <td>44.919998</td>\n",
       "      <td>39.290001</td>\n",
       "      <td>44.470001</td>\n",
       "      <td>38.590000</td>\n",
       "      <td>44.490002</td>\n",
       "      <td>39.240002</td>\n",
       "      <td>11655300.0</td>\n",
       "      <td>118448900.0</td>\n",
       "    </tr>\n",
       "    <tr>\n",
       "      <th>2004-11-20</th>\n",
       "      <td>0.000000</td>\n",
       "      <td>0.000000</td>\n",
       "      <td>0.000000</td>\n",
       "      <td>0.000000</td>\n",
       "      <td>0.000000</td>\n",
       "      <td>0.000000</td>\n",
       "      <td>0.000000</td>\n",
       "      <td>0.000000</td>\n",
       "      <td>0.000000</td>\n",
       "      <td>0.000000</td>\n",
       "      <td>0.0</td>\n",
       "      <td>0.0</td>\n",
       "    </tr>\n",
       "  </tbody>\n",
       "</table>\n",
       "</div>"
      ],
      "text/plain": [
       "            Adj Close                 Close                  High             \\\n",
       "                  GLD        QQQ        GLD        QQQ        GLD        QQQ   \n",
       "2004-11-18  44.380001  34.003872  44.380001  39.290001  44.490002  39.360001   \n",
       "2004-11-19  44.779999  33.475933  44.779999  38.680000  44.919998  39.290001   \n",
       "2004-11-20   0.000000   0.000000   0.000000   0.000000   0.000000   0.000000   \n",
       "\n",
       "                  Low                  Open                 Volume  \\\n",
       "                  GLD        QQQ        GLD        QQQ         GLD   \n",
       "2004-11-18  44.070000  38.889999  44.430000  38.980000   5992000.0   \n",
       "2004-11-19  44.470001  38.590000  44.490002  39.240002  11655300.0   \n",
       "2004-11-20   0.000000   0.000000   0.000000   0.000000         0.0   \n",
       "\n",
       "                         \n",
       "                    QQQ  \n",
       "2004-11-18   94901100.0  \n",
       "2004-11-19  118448900.0  \n",
       "2004-11-20          0.0  "
      ]
     },
     "execution_count": 60,
     "metadata": {},
     "output_type": "execute_result"
    }
   ],
   "source": [
    "start = df_price.index[0] \n",
    "end   = df_price.index[-1]\n",
    "df_new_index = pd.date_range(start,end)\n",
    "df_price = df_price.reindex(df_new_index)\n",
    "\n",
    "df_price.isna().sum()\n",
    "df_price.replace(np.NaN, 0, inplace=True)\n",
    "df_price[0:3]"
   ]
  },
  {
   "cell_type": "code",
   "execution_count": 61,
   "metadata": {},
   "outputs": [],
   "source": [
    "for today in df_price.index[1:]:\n",
    "  for col in df_price.columns.values:\n",
    "    if df_price[col][today] == 0:\n",
    "      df_price[col][today] = df_price[col][today-datetime.timedelta(days=1)]"
   ]
  },
  {
   "cell_type": "code",
   "execution_count": 81,
   "metadata": {},
   "outputs": [
    {
     "data": {
      "text/html": [
       "<div>\n",
       "<style scoped>\n",
       "    .dataframe tbody tr th:only-of-type {\n",
       "        vertical-align: middle;\n",
       "    }\n",
       "\n",
       "    .dataframe tbody tr th {\n",
       "        vertical-align: top;\n",
       "    }\n",
       "\n",
       "    .dataframe thead th {\n",
       "        text-align: right;\n",
       "    }\n",
       "</style>\n",
       "<table border=\"1\" class=\"dataframe\">\n",
       "  <thead>\n",
       "    <tr style=\"text-align: right;\">\n",
       "      <th></th>\n",
       "      <th>GLD</th>\n",
       "      <th>QQQ</th>\n",
       "      <th>QQQ_qty</th>\n",
       "      <th>GLD_qty</th>\n",
       "      <th>QQQ_capital</th>\n",
       "      <th>GLD_capital</th>\n",
       "      <th>Total</th>\n",
       "    </tr>\n",
       "  </thead>\n",
       "  <tbody>\n",
       "    <tr>\n",
       "      <th>2004-11-18</th>\n",
       "      <td>44.380001</td>\n",
       "      <td>39.290001</td>\n",
       "      <td>0</td>\n",
       "      <td>0</td>\n",
       "      <td>0</td>\n",
       "      <td>0</td>\n",
       "      <td>0</td>\n",
       "    </tr>\n",
       "    <tr>\n",
       "      <th>2004-11-19</th>\n",
       "      <td>44.779999</td>\n",
       "      <td>38.680000</td>\n",
       "      <td>0</td>\n",
       "      <td>0</td>\n",
       "      <td>0</td>\n",
       "      <td>0</td>\n",
       "      <td>0</td>\n",
       "    </tr>\n",
       "    <tr>\n",
       "      <th>2004-11-20</th>\n",
       "      <td>44.779999</td>\n",
       "      <td>38.680000</td>\n",
       "      <td>0</td>\n",
       "      <td>0</td>\n",
       "      <td>0</td>\n",
       "      <td>0</td>\n",
       "      <td>0</td>\n",
       "    </tr>\n",
       "  </tbody>\n",
       "</table>\n",
       "</div>"
      ],
      "text/plain": [
       "                  GLD        QQQ  QQQ_qty  GLD_qty  QQQ_capital  GLD_capital  \\\n",
       "2004-11-18  44.380001  39.290001        0        0            0            0   \n",
       "2004-11-19  44.779999  38.680000        0        0            0            0   \n",
       "2004-11-20  44.779999  38.680000        0        0            0            0   \n",
       "\n",
       "            Total  \n",
       "2004-11-18      0  \n",
       "2004-11-19      0  \n",
       "2004-11-20      0  "
      ]
     },
     "execution_count": 81,
     "metadata": {},
     "output_type": "execute_result"
    }
   ],
   "source": [
    "trading_df = pd.DataFrame(df_price['Close'])\n",
    "\n",
    "etfs = np.array(trading_df.columns.values)[::-1]\n",
    "\n",
    "trading_df[[etf+'_qty' for etf in etfs]]     = 0\n",
    "trading_df[[etf+'_capital' for etf in etfs]] = 0\n",
    "trading_df['Total'] = 0\n",
    "trading_df[0:3]"
   ]
  },
  {
   "cell_type": "code",
   "execution_count": 82,
   "metadata": {},
   "outputs": [],
   "source": [
    "import datetime\n",
    "from dateutil import relativedelta\n",
    "\n",
    "def get_pivot(year, month, day):\n",
    "  pivot_date = datetime.datetime.strptime(\"%d-%d-%d\"%(year,month,day), \"%Y-%m-%d\")\n",
    "  return pivot_date\n",
    "\n",
    "def get_next_month(today:datetime):\n",
    "    nextmonth = today + relativedelta.relativedelta(months=1)\n",
    "    return nextmonth\n",
    "\n",
    "def set_reblancing_date(trading_df, start_date, end_date):\n",
    "  trading_df['Pivot'] = 0\n",
    "  trading_df.loc[start_date,'Pivot'] = 1\n",
    "  trading_df.loc[end_date,'Pivot'] = 1\n",
    "  iter_date = start_date\n",
    "  while iter_date < end_date:\n",
    "    AW_4_  = (iter_date.month==4)\n",
    "    AW_11_ = (iter_date.month==11)\n",
    "    if (AW_4_ or AW_11_):\n",
    "      pivot_date = get_pivot(iter_date.year,iter_date.month,28)\n",
    "      trading_df.loc[pivot_date,'Pivot'] = 1 \n",
    "    iter_date = get_next_month(iter_date)\n",
    "  return trading_df"
   ]
  },
  {
   "cell_type": "code",
   "execution_count": 83,
   "metadata": {},
   "outputs": [
    {
     "data": {
      "text/html": [
       "<div>\n",
       "<style scoped>\n",
       "    .dataframe tbody tr th:only-of-type {\n",
       "        vertical-align: middle;\n",
       "    }\n",
       "\n",
       "    .dataframe tbody tr th {\n",
       "        vertical-align: top;\n",
       "    }\n",
       "\n",
       "    .dataframe thead th {\n",
       "        text-align: right;\n",
       "    }\n",
       "</style>\n",
       "<table border=\"1\" class=\"dataframe\">\n",
       "  <thead>\n",
       "    <tr style=\"text-align: right;\">\n",
       "      <th></th>\n",
       "      <th>GLD</th>\n",
       "      <th>QQQ</th>\n",
       "      <th>QQQ_qty</th>\n",
       "      <th>GLD_qty</th>\n",
       "      <th>QQQ_capital</th>\n",
       "      <th>GLD_capital</th>\n",
       "      <th>Total</th>\n",
       "      <th>Pivot</th>\n",
       "    </tr>\n",
       "  </thead>\n",
       "  <tbody>\n",
       "    <tr>\n",
       "      <th>2021-01-03</th>\n",
       "      <td>178.360001</td>\n",
       "      <td>313.739990</td>\n",
       "      <td>0</td>\n",
       "      <td>0</td>\n",
       "      <td>0</td>\n",
       "      <td>0</td>\n",
       "      <td>0</td>\n",
       "      <td>1</td>\n",
       "    </tr>\n",
       "    <tr>\n",
       "      <th>2021-01-04</th>\n",
       "      <td>182.330002</td>\n",
       "      <td>309.309998</td>\n",
       "      <td>0</td>\n",
       "      <td>0</td>\n",
       "      <td>0</td>\n",
       "      <td>0</td>\n",
       "      <td>0</td>\n",
       "      <td>0</td>\n",
       "    </tr>\n",
       "    <tr>\n",
       "      <th>2021-01-05</th>\n",
       "      <td>182.869995</td>\n",
       "      <td>311.859985</td>\n",
       "      <td>0</td>\n",
       "      <td>0</td>\n",
       "      <td>0</td>\n",
       "      <td>0</td>\n",
       "      <td>0</td>\n",
       "      <td>0</td>\n",
       "    </tr>\n",
       "  </tbody>\n",
       "</table>\n",
       "</div>"
      ],
      "text/plain": [
       "                   GLD         QQQ  QQQ_qty  GLD_qty  QQQ_capital  \\\n",
       "2021-01-03  178.360001  313.739990        0        0            0   \n",
       "2021-01-04  182.330002  309.309998        0        0            0   \n",
       "2021-01-05  182.869995  311.859985        0        0            0   \n",
       "\n",
       "            GLD_capital  Total  Pivot  \n",
       "2021-01-03            0      0      1  \n",
       "2021-01-04            0      0      0  \n",
       "2021-01-05            0      0      0  "
      ]
     },
     "execution_count": 83,
     "metadata": {},
     "output_type": "execute_result"
    }
   ],
   "source": [
    "# Sim Env\n",
    "start_date = datetime.datetime.strptime('2021-01-03', '%Y-%m-%d')\n",
    "end_date   = datetime.datetime.strptime('2022-03-28', '%Y-%m-%d')\n",
    "period = (start_date <= trading_df.index) & (end_date >= trading_df.index)\n",
    "trading_df = trading_df.loc[period]\n",
    "\n",
    "init_capital = 1_000_000\n",
    "\n",
    "trading_df = set_reblancing_date(trading_df,start_date, end_date)\n",
    "trading_df[0:3]"
   ]
  },
  {
   "cell_type": "code",
   "execution_count": 90,
   "metadata": {},
   "outputs": [
    {
     "data": {
      "text/html": [
       "<div>\n",
       "<style scoped>\n",
       "    .dataframe tbody tr th:only-of-type {\n",
       "        vertical-align: middle;\n",
       "    }\n",
       "\n",
       "    .dataframe tbody tr th {\n",
       "        vertical-align: top;\n",
       "    }\n",
       "\n",
       "    .dataframe thead th {\n",
       "        text-align: right;\n",
       "    }\n",
       "</style>\n",
       "<table border=\"1\" class=\"dataframe\">\n",
       "  <thead>\n",
       "    <tr style=\"text-align: right;\">\n",
       "      <th></th>\n",
       "      <th>GLD</th>\n",
       "      <th>QQQ</th>\n",
       "      <th>QQQ_qty</th>\n",
       "      <th>GLD_qty</th>\n",
       "      <th>QQQ_capital</th>\n",
       "      <th>GLD_capital</th>\n",
       "      <th>Total</th>\n",
       "      <th>Pivot</th>\n",
       "      <th>Yield</th>\n",
       "      <th>MDD</th>\n",
       "    </tr>\n",
       "  </thead>\n",
       "  <tbody>\n",
       "    <tr>\n",
       "      <th>2021-01-03</th>\n",
       "      <td>178.360001</td>\n",
       "      <td>313.739990</td>\n",
       "      <td>2390</td>\n",
       "      <td>1401</td>\n",
       "      <td>749838.576660</td>\n",
       "      <td>249882.360855</td>\n",
       "      <td>9.994072e+05</td>\n",
       "      <td>1</td>\n",
       "      <td>-0.059280</td>\n",
       "      <td>0</td>\n",
       "    </tr>\n",
       "    <tr>\n",
       "      <th>2021-01-04</th>\n",
       "      <td>182.330002</td>\n",
       "      <td>309.309998</td>\n",
       "      <td>2390</td>\n",
       "      <td>1401</td>\n",
       "      <td>739250.894165</td>\n",
       "      <td>255444.332565</td>\n",
       "      <td>9.943859e+05</td>\n",
       "      <td>0</td>\n",
       "      <td>-0.561408</td>\n",
       "      <td>0</td>\n",
       "    </tr>\n",
       "    <tr>\n",
       "      <th>2021-01-05</th>\n",
       "      <td>182.869995</td>\n",
       "      <td>311.859985</td>\n",
       "      <td>2390</td>\n",
       "      <td>1401</td>\n",
       "      <td>745345.364990</td>\n",
       "      <td>256200.863159</td>\n",
       "      <td>1.001234e+06</td>\n",
       "      <td>0</td>\n",
       "      <td>0.123437</td>\n",
       "      <td>0</td>\n",
       "    </tr>\n",
       "  </tbody>\n",
       "</table>\n",
       "</div>"
      ],
      "text/plain": [
       "                   GLD         QQQ  QQQ_qty  GLD_qty    QQQ_capital  \\\n",
       "2021-01-03  178.360001  313.739990     2390     1401  749838.576660   \n",
       "2021-01-04  182.330002  309.309998     2390     1401  739250.894165   \n",
       "2021-01-05  182.869995  311.859985     2390     1401  745345.364990   \n",
       "\n",
       "              GLD_capital         Total  Pivot     Yield  MDD  \n",
       "2021-01-03  249882.360855  9.994072e+05      1 -0.059280    0  \n",
       "2021-01-04  255444.332565  9.943859e+05      0 -0.561408    0  \n",
       "2021-01-05  256200.863159  1.001234e+06      0  0.123437    0  "
      ]
     },
     "execution_count": 90,
     "metadata": {},
     "output_type": "execute_result"
    }
   ],
   "source": [
    "REBLANCING = 1\n",
    "def buy_portpolio(trading_df, init_capital ,etfs):\n",
    "  capital = init_capital\n",
    "  ratios = [0.75, 0.25] \n",
    "  budgets = (np.ones(len(etfs))*capital)*ratios\n",
    "  qtys   = (budgets/ trading_df.loc[trading_df.index[0],etfs].values).astype(int)\n",
    "\n",
    "  for i, etf in enumerate(etfs):\n",
    "    trading_df.loc[:, etf+'_qty'] = qtys[i] \n",
    "    trading_df[etf+'_capital'] = trading_df[etf+'_qty']*trading_df[etf]\n",
    "  \n",
    "  if REBLANCING:\n",
    "    trading_df['Total'] = trading_df[[etf+'_capital' for etf in etfs]].sum(axis=1)\n",
    "  trading_df['Yield'] = (trading_df['Total']-capital)/capital*100\n",
    "  trading_df['MDD'] = 0\n",
    "  return trading_df\n",
    "\n",
    "trading_df = buy_portpolio(trading_df, init_capital, etfs)\n",
    "not_reblance = trading_df.copy()\n",
    "trading_df[0:3]"
   ]
  },
  {
   "cell_type": "code",
   "execution_count": 91,
   "metadata": {},
   "outputs": [
    {
     "name": "stdout",
     "output_type": "stream",
     "text": [
      "CQGR: 4.05 %\n",
      "CAGR: 12.64 %\n",
      "CMGR: 0.85 %\n",
      "MDD: -14.41 %\n"
     ]
    },
    {
     "data": {
      "text/plain": [
       "<matplotlib.legend.Legend at 0x7f604dbbc0d0>"
      ]
     },
     "execution_count": 91,
     "metadata": {},
     "output_type": "execute_result"
    },
    {
     "data": {
      "image/png": "[encoded data removed]",
      "text/plain": [
       "<Figure size 432x288 with 1 Axes>"
      ]
     },
     "metadata": {
      "needs_background": "light"
     },
     "output_type": "display_data"
    }
   ],
   "source": [
    "# Reblancing\n",
    "index = trading_df.loc[trading_df['Pivot']==True,:].index.values\n",
    "\n",
    "for i in range(len(index)-1):\n",
    "  period = (index[i] <= trading_df.index) & (index[i+1] >= trading_df.index)\n",
    "  quater_df = trading_df.loc[period,:].copy()\n",
    "  \n",
    "  quater_capital = 0\n",
    "  for etf in etfs:\n",
    "    quater_capital = quater_capital + quater_df.iloc[0].xs(etf+'_capital')\n",
    "  quater_df = buy_portpolio(quater_df, quater_capital, etfs)\n",
    "\n",
    "  # MDD\n",
    "  maximum = quater_df['Yield'][quater_df['Yield'].idxmax()]\n",
    "  minimum = quater_df['Yield'].loc[  (quater_df['Yield'].idxmax()<=quater_df.index)].min()\n",
    "  quater_df['MDD'] = minimum-maximum\n",
    "  trading_df.loc[period,:] = quater_df\n",
    "\n",
    "# CQGR ,CAGR\n",
    "cqgr = (trading_df['Total'][-1] / init_capital)**(1/(len(index)-1))\n",
    "cqgr = round((cqgr-1)*100,2)\n",
    "print('CQGR: %.2f %%'%cqgr)\n",
    "\n",
    "years = (end_date.year-start_date.year)\n",
    "years = years if years else 1\n",
    "cagr = (trading_df['Total'][-1] / init_capital)**(1/(years))\n",
    "cagr = round((cagr-1)*100,2)\n",
    "print('CAGR: %.2f %%'%cagr)\n",
    "\n",
    "months = ((end_date.year-start_date.year)*12 + (end_date.month-start_date.month))\n",
    "months = months if months else 1\n",
    "cmgr = (trading_df['Total'][-1] / init_capital)**(1/months)\n",
    "cmgr = round((cmgr-1)*100,2)\n",
    "print('CMGR: %.2f %%'%cmgr)\n",
    "\n",
    "\n",
    "# MDD\n",
    "mdd = trading_df['MDD'].min()\n",
    "print('MDD: %.2f %%'%mdd)\n",
    "\n",
    "\n",
    "#trading_df[['QQQ_capital', 'GLD_capital']].plot()\n",
    "trading_df['Yield'].plot(label='Yield [%]')\n",
    "trading_df['MDD'].plot(label='Max Drawdown [%]')\n",
    "plt.legend()\n",
    "#plt.ylabel('[%]')"
   ]
  },
  {
   "cell_type": "code",
   "execution_count": 92,
   "metadata": {},
   "outputs": [
    {
     "data": {
      "text/plain": [
       "<AxesSubplot:>"
      ]
     },
     "execution_count": 92,
     "metadata": {},
     "output_type": "execute_result"
    },
    {
     "data": {
      "image/png": "[encoded data removed]",
      "text/plain": [
       "<Figure size 432x288 with 1 Axes>"
      ]
     },
     "metadata": {
      "needs_background": "light"
     },
     "output_type": "display_data"
    }
   ],
   "source": [
    "#trading_df[['QQQ_capital', 'GLD_capital']].plot()\n",
    "not_reblance['Total'].plot()\n",
    "trading_df['Total'].plot()"
   ]
  },
  {
   "cell_type": "code",
   "execution_count": null,
   "metadata": {},
   "outputs": [],
   "source": []
  }
 ],
 "metadata": {
  "interpreter": {
   "hash": "f9f85f796d01129d0dd105a088854619f454435301f6ffec2fea96ecbd9be4ac"
  },
  "kernelspec": {
   "display_name": "Python 3.9.10 64-bit",
   "language": "python",
   "name": "python3"
  },
  "language_info": {
   "codemirror_mode": {
    "name": "ipython",
    "version": 3
   },
   "file_extension": ".py",
   "mimetype": "text/x-python",
   "name": "python",
   "nbconvert_exporter": "python",
   "pygments_lexer": "ipython3",
   "version": "3.9.10"
  },
  "orig_nbformat": 4
 },
 "nbformat": 4,
 "nbformat_minor": 2
}
