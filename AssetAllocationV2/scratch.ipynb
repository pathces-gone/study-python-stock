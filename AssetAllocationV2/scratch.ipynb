{
 "cells": [
  {
   "cell_type": "code",
   "execution_count": 1,
   "metadata": {},
   "outputs": [],
   "source": [
    "import numpy as np\n",
    "import pandas as pd\n",
    "from pandas_datareader import data as pdr\n",
    "import yfinance as yf\n",
    "import FinanceDataReader as fdr #pip3 install --user finance-datareader\n",
    "from fredapi import Fred\n",
    "import datetime, os\n",
    "\n",
    "import matplotlib.pyplot as plt\n",
    "from scipy.signal import find_peaks\n",
    "import numpy as np\n"
   ]
  },
  {
   "cell_type": "code",
   "execution_count": 2,
   "metadata": {},
   "outputs": [
    {
     "name": "stdout",
     "output_type": "stream",
     "text": [
      "[*********************100%***********************]  2 of 2 completed\n"
     ]
    }
   ],
   "source": [
    "#ticker='msft aapl goog'#'SPY'\n",
    "tickers=['QQQ','GLD']\n",
    "yf.pdr_override()\n",
    "df_price = pdr.get_data_yahoo(tickers)\n",
    "df_price.isnull().sum()\n",
    "df_price.dropna(axis=0,inplace=True)"
   ]
  },
  {
   "cell_type": "code",
   "execution_count": 3,
   "metadata": {},
   "outputs": [],
   "source": [
    "start = df_price.index[0] \n",
    "end   = df_price.index[-1]\n",
    "df_new_index = pd.date_range(start,end)\n",
    "df_price = df_price.reindex(df_new_index)\n",
    "\n",
    "df_price.isna().sum()\n",
    "df_price.replace(np.NaN, 0, inplace=True)\n",
    "#df_price[0:3]"
   ]
  },
  {
   "cell_type": "code",
   "execution_count": 4,
   "metadata": {},
   "outputs": [],
   "source": [
    "for today in df_price.index[1:]:\n",
    "  for col in df_price.columns.values:\n",
    "    if df_price[col][today] == 0:\n",
    "      df_price[col][today] = df_price[col][today-datetime.timedelta(days=1)]"
   ]
  },
  {
   "cell_type": "code",
   "execution_count": 5,
   "metadata": {},
   "outputs": [],
   "source": [
    "trading_df = pd.DataFrame(df_price['Close'])\n",
    "\n",
    "etfs = np.array(trading_df.columns.values)[::-1]\n",
    "\n",
    "trading_df[[etf+'_qty' for etf in etfs]]     = 0\n",
    "trading_df[[etf+'_capital' for etf in etfs]] = 0\n",
    "trading_df['Total'] = 0\n",
    "#trading_df[0:3]"
   ]
  },
  {
   "cell_type": "code",
   "execution_count": 6,
   "metadata": {},
   "outputs": [],
   "source": [
    "import datetime\n",
    "from dateutil import relativedelta\n",
    "\n",
    "def get_pivot(year, month, day):\n",
    "  pivot_date = datetime.datetime.strptime(\"%d-%d-%d\"%(year,month,day), \"%Y-%m-%d\")\n",
    "  return pivot_date\n",
    "\n",
    "def get_next_month(today:datetime):\n",
    "    nextmonth = today + relativedelta.relativedelta(months=1)\n",
    "    return nextmonth\n",
    "\n",
    "def set_reblancing_date(trading_df, start_date, end_date):\n",
    "  trading_df['Pivot'] = 0\n",
    "  trading_df.loc[start_date,'Pivot'] = 1\n",
    "  trading_df.loc[end_date,'Pivot'] = 1\n",
    "  iter_date = start_date\n",
    "  while iter_date < end_date:\n",
    "    AW_4_  = (iter_date.month==4)\n",
    "    AW_11_ = (iter_date.month==11)\n",
    "    if (AW_4_ or AW_11_):\n",
    "      pivot_date = get_pivot(iter_date.year,iter_date.month,28)\n",
    "      trading_df.loc[pivot_date,'Pivot'] = 1 \n",
    "    iter_date = get_next_month(iter_date)\n",
    "  return trading_df"
   ]
  },
  {
   "cell_type": "code",
   "execution_count": 7,
   "metadata": {},
   "outputs": [
    {
     "data": {
      "text/html": [
       "<div>\n",
       "<style scoped>\n",
       "    .dataframe tbody tr th:only-of-type {\n",
       "        vertical-align: middle;\n",
       "    }\n",
       "\n",
       "    .dataframe tbody tr th {\n",
       "        vertical-align: top;\n",
       "    }\n",
       "\n",
       "    .dataframe thead th {\n",
       "        text-align: right;\n",
       "    }\n",
       "</style>\n",
       "<table border=\"1\" class=\"dataframe\">\n",
       "  <thead>\n",
       "    <tr style=\"text-align: right;\">\n",
       "      <th></th>\n",
       "      <th>GLD</th>\n",
       "      <th>QQQ</th>\n",
       "      <th>QQQ_qty</th>\n",
       "      <th>GLD_qty</th>\n",
       "      <th>QQQ_capital</th>\n",
       "      <th>GLD_capital</th>\n",
       "      <th>Total</th>\n",
       "      <th>Pivot</th>\n",
       "    </tr>\n",
       "  </thead>\n",
       "  <tbody>\n",
       "    <tr>\n",
       "      <th>2018-10-30</th>\n",
       "      <td>115.800003</td>\n",
       "      <td>165.919998</td>\n",
       "      <td>0</td>\n",
       "      <td>0</td>\n",
       "      <td>0</td>\n",
       "      <td>0</td>\n",
       "      <td>0</td>\n",
       "      <td>1</td>\n",
       "    </tr>\n",
       "    <tr>\n",
       "      <th>2018-10-31</th>\n",
       "      <td>115.150002</td>\n",
       "      <td>169.820007</td>\n",
       "      <td>0</td>\n",
       "      <td>0</td>\n",
       "      <td>0</td>\n",
       "      <td>0</td>\n",
       "      <td>0</td>\n",
       "      <td>0</td>\n",
       "    </tr>\n",
       "    <tr>\n",
       "      <th>2018-11-01</th>\n",
       "      <td>116.629997</td>\n",
       "      <td>172.059998</td>\n",
       "      <td>0</td>\n",
       "      <td>0</td>\n",
       "      <td>0</td>\n",
       "      <td>0</td>\n",
       "      <td>0</td>\n",
       "      <td>0</td>\n",
       "    </tr>\n",
       "  </tbody>\n",
       "</table>\n",
       "</div>"
      ],
      "text/plain": [
       "                   GLD         QQQ  QQQ_qty  GLD_qty  QQQ_capital  \\\n",
       "2018-10-30  115.800003  165.919998        0        0            0   \n",
       "2018-10-31  115.150002  169.820007        0        0            0   \n",
       "2018-11-01  116.629997  172.059998        0        0            0   \n",
       "\n",
       "            GLD_capital  Total  Pivot  \n",
       "2018-10-30            0      0      1  \n",
       "2018-10-31            0      0      0  \n",
       "2018-11-01            0      0      0  "
      ]
     },
     "execution_count": 7,
     "metadata": {},
     "output_type": "execute_result"
    }
   ],
   "source": [
    "# Sim Env\n",
    "# 2010-2011 & 2018-2019\n",
    "start_date = '2018-10-30'\n",
    "end_date   = '2018-12-31'\n",
    "start_date = datetime.datetime.strptime(start_date, '%Y-%m-%d')\n",
    "end_date   = datetime.datetime.strptime(end_date, '%Y-%m-%d')\n",
    "period = (start_date <= trading_df.index) & (end_date >= trading_df.index)\n",
    "trading_df = trading_df.loc[period]\n",
    "\n",
    "init_capital = 1_000_000\n",
    "\n",
    "trading_df = set_reblancing_date(trading_df,start_date, end_date)\n",
    "trading_df[0:3]"
   ]
  },
  {
   "cell_type": "code",
   "execution_count": 8,
   "metadata": {},
   "outputs": [],
   "source": [
    "def buy_portpolio(trading_df, init_capital ,etfs):\n",
    "  capital = init_capital\n",
    "  ratios = [1, 0] \n",
    "  budgets = (np.ones(len(etfs))*capital)*ratios\n",
    "  qtys   = (budgets/ trading_df.loc[trading_df.index[0],etfs].values).astype(int)\n",
    "\n",
    "  for i, etf in enumerate(etfs):\n",
    "    trading_df.loc[:, etf+'_qty'] = qtys[i] \n",
    "    trading_df[etf+'_capital'] = trading_df[etf+'_qty']*trading_df[etf]\n",
    "\n",
    "  return trading_df\n",
    "\n",
    "def init_result_columns(trading_df):\n",
    "  capital = init_capital#trading_df['Total'].iloc[0]\n",
    "  trading_df['Total'] = trading_df[[etf+'_capital' for etf in etfs]].sum(axis=1)\n",
    "  trading_df['Yield'] = (trading_df['Total']-capital)/capital*100\n",
    "  trading_df['MDD'] = 0\n",
    "  return trading_df\n",
    "\n",
    "trading_df = buy_portpolio(trading_df, init_capital, etfs)\n",
    "trading_df = init_result_columns(trading_df)\n",
    "not_reblance = trading_df.copy()\n",
    "#trading_df[['QQQ_capital', 'GLD_capital']].plot()\n",
    "#trading_df['Total'].plot()"
   ]
  },
  {
   "cell_type": "code",
   "execution_count": 9,
   "metadata": {},
   "outputs": [
    {
     "name": "stdout",
     "output_type": "stream",
     "text": [
      "[0 1 2 3 4]    val\n",
      "0    6\n",
      "1   13\n",
      "2   15\n",
      "3   21\n",
      "4   25\n"
     ]
    },
    {
     "ename": "KeyError",
     "evalue": "0",
     "output_type": "error",
     "traceback": [
      "\u001b[0;31m---------------------------------------------------------------------------\u001b[0m",
      "\u001b[0;31mKeyError\u001b[0m                                  Traceback (most recent call last)",
      "File \u001b[0;32m~/.local/lib/python3.9/site-packages/pandas/core/indexes/base.py:3621\u001b[0m, in \u001b[0;36mIndex.get_loc\u001b[0;34m(self, key, method, tolerance)\u001b[0m\n\u001b[1;32m   3620\u001b[0m \u001b[38;5;28;01mtry\u001b[39;00m:\n\u001b[0;32m-> 3621\u001b[0m     \u001b[38;5;28;01mreturn\u001b[39;00m \u001b[38;5;28;43mself\u001b[39;49m\u001b[38;5;241;43m.\u001b[39;49m\u001b[43m_engine\u001b[49m\u001b[38;5;241;43m.\u001b[39;49m\u001b[43mget_loc\u001b[49m\u001b[43m(\u001b[49m\u001b[43mcasted_key\u001b[49m\u001b[43m)\u001b[49m\n\u001b[1;32m   3622\u001b[0m \u001b[38;5;28;01mexcept\u001b[39;00m \u001b[38;5;167;01mKeyError\u001b[39;00m \u001b[38;5;28;01mas\u001b[39;00m err:\n",
      "File \u001b[0;32m~/.local/lib/python3.9/site-packages/pandas/_libs/index.pyx:136\u001b[0m, in \u001b[0;36mpandas._libs.index.IndexEngine.get_loc\u001b[0;34m()\u001b[0m\n",
      "File \u001b[0;32m~/.local/lib/python3.9/site-packages/pandas/_libs/index.pyx:163\u001b[0m, in \u001b[0;36mpandas._libs.index.IndexEngine.get_loc\u001b[0;34m()\u001b[0m\n",
      "File \u001b[0;32mpandas/_libs/hashtable_class_helper.pxi:5198\u001b[0m, in \u001b[0;36mpandas._libs.hashtable.PyObjectHashTable.get_item\u001b[0;34m()\u001b[0m\n",
      "File \u001b[0;32mpandas/_libs/hashtable_class_helper.pxi:5206\u001b[0m, in \u001b[0;36mpandas._libs.hashtable.PyObjectHashTable.get_item\u001b[0;34m()\u001b[0m\n",
      "\u001b[0;31mKeyError\u001b[0m: 0",
      "\nThe above exception was the direct cause of the following exception:\n",
      "\u001b[0;31mKeyError\u001b[0m                                  Traceback (most recent call last)",
      "Input \u001b[0;32mIn [9]\u001b[0m, in \u001b[0;36m<module>\u001b[0;34m\u001b[0m\n\u001b[1;32m     52\u001b[0m       quater_df\u001b[38;5;241m.\u001b[39mloc[p,\u001b[38;5;124m'\u001b[39m\u001b[38;5;124mMDD\u001b[39m\u001b[38;5;124m'\u001b[39m] \u001b[38;5;241m=\u001b[39m \u001b[38;5;241m-\u001b[39mdiff[i]\n\u001b[1;32m     53\u001b[0m   \u001b[38;5;28;01mreturn\u001b[39;00m quater_df\n\u001b[0;32m---> 56\u001b[0m quater_df \u001b[38;5;241m=\u001b[39m \u001b[43mMDD\u001b[49m\u001b[43m(\u001b[49m\u001b[43mquater_df\u001b[49m\u001b[43m,\u001b[49m\u001b[43m \u001b[49m\u001b[43mpeaks\u001b[49m\u001b[43m,\u001b[49m\u001b[43m \u001b[49m\u001b[43mpeaks2\u001b[49m\u001b[43m)\u001b[49m\n\u001b[1;32m     58\u001b[0m \u001b[38;5;66;03m# MDD\u001b[39;00m\n\u001b[1;32m     59\u001b[0m \u001b[38;5;66;03m#maximum = quater_df['Yield'][quater_df['Yield'].idxmax()]\u001b[39;00m\n\u001b[1;32m     60\u001b[0m \u001b[38;5;66;03m#minimum = quater_df['Yield'].loc[  (quater_df['Yield'].idxmax()<=quater_df.index)].min()\u001b[39;00m\n\u001b[1;32m     61\u001b[0m \u001b[38;5;66;03m#quater_df['MDD'] = minimum-maximum\u001b[39;00m\n\u001b[1;32m     62\u001b[0m \n\u001b[1;32m     63\u001b[0m \u001b[38;5;66;03m#Save\u001b[39;00m\n\u001b[1;32m     64\u001b[0m trading_df\u001b[38;5;241m.\u001b[39mloc[period,:] \u001b[38;5;241m=\u001b[39m quater_df\n",
      "Input \u001b[0;32mIn [9]\u001b[0m, in \u001b[0;36mMDD\u001b[0;34m(quater_df, peaks, peaks2)\u001b[0m\n\u001b[1;32m     27\u001b[0m \u001b[38;5;28;01mfor\u001b[39;00m i \u001b[38;5;129;01min\u001b[39;00m \u001b[38;5;28mrange\u001b[39m(\u001b[38;5;28mmin\u001b[39m(\u001b[38;5;28mlen\u001b[39m(peaks),\u001b[38;5;28mlen\u001b[39m(peaks2))\u001b[38;5;241m-\u001b[39m\u001b[38;5;241m2\u001b[39m):\n\u001b[1;32m     28\u001b[0m   \u001b[38;5;28mprint\u001b[39m(low_df\u001b[38;5;241m.\u001b[39mindex\u001b[38;5;241m.\u001b[39mvalues, low_df)\n\u001b[0;32m---> 29\u001b[0m   \u001b[38;5;28;01mif\u001b[39;00m capital_df[ \u001b[43mhigh_df\u001b[49m\u001b[43m[\u001b[49m\u001b[43mi\u001b[49m\u001b[43m]\u001b[49m ] \u001b[38;5;241m<\u001b[39m capital_df[high_df[i\u001b[38;5;241m+\u001b[39m\u001b[38;5;241m1\u001b[39m]]:\n\u001b[1;32m     30\u001b[0m     high_df \u001b[38;5;241m=\u001b[39m high_df\u001b[38;5;241m.\u001b[39mdrop(index\u001b[38;5;241m=\u001b[39m[i])\n\u001b[1;32m     31\u001b[0m     low_df \u001b[38;5;241m=\u001b[39m low_df\u001b[38;5;241m.\u001b[39mdrop(index\u001b[38;5;241m=\u001b[39m[i])\n",
      "File \u001b[0;32m~/.local/lib/python3.9/site-packages/pandas/core/frame.py:3506\u001b[0m, in \u001b[0;36mDataFrame.__getitem__\u001b[0;34m(self, key)\u001b[0m\n\u001b[1;32m   3504\u001b[0m \u001b[38;5;28;01mif\u001b[39;00m \u001b[38;5;28mself\u001b[39m\u001b[38;5;241m.\u001b[39mcolumns\u001b[38;5;241m.\u001b[39mnlevels \u001b[38;5;241m>\u001b[39m \u001b[38;5;241m1\u001b[39m:\n\u001b[1;32m   3505\u001b[0m     \u001b[38;5;28;01mreturn\u001b[39;00m \u001b[38;5;28mself\u001b[39m\u001b[38;5;241m.\u001b[39m_getitem_multilevel(key)\n\u001b[0;32m-> 3506\u001b[0m indexer \u001b[38;5;241m=\u001b[39m \u001b[38;5;28;43mself\u001b[39;49m\u001b[38;5;241;43m.\u001b[39;49m\u001b[43mcolumns\u001b[49m\u001b[38;5;241;43m.\u001b[39;49m\u001b[43mget_loc\u001b[49m\u001b[43m(\u001b[49m\u001b[43mkey\u001b[49m\u001b[43m)\u001b[49m\n\u001b[1;32m   3507\u001b[0m \u001b[38;5;28;01mif\u001b[39;00m is_integer(indexer):\n\u001b[1;32m   3508\u001b[0m     indexer \u001b[38;5;241m=\u001b[39m [indexer]\n",
      "File \u001b[0;32m~/.local/lib/python3.9/site-packages/pandas/core/indexes/base.py:3623\u001b[0m, in \u001b[0;36mIndex.get_loc\u001b[0;34m(self, key, method, tolerance)\u001b[0m\n\u001b[1;32m   3621\u001b[0m     \u001b[38;5;28;01mreturn\u001b[39;00m \u001b[38;5;28mself\u001b[39m\u001b[38;5;241m.\u001b[39m_engine\u001b[38;5;241m.\u001b[39mget_loc(casted_key)\n\u001b[1;32m   3622\u001b[0m \u001b[38;5;28;01mexcept\u001b[39;00m \u001b[38;5;167;01mKeyError\u001b[39;00m \u001b[38;5;28;01mas\u001b[39;00m err:\n\u001b[0;32m-> 3623\u001b[0m     \u001b[38;5;28;01mraise\u001b[39;00m \u001b[38;5;167;01mKeyError\u001b[39;00m(key) \u001b[38;5;28;01mfrom\u001b[39;00m \u001b[38;5;21;01merr\u001b[39;00m\n\u001b[1;32m   3624\u001b[0m \u001b[38;5;28;01mexcept\u001b[39;00m \u001b[38;5;167;01mTypeError\u001b[39;00m:\n\u001b[1;32m   3625\u001b[0m     \u001b[38;5;66;03m# If we have a listlike key, _check_indexing_error will raise\u001b[39;00m\n\u001b[1;32m   3626\u001b[0m     \u001b[38;5;66;03m#  InvalidIndexError. Otherwise we fall through and re-raise\u001b[39;00m\n\u001b[1;32m   3627\u001b[0m     \u001b[38;5;66;03m#  the TypeError.\u001b[39;00m\n\u001b[1;32m   3628\u001b[0m     \u001b[38;5;28mself\u001b[39m\u001b[38;5;241m.\u001b[39m_check_indexing_error(key)\n",
      "\u001b[0;31mKeyError\u001b[0m: 0"
     ]
    },
    {
     "data": {
      "image/png": "[encoded data removed]",
      "text/plain": [
       "<Figure size 432x288 with 1 Axes>"
      ]
     },
     "metadata": {
      "needs_background": "light"
     },
     "output_type": "display_data"
    }
   ],
   "source": [
    "# Reblancing\n",
    "index = trading_df.loc[trading_df['Pivot']==True,:].index.values\n",
    "\n",
    "for i in range(len(index)-1):\n",
    "  period = (index[i] <= trading_df.index) & (index[i+1] >= trading_df.index)\n",
    "  quater_df = trading_df.loc[period,:].copy()\n",
    "  if len(quater_df) == 0:\n",
    "    break;\n",
    "\n",
    "  quater_capital = 0\n",
    "  for etf in etfs:\n",
    "    quater_capital = quater_capital + quater_df.iloc[0].xs(etf+'_capital')\n",
    "  quater_df = buy_portpolio(quater_df, quater_capital, etfs)\n",
    "  quater_df = init_result_columns(quater_df)\n",
    "\n",
    "  #peak\n",
    "  peaks, _  = find_peaks(quater_df['Yield'])\n",
    "  peaks2, _ = find_peaks(-quater_df['Yield'])\n",
    "  plt.plot(quater_df.index[peaks],quater_df['Yield'][peaks],'x')\n",
    "  plt.plot(quater_df.index[peaks2],quater_df['Yield'][peaks2],'x')\n",
    "\n",
    "  def MDD(quater_df, peaks, peaks2):\n",
    "    high_df =  pd.DataFrame(peaks, columns=['val'])\n",
    "    low_df  = pd.DataFrame(peaks2, columns=['val'])\n",
    "    capital_df = quater_df['Yield']\n",
    "\n",
    "    for i in range(min(len(peaks),len(peaks2))-2):\n",
    "      print(low_df.index.values, low_df)\n",
    "      if capital_df[ high_df[i] ] < capital_df[high_df[i+1]]:\n",
    "        high_df = high_df.drop(index=[i])\n",
    "        low_df = low_df.drop(index=[i])\n",
    "      else:\n",
    "        if capital_df[ low_df[i] ] > capital_df[low_df[i+1]]:\n",
    "          low_df = low_df.drop(index=[i])\n",
    "      #else:\n",
    "      #  low_df = low_df.drop(index=[i])\n",
    "\n",
    "\n",
    "    peaks  = np.array(high_df.values).reshape(-1)\n",
    "    peaks2 = np.array(low_df.values).reshape(-1)\n",
    "\n",
    "    if 1:\n",
    "      if len(peaks) == len(peaks2):\n",
    "        diff = capital_df[peaks].values - capital_df[peaks2].values\n",
    "        period = list(zip(peaks,peaks2))\n",
    "      elif len(peaks) < len(peaks2):\n",
    "        diff = capital_df[peaks].values - capital_df[peaks2[:len(peaks)]].values \n",
    "        period = list(zip(peaks,peaks2[:len(peaks)]))\n",
    "      else:\n",
    "        diff = capital_df[peaks[:len(peaks2)]].values - capital_df[peaks2].values \n",
    "        period = list(zip(peaks[:len(peaks2)],peaks2))\n",
    "      period = list(map(lambda x: ((capital_df.index[x[0]]<=capital_df.index) & (capital_df.index< capital_df.index[x[1]])), period))\n",
    "\n",
    "      for i,p in enumerate(period):\n",
    "        quater_df.loc[p,'MDD'] = -diff[i]\n",
    "    return quater_df\n",
    "\n",
    "\n",
    "  quater_df = MDD(quater_df, peaks, peaks2)\n",
    "\n",
    "  # MDD\n",
    "  #maximum = quater_df['Yield'][quater_df['Yield'].idxmax()]\n",
    "  #minimum = quater_df['Yield'].loc[  (quater_df['Yield'].idxmax()<=quater_df.index)].min()\n",
    "  #quater_df['MDD'] = minimum-maximum\n",
    "\n",
    "  #Save\n",
    "  trading_df.loc[period,:] = quater_df\n",
    "\n",
    "\n",
    "#trading_df['Total'].plot()      #else:\n",
    "      #  low_df = low_df.drop(index=[i])\n",
    "trading_df['MDD'].plot(label='Max Drawdown [%]')\n",
    "plt.legend()\n",
    "\n",
    "\n",
    "#plt.ylabel('[%]')"
   ]
  },
  {
   "cell_type": "code",
   "execution_count": null,
   "metadata": {},
   "outputs": [],
   "source": [
    "#trading_df[['QQQ_capital', 'GLD_capital']].plot()\n",
    "not_reblance['Total'].plot()\n",
    "trading_df['Total'].plot()"
   ]
  },
  {
   "cell_type": "code",
   "execution_count": null,
   "metadata": {},
   "outputs": [],
   "source": []
  }
 ],
 "metadata": {
  "interpreter": {
   "hash": "f9f85f796d01129d0dd105a088854619f454435301f6ffec2fea96ecbd9be4ac"
  },
  "kernelspec": {
   "display_name": "Python 3.9.10 64-bit",
   "language": "python",
   "name": "python3"
  },
  "language_info": {
   "codemirror_mode": {
    "name": "ipython",
    "version": 3
   },
   "file_extension": ".py",
   "mimetype": "text/x-python",
   "name": "python",
   "nbconvert_exporter": "python",
   "pygments_lexer": "ipython3",
   "version": "3.9.10"
  },
  "orig_nbformat": 4
 },
 "nbformat": 4,
 "nbformat_minor": 2
}
