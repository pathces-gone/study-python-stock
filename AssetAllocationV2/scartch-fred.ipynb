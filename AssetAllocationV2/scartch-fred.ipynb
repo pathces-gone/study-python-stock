{
 "cells": [
  {
   "cell_type": "code",
   "execution_count": null,
   "metadata": {},
   "outputs": [],
   "source": [
    "from fredapi import Fred\n",
    "import os\n",
    "import matplotlib.pyplot as plt\n",
    "\n",
    "\n",
    "if __name__ == '__main__':\n",
    "  start= \"2010-01-03\"\n",
    "  end  = \"2022-02-25\"\n",
    "\n",
    "  key = os.environ.get('FRED_KEY')\n",
    "  fred = Fred(api_key=key)\n",
    "  dgs10 = fred.get_series('DGS10',observation_start=start, observation_end=end)\n",
    "  dgs2  = fred.get_series('DGS2',observation_start=start, observation_end=end)\n",
    "  tb3   = fred.get_series('TB3MS',observation_start=start, observation_end=end)\n",
    "  dgs10_2 = dgs10-dgs2\n"
   ]
  }
 ],
 "metadata": {
  "language_info": {
   "name": "python"
  },
  "orig_nbformat": 4
 },
 "nbformat": 4,
 "nbformat_minor": 2
}
