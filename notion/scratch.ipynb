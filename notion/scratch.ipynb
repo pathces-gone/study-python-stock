{
 "cells": [
  {
   "cell_type": "code",
   "execution_count": 1,
   "metadata": {},
   "outputs": [],
   "source": [
    "#!pip3 uninstall notion -y\n",
    "\n",
    "#!pip3 install --user notion\n",
    "#!pip3 install --user git+https://github.com/jamalex/notion-py.git@refs/pull/294/merge"
   ]
  },
  {
   "cell_type": "code",
   "execution_count": 38,
   "metadata": {},
   "outputs": [],
   "source": [
    "from notion.client import NotionClient\n",
    "import os\n",
    "token_v2 = os.environ.get('NOTION_KEY')\n",
    "page_id = \"https://www.notion.so/Daily-News-Keyword-b0017f60cad34a738a0163e08aa47d06\"\n"
   ]
  },
  {
   "cell_type": "code",
   "execution_count": 39,
   "metadata": {},
   "outputs": [],
   "source": [
    "from bs4 import BeautifulSoup\n",
    "from datetime import datetime\n",
    "import requests\n",
    "\n",
    "keyword = ['IPO', '투자유치']\n",
    "source = 'http://find.mk.co.kr/new/search.php?page=news'\n",
    " \n",
    "def MK():\n",
    "    MK_NewsList = []\n",
    "    for onekeyword in keyword:\n",
    "        searchlink = source + '&s_keyword=' + onekeyword\n",
    "        for i in range(1, 3): #페이지 3개 크롤링\n",
    "            searchlink += '&pageNum=' + str(i)\n",
    "            req = requests.get(searchlink)\n",
    "            soup = BeautifulSoup(req.content.decode('euc-kr', 'replace'))\n",
    " \n",
    "            rawnews = soup.select('.sub_list')\n",
    " \n",
    "            for onenews in rawnews:\n",
    "                title = onenews.select('span > a')[0].text\n",
    "                newsurl = onenews.select('span > a')[0].get('href')\n",
    "                published_date = onenews.select('span.art_time')[0].text\n",
    "                published_date = published_date[-24:]\n",
    "                published_date = published_date[0:4] + '-' + published_date[6:8] + '-' + published_date[10:12] + ' ' + published_date[-9:]\n",
    "                now = datetime.now()\n",
    "                create_date = \"%s-%02d-%s %02d:%02d:%02d\" % (now.year, now.month, now.day, now.hour, now.minute, now.second)\n",
    " \n",
    "                crawling_one_news = {\n",
    "                    '기사 제목' : title,\n",
    "                    '기사 링크' : newsurl,\n",
    "                    '기사 날짜' : published_date,\n",
    "                    '키워드' : onekeyword,\n",
    "                    '출처' : '매일경제',\n",
    "                    '크롤링 날짜' : create_date\n",
    "                }\n",
    " \n",
    "                MK_NewsList.append(crawling_one_news)\n",
    " \n",
    "    return MK_NewsList\n"
   ]
  },
  {
   "cell_type": "code",
   "execution_count": 40,
   "metadata": {},
   "outputs": [],
   "source": [
    "from notion.client import *\n",
    "from notion.block import *\n",
    " \n",
    "# 생성할 표 페이지에 들어가는 정보입니다. 제목, url링크, 날짜 등등이 들어갑니다. (위의 뉴스 데이터 형식과 맞춰주면 됩니다.)\n",
    "def get_collection_schema():\n",
    "    return {\n",
    "        \"title\" : {\"name\" : \"title\", \"type\" : \"text\"},\n",
    "        \"url\" : {\"name\" : \"url\", \"type\" : \"url\"},\n",
    "        \"crawlingdate\" : {\"name\" : \"crawlingdate\", \"type\" : \"text\"},\n",
    "        \"publisheddate\" : {\"name\" : \"publisheddate\" , \"type\" : \"text\"},\n",
    "        \"source\" : {\"name\" : \"source\", \"type\" : \"text\"},\n",
    "        \"keyword\" : {\"name\" : \"keyword\", \"type\" : \"text\"}\n",
    "    }\n",
    " \n",
    "token = token_v2 # 여러분들이 위에서 찾은 토큰을 입력하세요\n",
    "url = page_id\n",
    "\n",
    "\n",
    "# 위에서 했던 작업이죠? 클라이언트를 만들고 페이지 정보를 가져옵시다.\n",
    "client = NotionClient(token_v2 = token_v2)\n",
    "page = client.get_block(url)\n",
    " \n",
    "# 위에서 작성한 url에서 새로운 페이지를 만듭니다. 이 페이지는 노션의 collection 형식의 페이지고 여기에 크롤링한 정보들을 넣어줍니다.\n",
    "child_page = page.children.add_new(CollectionViewPageBlock)\n",
    "child_page.collection = client.get_collection(\n",
    "    client.create_record('collection', parent=child_page, schema=get_collection_schema())\n",
    ")\n",
    "child_page.title = \"매일경제 크롤링\" # 페이지 제목입니다."
   ]
  },
  {
   "cell_type": "code",
   "execution_count": 42,
   "metadata": {},
   "outputs": [],
   "source": [
    "news = MK() # news 변수에 크롤링한 뉴스 내용들이 들어갑니다.\n",
    "\n",
    "for onenews in news:\n",
    "     row = child_page.collection.add_row() # 표에서 한 row를 생성해줍니다.\n",
    "     row.title = onenews['기사 제목']\n",
    "     row.source = onenews['출처']\n",
    "     row.publisheddate = onenews['기사 날짜']\n",
    "     row.crawlingdate = onenews['크롤링 날짜']\n",
    "     row.url = onenews['기사 링크']\n",
    "     row.keyword = onenews['키워드']\n",
    " \n",
    "view = child_page.views.add_new(view_type='table') # 이렇게 view까지 선언해주면 끝!"
   ]
  },
  {
   "cell_type": "code",
   "execution_count": null,
   "metadata": {},
   "outputs": [],
   "source": []
  }
 ],
 "metadata": {
  "interpreter": {
   "hash": "d5d6f9088dec911ee94529a71f604ab69d01a047e7a8e97299651377083ed1ac"
  },
  "kernelspec": {
   "display_name": "Python 3.9.10 ('tf25')",
   "language": "python",
   "name": "python3"
  },
  "language_info": {
   "codemirror_mode": {
    "name": "ipython",
    "version": 3
   },
   "file_extension": ".py",
   "mimetype": "text/x-python",
   "name": "python",
   "nbconvert_exporter": "python",
   "pygments_lexer": "ipython3",
   "version": "3.9.10"
  },
  "orig_nbformat": 4
 },
 "nbformat": 4,
 "nbformat_minor": 2
}
