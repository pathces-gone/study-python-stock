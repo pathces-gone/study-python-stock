{
 "cells": [
  {
   "cell_type": "markdown",
   "metadata": {},
   "source": [
    "# 02 Plotting Candlestick chart.\n",
    "\n",
    "* **Original Text**: https://excelsior-cjh.tistory.com/108?category=975542 [EXCELSIOR]\n",
    "\n",
    "* **Final Edit**: 2021-08-03"
   ]
  },
  {
   "cell_type": "code",
   "execution_count": null,
   "metadata": {},
   "outputs": [],
   "source": [
    "import pandas as pd\n",
    "import requests\n",
    "from bs4 import BeautifulSoup as bs\n",
    "\n",
    "headers = {'user-agent': 'Mozilla/5.0 (Macintosh; Intel Mac OS X 10_15_7) AppleWebKit/537.36 (KHTML, like Gecko) Chrome/88.0.4324.96 Safari/537.36'}\n",
    "\n",
    "def get_url(item_name, code_df): \n",
    "  code = code_df.query(\"name=='{}'\".format(item_name))['code'].to_string(index=False) \n",
    "  url = 'http://finance.naver.com/item/sise_day.nhn?code={code}'.format(code=code) \n",
    "  print(\"요청 URL = {}\".format(url)) \n",
    "  return url\n",
    "\n",
    "def get_html_table_symbol(url):\n",
    "  response = requests.get(url, headers=headers)\n",
    "  html = bs(response.text, 'lxml')\n",
    "  html_table = html.select('table')\n",
    "  len(html_table)\n",
    "  return str(html_table)\n",
    "\n",
    "# 1: Get event_code from 상장법인목록.xls\n",
    "code_df = pd.read_html('http://kind.krx.co.kr/corpgeneral/corpList.do?method=download&searchType=13', header=0)[0]\n",
    "code_df.종목코드 = code_df.종목코드.map('{:06d}'.format) \n",
    "code_df = code_df[['회사명', '종목코드']]\n",
    "code_df = code_df.rename(columns={'회사명': 'name', '종목코드': 'code'})\n",
    "\n",
    "# 2. Get stock data from naver finance\n",
    "item_name='삼성전자' \n",
    "url = get_url(item_name, code_df)\n",
    "\n",
    "df = pd.DataFrame()\n",
    "for page in range(1, 21):\n",
    "  pg_url = '{url}&page={page}'.format(url=url, page=page)\n",
    "  table = get_html_table_symbol(pg_url)\n",
    "  df = df.append(pd.read_html(table, header=0)[0], ignore_index=True)\n",
    "df = df.dropna()\n",
    "\n",
    "# 3. Rename columns\n",
    "df = df.rename(columns= {'날짜': 'date', '종가': 'close', '전일비': 'diff', '시가': 'open', '고가': 'high', '저가': 'low', '거래량': 'volume'}) \n",
    "df[['close', 'diff', 'open', 'high', 'low', 'volume']] = df[['close', 'diff', 'open', 'high', 'low', 'volume']].astype(int) \n",
    "df['date'] = pd.to_datetime(df['date']) \n",
    "df = df.sort_values(by=['date'], ascending=True) \n"
   ]
  },
  {
   "cell_type": "code",
   "execution_count": 1,
   "metadata": {},
   "outputs": [
    {
     "data": {
      "text/html": "        <script type=\"text/javascript\">\n        window.PlotlyConfig = {MathJaxConfig: 'local'};\n        if (window.MathJax) {MathJax.Hub.Config({SVG: {font: \"STIX-Web\"}});}\n        if (typeof require !== 'undefined') {\n        require.undef(\"plotly\");\n        requirejs.config({\n            paths: {\n                'plotly': ['https://cdn.plot.ly/plotly-2.2.0.min']\n            }\n        });\n        require(['plotly'], function(Plotly) {\n            window._Plotly = Plotly;\n        });\n        }\n        </script>\n        "
     },
     "metadata": {},
     "output_type": "display_data"
    },
    {
     "ename": "NameError",
     "evalue": "name 'df' is not defined",
     "output_type": "error",
     "traceback": [
      "\u001b[0;31m---------------------------------------------------------------------------\u001b[0m",
      "\u001b[0;31mNameError\u001b[0m                                 Traceback (most recent call last)",
      "\u001b[0;32m/tmp/ipykernel_20324/734384284.py\u001b[0m in \u001b[0;36m<module>\u001b[0;34m\u001b[0m\n\u001b[1;32m      4\u001b[0m \u001b[0moffline\u001b[0m\u001b[0;34m.\u001b[0m\u001b[0minit_notebook_mode\u001b[0m\u001b[0;34m(\u001b[0m\u001b[0mconnected\u001b[0m\u001b[0;34m=\u001b[0m\u001b[0;32mTrue\u001b[0m\u001b[0;34m)\u001b[0m\u001b[0;34m\u001b[0m\u001b[0;34m\u001b[0m\u001b[0m\n\u001b[1;32m      5\u001b[0m \u001b[0;34m\u001b[0m\u001b[0m\n\u001b[0;32m----> 6\u001b[0;31m trace = go.Candlestick(x=df.date_time, \n\u001b[0m\u001b[1;32m      7\u001b[0m                         \u001b[0mopen\u001b[0m\u001b[0;34m=\u001b[0m\u001b[0mdf\u001b[0m\u001b[0;34m.\u001b[0m\u001b[0mopen_price\u001b[0m\u001b[0;34m,\u001b[0m\u001b[0;34m\u001b[0m\u001b[0;34m\u001b[0m\u001b[0m\n\u001b[1;32m      8\u001b[0m                         \u001b[0mhigh\u001b[0m\u001b[0;34m=\u001b[0m\u001b[0mdf\u001b[0m\u001b[0;34m.\u001b[0m\u001b[0mhigh_price\u001b[0m\u001b[0;34m,\u001b[0m\u001b[0;34m\u001b[0m\u001b[0;34m\u001b[0m\u001b[0m\n",
      "\u001b[0;31mNameError\u001b[0m: name 'df' is not defined"
     ]
    }
   ],
   "source": [
    "import plotly.offline as offline \n",
    "import plotly.graph_objs as go \n",
    "\n",
    "offline.init_notebook_mode(connected=True) \n",
    "\n",
    "trace = go.Candlestick(x=df.date_time, \n",
    "                        open=df.open_price, \n",
    "                        high=df.high_price, \n",
    "                        low=df.low_price, \n",
    "                        close=df.close_price) \n",
    "\n",
    "data = [trace] \n",
    "\n",
    "layout = go.Layout(title='셀트리온 캔들차트')\n",
    "fig = go.Figure(data=data, layout=layout) \n",
    "offline.iplot(fig, filename=\"candlestick\")\n"
   ]
  },
  {
   "cell_type": "code",
   "execution_count": null,
   "metadata": {},
   "outputs": [],
   "source": []
  }
 ],
 "metadata": {
  "kernelspec": {
   "display_name": "Python 3.8.10 64-bit",
   "name": "python3810jvsc74a57bd0916dbcbb3f70747c44a77c7bcd40155683ae19c65e1c03b4aa3499c5328201f1"
  },
  "language_info": {
   "codemirror_mode": {
    "name": "ipython",
    "version": 3
   },
   "file_extension": ".py",
   "mimetype": "text/x-python",
   "name": "python",
   "nbconvert_exporter": "python",
   "pygments_lexer": "ipython3",
   "version": "3.8.10"
  },
  "metadata": {
   "interpreter": {
    "hash": "916dbcbb3f70747c44a77c7bcd40155683ae19c65e1c03b4aa3499c5328201f1"
   }
  },
  "orig_nbformat": 2
 },
 "nbformat": 4,
 "nbformat_minor": 2
}