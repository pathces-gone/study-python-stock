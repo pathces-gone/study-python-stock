{
 "cells": [
  {
   "cell_type": "markdown",
   "metadata": {},
   "source": [
    "# 02 Plotting Candlestick chart.\n",
    "\n",
    "* **Reference**: https://plotly.com/python/candlestick-charts\n",
    "* **Reference2**: https://chancoding.tistory.com/116?category=846070 [Endian] [2020] \n",
    "* **Final Edit**: 2021-08-03"
   ]
  },
  {
   "cell_type": "code",
   "execution_count": 1,
   "metadata": {},
   "outputs": [
    {
     "name": "stdout",
     "output_type": "stream",
     "text": [
      "Requirement already satisfied: pandas in /home/temp/.local/lib/python3.8/site-packages (1.2.5)\n",
      "Requirement already satisfied: pytz>=2017.3 in /usr/lib/python3/dist-packages (from pandas) (2019.3)\n",
      "Requirement already satisfied: python-dateutil>=2.7.3 in /usr/lib/python3/dist-packages (from pandas) (2.7.3)\n",
      "Requirement already satisfied: numpy>=1.16.5 in /home/temp/.local/lib/python3.8/site-packages (from pandas) (1.19.4)\n",
      "Requirement already satisfied: html5lib in /home/temp/.local/lib/python3.8/site-packages (1.1)\n",
      "Requirement already satisfied: webencodings in /home/temp/.local/lib/python3.8/site-packages (from html5lib) (0.5.1)\n",
      "Requirement already satisfied: six>=1.9 in /usr/lib/python3/dist-packages (from html5lib) (1.14.0)\n",
      "Requirement already satisfied: BeautifulSoup4 in /home/temp/.local/lib/python3.8/site-packages (4.9.3)\n",
      "Requirement already satisfied: soupsieve>1.2; python_version >= \"3.0\" in /home/temp/.local/lib/python3.8/site-packages (from BeautifulSoup4) (2.2.1)\n",
      "Requirement already satisfied: plotly in /home/temp/.local/lib/python3.8/site-packages (5.1.0)\n",
      "Requirement already satisfied: tenacity>=6.2.0 in /home/temp/.local/lib/python3.8/site-packages (from plotly) (8.0.1)\n",
      "Requirement already satisfied: six in /usr/lib/python3/dist-packages (from plotly) (1.14.0)\n",
      "Requirement already satisfied: nbformat in /home/temp/.local/lib/python3.8/site-packages (5.1.3)\n",
      "Requirement already satisfied: ipython-genutils in /home/temp/.local/lib/python3.8/site-packages (from nbformat) (0.2.0)\n",
      "Requirement already satisfied: jupyter-core in /home/temp/.local/lib/python3.8/site-packages (from nbformat) (4.7.1)\n",
      "Requirement already satisfied: jsonschema!=2.5.0,>=2.4 in /home/temp/.local/lib/python3.8/site-packages (from nbformat) (3.2.0)\n",
      "Requirement already satisfied: traitlets>=4.1 in /home/temp/.local/lib/python3.8/site-packages (from nbformat) (5.0.5)\n",
      "Requirement already satisfied: setuptools in /usr/lib/python3/dist-packages (from jsonschema!=2.5.0,>=2.4->nbformat) (45.2.0)\n",
      "Requirement already satisfied: pyrsistent>=0.14.0 in /home/temp/.local/lib/python3.8/site-packages (from jsonschema!=2.5.0,>=2.4->nbformat) (0.18.0)\n",
      "Requirement already satisfied: attrs>=17.4.0 in /home/temp/.local/lib/python3.8/site-packages (from jsonschema!=2.5.0,>=2.4->nbformat) (19.3.0)\n",
      "Requirement already satisfied: six>=1.11.0 in /usr/lib/python3/dist-packages (from jsonschema!=2.5.0,>=2.4->nbformat) (1.14.0)\n",
      "Requirement already satisfied: mplfinance in /home/temp/.local/lib/python3.8/site-packages (0.12.7a17)\n",
      "Requirement already satisfied: matplotlib in /home/temp/.local/lib/python3.8/site-packages (from mplfinance) (3.4.2)\n",
      "Requirement already satisfied: pandas in /home/temp/.local/lib/python3.8/site-packages (from mplfinance) (1.2.5)\n",
      "Requirement already satisfied: pillow>=6.2.0 in /usr/lib/python3/dist-packages (from matplotlib->mplfinance) (7.0.0)\n",
      "Requirement already satisfied: python-dateutil>=2.7 in /usr/lib/python3/dist-packages (from matplotlib->mplfinance) (2.7.3)\n",
      "Requirement already satisfied: cycler>=0.10 in /home/temp/.local/lib/python3.8/site-packages (from matplotlib->mplfinance) (0.10.0)\n",
      "Requirement already satisfied: kiwisolver>=1.0.1 in /home/temp/.local/lib/python3.8/site-packages (from matplotlib->mplfinance) (1.3.1)\n",
      "Requirement already satisfied: numpy>=1.16 in /home/temp/.local/lib/python3.8/site-packages (from matplotlib->mplfinance) (1.19.4)\n",
      "Requirement already satisfied: pyparsing>=2.2.1 in /home/temp/.local/lib/python3.8/site-packages (from matplotlib->mplfinance) (2.4.7)\n",
      "Requirement already satisfied: pytz>=2017.3 in /usr/lib/python3/dist-packages (from pandas->mplfinance) (2019.3)\n",
      "Requirement already satisfied: six in /usr/lib/python3/dist-packages (from cycler>=0.10->matplotlib->mplfinance) (1.14.0)\n"
     ]
    }
   ],
   "source": [
    "!pip3 install --user pandas\n",
    "!pip3 install --user html5lib\n",
    "!pip3 install --user BeautifulSoup4\n",
    "!pip3 install --user plotly\n",
    "!pip3 install --user nbformat\n",
    "!pip3 install --user mplfinance"
   ]
  },
  {
   "cell_type": "code",
   "execution_count": 3,
   "metadata": {},
   "outputs": [
    {
     "name": "stdout",
     "output_type": "stream",
     "text": [
      "요청 URL = http://finance.naver.com/item/sise_day.nhn?code=005930\n"
     ]
    }
   ],
   "source": [
    "import pandas as pd\n",
    "import requests\n",
    "from bs4 import BeautifulSoup as bs\n",
    "\n",
    "headers = {'user-agent': 'Mozilla/5.0 (Macintosh; Intel Mac OS X 10_15_7) AppleWebKit/537.36 (KHTML, like Gecko) Chrome/88.0.4324.96 Safari/537.36'}\n",
    "\n",
    "def get_url(item_name, code_df): \n",
    "  code = code_df.query(\"name=='{}'\".format(item_name))['code'].to_string(index=False) \n",
    "  url = 'http://finance.naver.com/item/sise_day.nhn?code={code}'.format(code=code) \n",
    "  print(\"요청 URL = {}\".format(url)) \n",
    "  return url\n",
    "\n",
    "def get_html_table_symbol(url):\n",
    "  response = requests.get(url, headers=headers)\n",
    "  html = bs(response.text, 'lxml')\n",
    "  html_table = html.select('table')\n",
    "  len(html_table)\n",
    "  return str(html_table)\n",
    "\n",
    "# 1: Get event_code from 상장법인목록.xls\n",
    "code_df = pd.read_html('http://kind.krx.co.kr/corpgeneral/corpList.do?method=download&searchType=13', header=0)[0]\n",
    "code_df.종목코드 = code_df.종목코드.map('{:06d}'.format) \n",
    "code_df = code_df[['회사명', '종목코드']]\n",
    "code_df = code_df.rename(columns={'회사명': 'name', '종목코드': 'code'})\n",
    "\n",
    "# 2. Get stock data from naver finance\n",
    "item_name='삼성전자' \n",
    "url = get_url(item_name, code_df)\n",
    "\n",
    "df = pd.DataFrame()\n",
    "for page in range(1, 21):\n",
    "  pg_url = '{url}&page={page}'.format(url=url, page=page)\n",
    "  table = get_html_table_symbol(pg_url)\n",
    "  df = df.append(pd.read_html(table, header=0)[0], ignore_index=True)\n",
    "df = df.dropna()\n",
    "\n",
    "# 3. Rename columns\n",
    "df = df.rename(columns= {'날짜': 'date', '종가': 'close', '전일비': 'diff', '시가': 'open', '고가': 'high', '저가': 'low', '거래량': 'volume'}) \n",
    "df[['close', 'diff', 'open', 'high', 'low', 'volume']] = df[['close', 'diff', 'open', 'high', 'low', 'volume']].astype(int) \n",
    "df['date'] = pd.to_datetime(df['date']) \n",
    "df = df.sort_values(by=['date'], ascending=True) \n"
   ]
  },
  {
   "cell_type": "markdown",
   "metadata": {},
   "source": [
    "# 1. Plotly 사용"
   ]
  },
  {
   "cell_type": "code",
   "execution_count": 4,
   "metadata": {},
   "outputs": [
    {
     "data": {
      "text/html": "        <script type=\"text/javascript\">\n        window.PlotlyConfig = {MathJaxConfig: 'local'};\n        if (window.MathJax) {MathJax.Hub.Config({SVG: {font: \"STIX-Web\"}});}\n        if (typeof require !== 'undefined') {\n        require.undef(\"plotly\");\n        requirejs.config({\n            paths: {\n                'plotly': ['https://cdn.plot.ly/plotly-2.2.0.min']\n            }\n        });\n        require(['plotly'], function(Plotly) {\n            window._Plotly = Plotly;\n        });\n        }\n        </script>\n        "
     },
     "metadata": {},
     "output_type": "display_data"
    },
    {
     "data": {
      "application/vnd.plotly.v1+json": {
       "config": {
        "linkText": "Export to plot.ly",
        "plotlyServerURL": "https://plot.ly",
        "showLink": false
       },
       "data": [
        {
         "close": [
          59500,
          60000,
          60900,
          60900,
          60100,
          60200,
          60400,
          59800,
          59000,
          58100,
          56600,
          57400,
          58800,
          58500,
          60300,
          60100,
          60200,
          60200,
          61300,
          61000,
          63200,
          66300,
          65700,
          64800,
          64600,
          64700,
          67500,
          67700,
          66600,
          68000,
          68200,
          66700,
          67800,
          69500,
          69700,
          71500,
          72900,
          71700,
          73900,
          72900,
          73400,
          73800,
          73800,
          73800,
          73300,
          73000,
          73000,
          72300,
          73900,
          77800,
          78700,
          78300,
          81000,
          83000,
          83900,
          82200,
          82900,
          88800,
          91000,
          90600,
          89700,
          89700,
          88000,
          85000,
          87000,
          87200,
          88100,
          86800,
          89400,
          86700,
          85600,
          83700,
          82000,
          83000,
          84400,
          84600,
          82500,
          83500,
          83000,
          82700,
          81600,
          84200,
          84900,
          83200,
          82100,
          82600,
          82200,
          82000,
          82000,
          85300,
          82500,
          83600,
          84000,
          82400,
          82100,
          82000,
          81400,
          80900,
          82000,
          82800,
          81800,
          82800,
          82300,
          82900,
          81900,
          82000,
          81800,
          81000,
          81200,
          81500,
          81600,
          82200,
          81400,
          82900,
          84800,
          85400,
          86000,
          85600,
          84700,
          83600,
          83200,
          84000,
          84000,
          84100,
          83900,
          83300,
          83900,
          82600,
          82400,
          82800,
          83500,
          82900,
          82100,
          81700,
          81500,
          81700,
          82600,
          82300,
          81900,
          83200,
          81200,
          80000,
          78500,
          80100,
          79600,
          79600,
          79500,
          80100,
          79700,
          79900,
          79800,
          79600,
          80100,
          80500,
          80600,
          80800,
          82800,
          82200,
          81900,
          81900,
          81100,
          81000,
          81000,
          80500,
          80900,
          81800,
          80900,
          80500,
          79900,
          80000,
          80100,
          81200,
          81600,
          81900,
          81000,
          80700,
          80100,
          80000,
          80400,
          81200,
          80800,
          79900,
          79400,
          79700,
          79800,
          79500,
          80600,
          79800,
          79000,
          79000,
          78500,
          79700,
          79300,
          78800,
          78500,
          79200,
          79000,
          78500,
          79300,
          81000
         ],
         "decreasing": {
          "line": {
           "color": "blue"
          }
         },
         "high": [
          60400,
          60200,
          60900,
          61500,
          60500,
          60400,
          61100,
          60300,
          59400,
          58500,
          58000,
          57500,
          58900,
          59000,
          60300,
          60800,
          60900,
          60500,
          61400,
          61400,
          63200,
          66700,
          67000,
          66200,
          64800,
          65200,
          67800,
          69500,
          68300,
          68000,
          68400,
          68600,
          68300,
          69900,
          70500,
          72100,
          73500,
          72900,
          73900,
          73800,
          73800,
          74500,
          74100,
          74500,
          73700,
          73700,
          73400,
          73200,
          74000,
          78800,
          80100,
          78900,
          81300,
          84400,
          83900,
          84500,
          84200,
          90000,
          96800,
          91400,
          91200,
          90000,
          91800,
          87300,
          88000,
          89000,
          88600,
          89700,
          89900,
          89200,
          87700,
          85600,
          85000,
          83400,
          86400,
          85400,
          83800,
          84000,
          84200,
          84800,
          82600,
          84500,
          86000,
          84200,
          83600,
          82800,
          84200,
          82900,
          83600,
          85400,
          83400,
          85300,
          84000,
          83200,
          82600,
          83000,
          81900,
          82500,
          82500,
          83500,
          82900,
          83000,
          82900,
          83800,
          82500,
          82300,
          82900,
          81600,
          82100,
          81600,
          81700,
          82300,
          82700,
          83000,
          85200,
          86000,
          86200,
          86200,
          85700,
          84900,
          84100,
          84500,
          84300,
          84500,
          84700,
          84000,
          84000,
          83500,
          83000,
          82900,
          83500,
          83300,
          83200,
          82500,
          82100,
          82400,
          82600,
          82300,
          82100,
          83500,
          82600,
          81200,
          79600,
          80300,
          80900,
          80000,
          79700,
          81500,
          80400,
          80400,
          80500,
          80000,
          80400,
          80600,
          81300,
          81400,
          83000,
          82700,
          82800,
          82600,
          82000,
          81400,
          81700,
          80900,
          81200,
          81900,
          81300,
          81100,
          80000,
          80300,
          80600,
          81400,
          81900,
          82000,
          82100,
          81400,
          80600,
          80400,
          80800,
          81200,
          81300,
          81200,
          79800,
          80000,
          80200,
          79600,
          80600,
          80100,
          79200,
          79000,
          79100,
          79800,
          79900,
          79500,
          79400,
          79200,
          79400,
          78900,
          79500,
          81100
         ],
         "increasing": {
          "line": {
           "color": "red"
          }
         },
         "low": [
          59000,
          59500,
          60100,
          60600,
          59800,
          59800,
          60100,
          59500,
          58800,
          57500,
          56600,
          56000,
          57600,
          57800,
          58800,
          59600,
          60100,
          59500,
          60400,
          60700,
          61000,
          63900,
          65600,
          64700,
          63900,
          63900,
          64700,
          67000,
          66500,
          66000,
          67600,
          66700,
          67100,
          68300,
          69300,
          70100,
          71900,
          71600,
          72000,
          72500,
          73100,
          73200,
          73300,
          73400,
          72600,
          73000,
          72000,
          72100,
          72300,
          74000,
          78200,
          77300,
          77300,
          80200,
          81600,
          82100,
          82700,
          83000,
          89500,
          87800,
          89100,
          88700,
          88000,
          84100,
          83600,
          86500,
          86500,
          86800,
          86300,
          86500,
          85600,
          83200,
          82000,
          81000,
          83700,
          83400,
          82100,
          82500,
          83000,
          82700,
          81600,
          83300,
          84200,
          83000,
          82100,
          81000,
          82200,
          81100,
          81300,
          83000,
          82000,
          83000,
          82800,
          82200,
          81100,
          81600,
          80600,
          80700,
          81000,
          82400,
          81800,
          82100,
          82000,
          82600,
          81800,
          81700,
          81800,
          80700,
          80800,
          81000,
          81000,
          81300,
          81400,
          82000,
          83900,
          84800,
          85100,
          85400,
          84100,
          83400,
          83100,
          82800,
          83400,
          83400,
          83600,
          83300,
          83100,
          82500,
          82400,
          81600,
          82600,
          82500,
          82100,
          81500,
          81500,
          81000,
          81800,
          81700,
          81500,
          81800,
          81100,
          79800,
          78400,
          78900,
          79200,
          79100,
          79100,
          79800,
          79500,
          79800,
          79700,
          79100,
          79400,
          79600,
          80100,
          80300,
          81100,
          81500,
          81600,
          81800,
          81100,
          80900,
          80700,
          80500,
          80600,
          81100,
          80700,
          80500,
          79600,
          79900,
          79900,
          80100,
          81200,
          81600,
          80800,
          80700,
          80000,
          79900,
          80000,
          80500,
          80300,
          79900,
          79000,
          79500,
          79800,
          79100,
          79500,
          79500,
          78800,
          78400,
          78500,
          78900,
          79200,
          78800,
          78500,
          78100,
          78800,
          78500,
          78700,
          79300
         ],
         "open": [
          60000,
          59600,
          60300,
          61200,
          60300,
          60400,
          60400,
          60300,
          59400,
          58200,
          58000,
          56400,
          57900,
          58900,
          59000,
          60700,
          60700,
          60500,
          60700,
          61000,
          61300,
          64000,
          67000,
          65700,
          64100,
          63900,
          64800,
          67900,
          67900,
          66100,
          68000,
          68400,
          67100,
          68400,
          70100,
          70400,
          72400,
          72200,
          72100,
          72700,
          73500,
          73600,
          73800,
          74100,
          73400,
          73300,
          73100,
          72500,
          72400,
          74100,
          79000,
          78800,
          77400,
          81000,
          81600,
          83300,
          82800,
          83300,
          90000,
          90300,
          89800,
          88700,
          89800,
          86600,
          84500,
          89000,
          87500,
          89000,
          87000,
          88800,
          86600,
          83200,
          84500,
          81700,
          84100,
          84800,
          83500,
          83100,
          83800,
          84000,
          82600,
          83800,
          84500,
          83900,
          83200,
          82300,
          83800,
          81200,
          81800,
          84000,
          82800,
          85100,
          83500,
          82600,
          81100,
          82900,
          81400,
          82400,
          81000,
          83100,
          82800,
          82200,
          82800,
          82800,
          82100,
          82000,
          82600,
          81000,
          81000,
          81400,
          81700,
          81600,
          82400,
          82500,
          84000,
          85800,
          86200,
          86100,
          85700,
          84700,
          84100,
          83000,
          84000,
          83700,
          84700,
          83800,
          83300,
          83300,
          82900,
          81900,
          82900,
          83200,
          83200,
          82400,
          81900,
          81000,
          81900,
          81700,
          81800,
          82300,
          82500,
          80800,
          78900,
          79000,
          80800,
          79600,
          79400,
          80100,
          80100,
          80000,
          80400,
          80000,
          79800,
          80300,
          80500,
          80400,
          81300,
          82700,
          82700,
          82300,
          81500,
          81300,
          81200,
          80800,
          80900,
          81500,
          81100,
          81100,
          79700,
          80200,
          80500,
          80400,
          81500,
          81700,
          81900,
          81100,
          80500,
          80000,
          80100,
          80600,
          81200,
          81100,
          79600,
          79900,
          80000,
          79400,
          79800,
          80100,
          79100,
          78500,
          79000,
          79000,
          79700,
          79400,
          79200,
          78300,
          78800,
          78900,
          79200,
          79400
         ],
         "type": "candlestick",
         "x": [
          "2020-10-16T00:00:00",
          "2020-10-19T00:00:00",
          "2020-10-20T00:00:00",
          "2020-10-21T00:00:00",
          "2020-10-22T00:00:00",
          "2020-10-23T00:00:00",
          "2020-10-26T00:00:00",
          "2020-10-27T00:00:00",
          "2020-10-28T00:00:00",
          "2020-10-29T00:00:00",
          "2020-10-30T00:00:00",
          "2020-11-02T00:00:00",
          "2020-11-03T00:00:00",
          "2020-11-04T00:00:00",
          "2020-11-05T00:00:00",
          "2020-11-06T00:00:00",
          "2020-11-09T00:00:00",
          "2020-11-10T00:00:00",
          "2020-11-11T00:00:00",
          "2020-11-12T00:00:00",
          "2020-11-13T00:00:00",
          "2020-11-16T00:00:00",
          "2020-11-17T00:00:00",
          "2020-11-18T00:00:00",
          "2020-11-19T00:00:00",
          "2020-11-20T00:00:00",
          "2020-11-23T00:00:00",
          "2020-11-24T00:00:00",
          "2020-11-25T00:00:00",
          "2020-11-26T00:00:00",
          "2020-11-27T00:00:00",
          "2020-11-30T00:00:00",
          "2020-12-01T00:00:00",
          "2020-12-02T00:00:00",
          "2020-12-03T00:00:00",
          "2020-12-04T00:00:00",
          "2020-12-07T00:00:00",
          "2020-12-08T00:00:00",
          "2020-12-09T00:00:00",
          "2020-12-10T00:00:00",
          "2020-12-11T00:00:00",
          "2020-12-14T00:00:00",
          "2020-12-15T00:00:00",
          "2020-12-16T00:00:00",
          "2020-12-17T00:00:00",
          "2020-12-18T00:00:00",
          "2020-12-21T00:00:00",
          "2020-12-22T00:00:00",
          "2020-12-23T00:00:00",
          "2020-12-24T00:00:00",
          "2020-12-28T00:00:00",
          "2020-12-29T00:00:00",
          "2020-12-30T00:00:00",
          "2021-01-04T00:00:00",
          "2021-01-05T00:00:00",
          "2021-01-06T00:00:00",
          "2021-01-07T00:00:00",
          "2021-01-08T00:00:00",
          "2021-01-11T00:00:00",
          "2021-01-12T00:00:00",
          "2021-01-13T00:00:00",
          "2021-01-14T00:00:00",
          "2021-01-15T00:00:00",
          "2021-01-18T00:00:00",
          "2021-01-19T00:00:00",
          "2021-01-20T00:00:00",
          "2021-01-21T00:00:00",
          "2021-01-22T00:00:00",
          "2021-01-25T00:00:00",
          "2021-01-26T00:00:00",
          "2021-01-27T00:00:00",
          "2021-01-28T00:00:00",
          "2021-01-29T00:00:00",
          "2021-02-01T00:00:00",
          "2021-02-02T00:00:00",
          "2021-02-03T00:00:00",
          "2021-02-04T00:00:00",
          "2021-02-05T00:00:00",
          "2021-02-08T00:00:00",
          "2021-02-09T00:00:00",
          "2021-02-10T00:00:00",
          "2021-02-15T00:00:00",
          "2021-02-16T00:00:00",
          "2021-02-17T00:00:00",
          "2021-02-18T00:00:00",
          "2021-02-19T00:00:00",
          "2021-02-22T00:00:00",
          "2021-02-23T00:00:00",
          "2021-02-24T00:00:00",
          "2021-02-25T00:00:00",
          "2021-02-26T00:00:00",
          "2021-03-02T00:00:00",
          "2021-03-03T00:00:00",
          "2021-03-04T00:00:00",
          "2021-03-05T00:00:00",
          "2021-03-08T00:00:00",
          "2021-03-09T00:00:00",
          "2021-03-10T00:00:00",
          "2021-03-11T00:00:00",
          "2021-03-12T00:00:00",
          "2021-03-15T00:00:00",
          "2021-03-16T00:00:00",
          "2021-03-17T00:00:00",
          "2021-03-18T00:00:00",
          "2021-03-19T00:00:00",
          "2021-03-22T00:00:00",
          "2021-03-23T00:00:00",
          "2021-03-24T00:00:00",
          "2021-03-25T00:00:00",
          "2021-03-26T00:00:00",
          "2021-03-29T00:00:00",
          "2021-03-30T00:00:00",
          "2021-03-31T00:00:00",
          "2021-04-01T00:00:00",
          "2021-04-02T00:00:00",
          "2021-04-05T00:00:00",
          "2021-04-06T00:00:00",
          "2021-04-07T00:00:00",
          "2021-04-08T00:00:00",
          "2021-04-09T00:00:00",
          "2021-04-12T00:00:00",
          "2021-04-13T00:00:00",
          "2021-04-14T00:00:00",
          "2021-04-15T00:00:00",
          "2021-04-16T00:00:00",
          "2021-04-19T00:00:00",
          "2021-04-20T00:00:00",
          "2021-04-21T00:00:00",
          "2021-04-22T00:00:00",
          "2021-04-23T00:00:00",
          "2021-04-26T00:00:00",
          "2021-04-27T00:00:00",
          "2021-04-28T00:00:00",
          "2021-04-29T00:00:00",
          "2021-04-30T00:00:00",
          "2021-05-03T00:00:00",
          "2021-05-04T00:00:00",
          "2021-05-06T00:00:00",
          "2021-05-07T00:00:00",
          "2021-05-10T00:00:00",
          "2021-05-11T00:00:00",
          "2021-05-12T00:00:00",
          "2021-05-13T00:00:00",
          "2021-05-14T00:00:00",
          "2021-05-17T00:00:00",
          "2021-05-18T00:00:00",
          "2021-05-20T00:00:00",
          "2021-05-21T00:00:00",
          "2021-05-24T00:00:00",
          "2021-05-25T00:00:00",
          "2021-05-26T00:00:00",
          "2021-05-27T00:00:00",
          "2021-05-28T00:00:00",
          "2021-05-31T00:00:00",
          "2021-06-01T00:00:00",
          "2021-06-02T00:00:00",
          "2021-06-03T00:00:00",
          "2021-06-04T00:00:00",
          "2021-06-07T00:00:00",
          "2021-06-08T00:00:00",
          "2021-06-09T00:00:00",
          "2021-06-10T00:00:00",
          "2021-06-11T00:00:00",
          "2021-06-14T00:00:00",
          "2021-06-15T00:00:00",
          "2021-06-16T00:00:00",
          "2021-06-17T00:00:00",
          "2021-06-18T00:00:00",
          "2021-06-21T00:00:00",
          "2021-06-22T00:00:00",
          "2021-06-23T00:00:00",
          "2021-06-24T00:00:00",
          "2021-06-25T00:00:00",
          "2021-06-28T00:00:00",
          "2021-06-29T00:00:00",
          "2021-06-30T00:00:00",
          "2021-07-01T00:00:00",
          "2021-07-02T00:00:00",
          "2021-07-05T00:00:00",
          "2021-07-06T00:00:00",
          "2021-07-07T00:00:00",
          "2021-07-08T00:00:00",
          "2021-07-09T00:00:00",
          "2021-07-12T00:00:00",
          "2021-07-13T00:00:00",
          "2021-07-14T00:00:00",
          "2021-07-15T00:00:00",
          "2021-07-16T00:00:00",
          "2021-07-19T00:00:00",
          "2021-07-20T00:00:00",
          "2021-07-21T00:00:00",
          "2021-07-22T00:00:00",
          "2021-07-23T00:00:00",
          "2021-07-26T00:00:00",
          "2021-07-27T00:00:00",
          "2021-07-28T00:00:00",
          "2021-07-29T00:00:00",
          "2021-07-30T00:00:00",
          "2021-08-02T00:00:00",
          "2021-08-03T00:00:00"
         ]
        }
       ],
       "layout": {
        "template": {
         "data": {
          "bar": [
           {
            "error_x": {
             "color": "#2a3f5f"
            },
            "error_y": {
             "color": "#2a3f5f"
            },
            "marker": {
             "line": {
              "color": "#E5ECF6",
              "width": 0.5
             },
             "pattern": {
              "fillmode": "overlay",
              "size": 10,
              "solidity": 0.2
             }
            },
            "type": "bar"
           }
          ],
          "barpolar": [
           {
            "marker": {
             "line": {
              "color": "#E5ECF6",
              "width": 0.5
             },
             "pattern": {
              "fillmode": "overlay",
              "size": 10,
              "solidity": 0.2
             }
            },
            "type": "barpolar"
           }
          ],
          "carpet": [
           {
            "aaxis": {
             "endlinecolor": "#2a3f5f",
             "gridcolor": "white",
             "linecolor": "white",
             "minorgridcolor": "white",
             "startlinecolor": "#2a3f5f"
            },
            "baxis": {
             "endlinecolor": "#2a3f5f",
             "gridcolor": "white",
             "linecolor": "white",
             "minorgridcolor": "white",
             "startlinecolor": "#2a3f5f"
            },
            "type": "carpet"
           }
          ],
          "choropleth": [
           {
            "colorbar": {
             "outlinewidth": 0,
             "ticks": ""
            },
            "type": "choropleth"
           }
          ],
          "contour": [
           {
            "colorbar": {
             "outlinewidth": 0,
             "ticks": ""
            },
            "colorscale": [
             [
              0,
              "#0d0887"
             ],
             [
              0.1111111111111111,
              "#46039f"
             ],
             [
              0.2222222222222222,
              "#7201a8"
             ],
             [
              0.3333333333333333,
              "#9c179e"
             ],
             [
              0.4444444444444444,
              "#bd3786"
             ],
             [
              0.5555555555555556,
              "#d8576b"
             ],
             [
              0.6666666666666666,
              "#ed7953"
             ],
             [
              0.7777777777777778,
              "#fb9f3a"
             ],
             [
              0.8888888888888888,
              "#fdca26"
             ],
             [
              1,
              "#f0f921"
             ]
            ],
            "type": "contour"
           }
          ],
          "contourcarpet": [
           {
            "colorbar": {
             "outlinewidth": 0,
             "ticks": ""
            },
            "type": "contourcarpet"
           }
          ],
          "heatmap": [
           {
            "colorbar": {
             "outlinewidth": 0,
             "ticks": ""
            },
            "colorscale": [
             [
              0,
              "#0d0887"
             ],
             [
              0.1111111111111111,
              "#46039f"
             ],
             [
              0.2222222222222222,
              "#7201a8"
             ],
             [
              0.3333333333333333,
              "#9c179e"
             ],
             [
              0.4444444444444444,
              "#bd3786"
             ],
             [
              0.5555555555555556,
              "#d8576b"
             ],
             [
              0.6666666666666666,
              "#ed7953"
             ],
             [
              0.7777777777777778,
              "#fb9f3a"
             ],
             [
              0.8888888888888888,
              "#fdca26"
             ],
             [
              1,
              "#f0f921"
             ]
            ],
            "type": "heatmap"
           }
          ],
          "heatmapgl": [
           {
            "colorbar": {
             "outlinewidth": 0,
             "ticks": ""
            },
            "colorscale": [
             [
              0,
              "#0d0887"
             ],
             [
              0.1111111111111111,
              "#46039f"
             ],
             [
              0.2222222222222222,
              "#7201a8"
             ],
             [
              0.3333333333333333,
              "#9c179e"
             ],
             [
              0.4444444444444444,
              "#bd3786"
             ],
             [
              0.5555555555555556,
              "#d8576b"
             ],
             [
              0.6666666666666666,
              "#ed7953"
             ],
             [
              0.7777777777777778,
              "#fb9f3a"
             ],
             [
              0.8888888888888888,
              "#fdca26"
             ],
             [
              1,
              "#f0f921"
             ]
            ],
            "type": "heatmapgl"
           }
          ],
          "histogram": [
           {
            "marker": {
             "pattern": {
              "fillmode": "overlay",
              "size": 10,
              "solidity": 0.2
             }
            },
            "type": "histogram"
           }
          ],
          "histogram2d": [
           {
            "colorbar": {
             "outlinewidth": 0,
             "ticks": ""
            },
            "colorscale": [
             [
              0,
              "#0d0887"
             ],
             [
              0.1111111111111111,
              "#46039f"
             ],
             [
              0.2222222222222222,
              "#7201a8"
             ],
             [
              0.3333333333333333,
              "#9c179e"
             ],
             [
              0.4444444444444444,
              "#bd3786"
             ],
             [
              0.5555555555555556,
              "#d8576b"
             ],
             [
              0.6666666666666666,
              "#ed7953"
             ],
             [
              0.7777777777777778,
              "#fb9f3a"
             ],
             [
              0.8888888888888888,
              "#fdca26"
             ],
             [
              1,
              "#f0f921"
             ]
            ],
            "type": "histogram2d"
           }
          ],
          "histogram2dcontour": [
           {
            "colorbar": {
             "outlinewidth": 0,
             "ticks": ""
            },
            "colorscale": [
             [
              0,
              "#0d0887"
             ],
             [
              0.1111111111111111,
              "#46039f"
             ],
             [
              0.2222222222222222,
              "#7201a8"
             ],
             [
              0.3333333333333333,
              "#9c179e"
             ],
             [
              0.4444444444444444,
              "#bd3786"
             ],
             [
              0.5555555555555556,
              "#d8576b"
             ],
             [
              0.6666666666666666,
              "#ed7953"
             ],
             [
              0.7777777777777778,
              "#fb9f3a"
             ],
             [
              0.8888888888888888,
              "#fdca26"
             ],
             [
              1,
              "#f0f921"
             ]
            ],
            "type": "histogram2dcontour"
           }
          ],
          "mesh3d": [
           {
            "colorbar": {
             "outlinewidth": 0,
             "ticks": ""
            },
            "type": "mesh3d"
           }
          ],
          "parcoords": [
           {
            "line": {
             "colorbar": {
              "outlinewidth": 0,
              "ticks": ""
             }
            },
            "type": "parcoords"
           }
          ],
          "pie": [
           {
            "automargin": true,
            "type": "pie"
           }
          ],
          "scatter": [
           {
            "marker": {
             "colorbar": {
              "outlinewidth": 0,
              "ticks": ""
             }
            },
            "type": "scatter"
           }
          ],
          "scatter3d": [
           {
            "line": {
             "colorbar": {
              "outlinewidth": 0,
              "ticks": ""
             }
            },
            "marker": {
             "colorbar": {
              "outlinewidth": 0,
              "ticks": ""
             }
            },
            "type": "scatter3d"
           }
          ],
          "scattercarpet": [
           {
            "marker": {
             "colorbar": {
              "outlinewidth": 0,
              "ticks": ""
             }
            },
            "type": "scattercarpet"
           }
          ],
          "scattergeo": [
           {
            "marker": {
             "colorbar": {
              "outlinewidth": 0,
              "ticks": ""
             }
            },
            "type": "scattergeo"
           }
          ],
          "scattergl": [
           {
            "marker": {
             "colorbar": {
              "outlinewidth": 0,
              "ticks": ""
             }
            },
            "type": "scattergl"
           }
          ],
          "scattermapbox": [
           {
            "marker": {
             "colorbar": {
              "outlinewidth": 0,
              "ticks": ""
             }
            },
            "type": "scattermapbox"
           }
          ],
          "scatterpolar": [
           {
            "marker": {
             "colorbar": {
              "outlinewidth": 0,
              "ticks": ""
             }
            },
            "type": "scatterpolar"
           }
          ],
          "scatterpolargl": [
           {
            "marker": {
             "colorbar": {
              "outlinewidth": 0,
              "ticks": ""
             }
            },
            "type": "scatterpolargl"
           }
          ],
          "scatterternary": [
           {
            "marker": {
             "colorbar": {
              "outlinewidth": 0,
              "ticks": ""
             }
            },
            "type": "scatterternary"
           }
          ],
          "surface": [
           {
            "colorbar": {
             "outlinewidth": 0,
             "ticks": ""
            },
            "colorscale": [
             [
              0,
              "#0d0887"
             ],
             [
              0.1111111111111111,
              "#46039f"
             ],
             [
              0.2222222222222222,
              "#7201a8"
             ],
             [
              0.3333333333333333,
              "#9c179e"
             ],
             [
              0.4444444444444444,
              "#bd3786"
             ],
             [
              0.5555555555555556,
              "#d8576b"
             ],
             [
              0.6666666666666666,
              "#ed7953"
             ],
             [
              0.7777777777777778,
              "#fb9f3a"
             ],
             [
              0.8888888888888888,
              "#fdca26"
             ],
             [
              1,
              "#f0f921"
             ]
            ],
            "type": "surface"
           }
          ],
          "table": [
           {
            "cells": {
             "fill": {
              "color": "#EBF0F8"
             },
             "line": {
              "color": "white"
             }
            },
            "header": {
             "fill": {
              "color": "#C8D4E3"
             },
             "line": {
              "color": "white"
             }
            },
            "type": "table"
           }
          ]
         },
         "layout": {
          "annotationdefaults": {
           "arrowcolor": "#2a3f5f",
           "arrowhead": 0,
           "arrowwidth": 1
          },
          "autotypenumbers": "strict",
          "coloraxis": {
           "colorbar": {
            "outlinewidth": 0,
            "ticks": ""
           }
          },
          "colorscale": {
           "diverging": [
            [
             0,
             "#8e0152"
            ],
            [
             0.1,
             "#c51b7d"
            ],
            [
             0.2,
             "#de77ae"
            ],
            [
             0.3,
             "#f1b6da"
            ],
            [
             0.4,
             "#fde0ef"
            ],
            [
             0.5,
             "#f7f7f7"
            ],
            [
             0.6,
             "#e6f5d0"
            ],
            [
             0.7,
             "#b8e186"
            ],
            [
             0.8,
             "#7fbc41"
            ],
            [
             0.9,
             "#4d9221"
            ],
            [
             1,
             "#276419"
            ]
           ],
           "sequential": [
            [
             0,
             "#0d0887"
            ],
            [
             0.1111111111111111,
             "#46039f"
            ],
            [
             0.2222222222222222,
             "#7201a8"
            ],
            [
             0.3333333333333333,
             "#9c179e"
            ],
            [
             0.4444444444444444,
             "#bd3786"
            ],
            [
             0.5555555555555556,
             "#d8576b"
            ],
            [
             0.6666666666666666,
             "#ed7953"
            ],
            [
             0.7777777777777778,
             "#fb9f3a"
            ],
            [
             0.8888888888888888,
             "#fdca26"
            ],
            [
             1,
             "#f0f921"
            ]
           ],
           "sequentialminus": [
            [
             0,
             "#0d0887"
            ],
            [
             0.1111111111111111,
             "#46039f"
            ],
            [
             0.2222222222222222,
             "#7201a8"
            ],
            [
             0.3333333333333333,
             "#9c179e"
            ],
            [
             0.4444444444444444,
             "#bd3786"
            ],
            [
             0.5555555555555556,
             "#d8576b"
            ],
            [
             0.6666666666666666,
             "#ed7953"
            ],
            [
             0.7777777777777778,
             "#fb9f3a"
            ],
            [
             0.8888888888888888,
             "#fdca26"
            ],
            [
             1,
             "#f0f921"
            ]
           ]
          },
          "colorway": [
           "#636efa",
           "#EF553B",
           "#00cc96",
           "#ab63fa",
           "#FFA15A",
           "#19d3f3",
           "#FF6692",
           "#B6E880",
           "#FF97FF",
           "#FECB52"
          ],
          "font": {
           "color": "#2a3f5f"
          },
          "geo": {
           "bgcolor": "white",
           "lakecolor": "white",
           "landcolor": "#E5ECF6",
           "showlakes": true,
           "showland": true,
           "subunitcolor": "white"
          },
          "hoverlabel": {
           "align": "left"
          },
          "hovermode": "closest",
          "mapbox": {
           "style": "light"
          },
          "paper_bgcolor": "white",
          "plot_bgcolor": "#E5ECF6",
          "polar": {
           "angularaxis": {
            "gridcolor": "white",
            "linecolor": "white",
            "ticks": ""
           },
           "bgcolor": "#E5ECF6",
           "radialaxis": {
            "gridcolor": "white",
            "linecolor": "white",
            "ticks": ""
           }
          },
          "scene": {
           "xaxis": {
            "backgroundcolor": "#E5ECF6",
            "gridcolor": "white",
            "gridwidth": 2,
            "linecolor": "white",
            "showbackground": true,
            "ticks": "",
            "zerolinecolor": "white"
           },
           "yaxis": {
            "backgroundcolor": "#E5ECF6",
            "gridcolor": "white",
            "gridwidth": 2,
            "linecolor": "white",
            "showbackground": true,
            "ticks": "",
            "zerolinecolor": "white"
           },
           "zaxis": {
            "backgroundcolor": "#E5ECF6",
            "gridcolor": "white",
            "gridwidth": 2,
            "linecolor": "white",
            "showbackground": true,
            "ticks": "",
            "zerolinecolor": "white"
           }
          },
          "shapedefaults": {
           "line": {
            "color": "#2a3f5f"
           }
          },
          "ternary": {
           "aaxis": {
            "gridcolor": "white",
            "linecolor": "white",
            "ticks": ""
           },
           "baxis": {
            "gridcolor": "white",
            "linecolor": "white",
            "ticks": ""
           },
           "bgcolor": "#E5ECF6",
           "caxis": {
            "gridcolor": "white",
            "linecolor": "white",
            "ticks": ""
           }
          },
          "title": {
           "x": 0.05
          },
          "xaxis": {
           "automargin": true,
           "gridcolor": "white",
           "linecolor": "white",
           "ticks": "",
           "title": {
            "standoff": 15
           },
           "zerolinecolor": "white",
           "zerolinewidth": 2
          },
          "yaxis": {
           "automargin": true,
           "gridcolor": "white",
           "linecolor": "white",
           "ticks": "",
           "title": {
            "standoff": 15
           },
           "zerolinecolor": "white",
           "zerolinewidth": 2
          }
         }
        },
        "title": {
         "text": "삼성전자"
        },
        "xaxis": {
         "rangebreaks": [
          {
           "bounds": [
            "sat",
            "mon"
           ]
          }
         ],
         "rangeslider": {
          "visible": false
         }
        }
       }
      },
      "text/html": "<div>                            <div id=\"ed6bc961-affc-437e-81de-e062300cb076\" class=\"plotly-graph-div\" style=\"height:525px; width:100%;\"></div>            <script type=\"text/javascript\">                require([\"plotly\"], function(Plotly) {                    window.PLOTLYENV=window.PLOTLYENV || {};                                    if (document.getElementById(\"ed6bc961-affc-437e-81de-e062300cb076\")) {                    Plotly.newPlot(                        \"ed6bc961-affc-437e-81de-e062300cb076\",                        [{\"close\":[59500,60000,60900,60900,60100,60200,60400,59800,59000,58100,56600,57400,58800,58500,60300,60100,60200,60200,61300,61000,63200,66300,65700,64800,64600,64700,67500,67700,66600,68000,68200,66700,67800,69500,69700,71500,72900,71700,73900,72900,73400,73800,73800,73800,73300,73000,73000,72300,73900,77800,78700,78300,81000,83000,83900,82200,82900,88800,91000,90600,89700,89700,88000,85000,87000,87200,88100,86800,89400,86700,85600,83700,82000,83000,84400,84600,82500,83500,83000,82700,81600,84200,84900,83200,82100,82600,82200,82000,82000,85300,82500,83600,84000,82400,82100,82000,81400,80900,82000,82800,81800,82800,82300,82900,81900,82000,81800,81000,81200,81500,81600,82200,81400,82900,84800,85400,86000,85600,84700,83600,83200,84000,84000,84100,83900,83300,83900,82600,82400,82800,83500,82900,82100,81700,81500,81700,82600,82300,81900,83200,81200,80000,78500,80100,79600,79600,79500,80100,79700,79900,79800,79600,80100,80500,80600,80800,82800,82200,81900,81900,81100,81000,81000,80500,80900,81800,80900,80500,79900,80000,80100,81200,81600,81900,81000,80700,80100,80000,80400,81200,80800,79900,79400,79700,79800,79500,80600,79800,79000,79000,78500,79700,79300,78800,78500,79200,79000,78500,79300,81000],\"decreasing\":{\"line\":{\"color\":\"blue\"}},\"high\":[60400,60200,60900,61500,60500,60400,61100,60300,59400,58500,58000,57500,58900,59000,60300,60800,60900,60500,61400,61400,63200,66700,67000,66200,64800,65200,67800,69500,68300,68000,68400,68600,68300,69900,70500,72100,73500,72900,73900,73800,73800,74500,74100,74500,73700,73700,73400,73200,74000,78800,80100,78900,81300,84400,83900,84500,84200,90000,96800,91400,91200,90000,91800,87300,88000,89000,88600,89700,89900,89200,87700,85600,85000,83400,86400,85400,83800,84000,84200,84800,82600,84500,86000,84200,83600,82800,84200,82900,83600,85400,83400,85300,84000,83200,82600,83000,81900,82500,82500,83500,82900,83000,82900,83800,82500,82300,82900,81600,82100,81600,81700,82300,82700,83000,85200,86000,86200,86200,85700,84900,84100,84500,84300,84500,84700,84000,84000,83500,83000,82900,83500,83300,83200,82500,82100,82400,82600,82300,82100,83500,82600,81200,79600,80300,80900,80000,79700,81500,80400,80400,80500,80000,80400,80600,81300,81400,83000,82700,82800,82600,82000,81400,81700,80900,81200,81900,81300,81100,80000,80300,80600,81400,81900,82000,82100,81400,80600,80400,80800,81200,81300,81200,79800,80000,80200,79600,80600,80100,79200,79000,79100,79800,79900,79500,79400,79200,79400,78900,79500,81100],\"increasing\":{\"line\":{\"color\":\"red\"}},\"low\":[59000,59500,60100,60600,59800,59800,60100,59500,58800,57500,56600,56000,57600,57800,58800,59600,60100,59500,60400,60700,61000,63900,65600,64700,63900,63900,64700,67000,66500,66000,67600,66700,67100,68300,69300,70100,71900,71600,72000,72500,73100,73200,73300,73400,72600,73000,72000,72100,72300,74000,78200,77300,77300,80200,81600,82100,82700,83000,89500,87800,89100,88700,88000,84100,83600,86500,86500,86800,86300,86500,85600,83200,82000,81000,83700,83400,82100,82500,83000,82700,81600,83300,84200,83000,82100,81000,82200,81100,81300,83000,82000,83000,82800,82200,81100,81600,80600,80700,81000,82400,81800,82100,82000,82600,81800,81700,81800,80700,80800,81000,81000,81300,81400,82000,83900,84800,85100,85400,84100,83400,83100,82800,83400,83400,83600,83300,83100,82500,82400,81600,82600,82500,82100,81500,81500,81000,81800,81700,81500,81800,81100,79800,78400,78900,79200,79100,79100,79800,79500,79800,79700,79100,79400,79600,80100,80300,81100,81500,81600,81800,81100,80900,80700,80500,80600,81100,80700,80500,79600,79900,79900,80100,81200,81600,80800,80700,80000,79900,80000,80500,80300,79900,79000,79500,79800,79100,79500,79500,78800,78400,78500,78900,79200,78800,78500,78100,78800,78500,78700,79300],\"open\":[60000,59600,60300,61200,60300,60400,60400,60300,59400,58200,58000,56400,57900,58900,59000,60700,60700,60500,60700,61000,61300,64000,67000,65700,64100,63900,64800,67900,67900,66100,68000,68400,67100,68400,70100,70400,72400,72200,72100,72700,73500,73600,73800,74100,73400,73300,73100,72500,72400,74100,79000,78800,77400,81000,81600,83300,82800,83300,90000,90300,89800,88700,89800,86600,84500,89000,87500,89000,87000,88800,86600,83200,84500,81700,84100,84800,83500,83100,83800,84000,82600,83800,84500,83900,83200,82300,83800,81200,81800,84000,82800,85100,83500,82600,81100,82900,81400,82400,81000,83100,82800,82200,82800,82800,82100,82000,82600,81000,81000,81400,81700,81600,82400,82500,84000,85800,86200,86100,85700,84700,84100,83000,84000,83700,84700,83800,83300,83300,82900,81900,82900,83200,83200,82400,81900,81000,81900,81700,81800,82300,82500,80800,78900,79000,80800,79600,79400,80100,80100,80000,80400,80000,79800,80300,80500,80400,81300,82700,82700,82300,81500,81300,81200,80800,80900,81500,81100,81100,79700,80200,80500,80400,81500,81700,81900,81100,80500,80000,80100,80600,81200,81100,79600,79900,80000,79400,79800,80100,79100,78500,79000,79000,79700,79400,79200,78300,78800,78900,79200,79400],\"type\":\"candlestick\",\"x\":[\"2020-10-16T00:00:00\",\"2020-10-19T00:00:00\",\"2020-10-20T00:00:00\",\"2020-10-21T00:00:00\",\"2020-10-22T00:00:00\",\"2020-10-23T00:00:00\",\"2020-10-26T00:00:00\",\"2020-10-27T00:00:00\",\"2020-10-28T00:00:00\",\"2020-10-29T00:00:00\",\"2020-10-30T00:00:00\",\"2020-11-02T00:00:00\",\"2020-11-03T00:00:00\",\"2020-11-04T00:00:00\",\"2020-11-05T00:00:00\",\"2020-11-06T00:00:00\",\"2020-11-09T00:00:00\",\"2020-11-10T00:00:00\",\"2020-11-11T00:00:00\",\"2020-11-12T00:00:00\",\"2020-11-13T00:00:00\",\"2020-11-16T00:00:00\",\"2020-11-17T00:00:00\",\"2020-11-18T00:00:00\",\"2020-11-19T00:00:00\",\"2020-11-20T00:00:00\",\"2020-11-23T00:00:00\",\"2020-11-24T00:00:00\",\"2020-11-25T00:00:00\",\"2020-11-26T00:00:00\",\"2020-11-27T00:00:00\",\"2020-11-30T00:00:00\",\"2020-12-01T00:00:00\",\"2020-12-02T00:00:00\",\"2020-12-03T00:00:00\",\"2020-12-04T00:00:00\",\"2020-12-07T00:00:00\",\"2020-12-08T00:00:00\",\"2020-12-09T00:00:00\",\"2020-12-10T00:00:00\",\"2020-12-11T00:00:00\",\"2020-12-14T00:00:00\",\"2020-12-15T00:00:00\",\"2020-12-16T00:00:00\",\"2020-12-17T00:00:00\",\"2020-12-18T00:00:00\",\"2020-12-21T00:00:00\",\"2020-12-22T00:00:00\",\"2020-12-23T00:00:00\",\"2020-12-24T00:00:00\",\"2020-12-28T00:00:00\",\"2020-12-29T00:00:00\",\"2020-12-30T00:00:00\",\"2021-01-04T00:00:00\",\"2021-01-05T00:00:00\",\"2021-01-06T00:00:00\",\"2021-01-07T00:00:00\",\"2021-01-08T00:00:00\",\"2021-01-11T00:00:00\",\"2021-01-12T00:00:00\",\"2021-01-13T00:00:00\",\"2021-01-14T00:00:00\",\"2021-01-15T00:00:00\",\"2021-01-18T00:00:00\",\"2021-01-19T00:00:00\",\"2021-01-20T00:00:00\",\"2021-01-21T00:00:00\",\"2021-01-22T00:00:00\",\"2021-01-25T00:00:00\",\"2021-01-26T00:00:00\",\"2021-01-27T00:00:00\",\"2021-01-28T00:00:00\",\"2021-01-29T00:00:00\",\"2021-02-01T00:00:00\",\"2021-02-02T00:00:00\",\"2021-02-03T00:00:00\",\"2021-02-04T00:00:00\",\"2021-02-05T00:00:00\",\"2021-02-08T00:00:00\",\"2021-02-09T00:00:00\",\"2021-02-10T00:00:00\",\"2021-02-15T00:00:00\",\"2021-02-16T00:00:00\",\"2021-02-17T00:00:00\",\"2021-02-18T00:00:00\",\"2021-02-19T00:00:00\",\"2021-02-22T00:00:00\",\"2021-02-23T00:00:00\",\"2021-02-24T00:00:00\",\"2021-02-25T00:00:00\",\"2021-02-26T00:00:00\",\"2021-03-02T00:00:00\",\"2021-03-03T00:00:00\",\"2021-03-04T00:00:00\",\"2021-03-05T00:00:00\",\"2021-03-08T00:00:00\",\"2021-03-09T00:00:00\",\"2021-03-10T00:00:00\",\"2021-03-11T00:00:00\",\"2021-03-12T00:00:00\",\"2021-03-15T00:00:00\",\"2021-03-16T00:00:00\",\"2021-03-17T00:00:00\",\"2021-03-18T00:00:00\",\"2021-03-19T00:00:00\",\"2021-03-22T00:00:00\",\"2021-03-23T00:00:00\",\"2021-03-24T00:00:00\",\"2021-03-25T00:00:00\",\"2021-03-26T00:00:00\",\"2021-03-29T00:00:00\",\"2021-03-30T00:00:00\",\"2021-03-31T00:00:00\",\"2021-04-01T00:00:00\",\"2021-04-02T00:00:00\",\"2021-04-05T00:00:00\",\"2021-04-06T00:00:00\",\"2021-04-07T00:00:00\",\"2021-04-08T00:00:00\",\"2021-04-09T00:00:00\",\"2021-04-12T00:00:00\",\"2021-04-13T00:00:00\",\"2021-04-14T00:00:00\",\"2021-04-15T00:00:00\",\"2021-04-16T00:00:00\",\"2021-04-19T00:00:00\",\"2021-04-20T00:00:00\",\"2021-04-21T00:00:00\",\"2021-04-22T00:00:00\",\"2021-04-23T00:00:00\",\"2021-04-26T00:00:00\",\"2021-04-27T00:00:00\",\"2021-04-28T00:00:00\",\"2021-04-29T00:00:00\",\"2021-04-30T00:00:00\",\"2021-05-03T00:00:00\",\"2021-05-04T00:00:00\",\"2021-05-06T00:00:00\",\"2021-05-07T00:00:00\",\"2021-05-10T00:00:00\",\"2021-05-11T00:00:00\",\"2021-05-12T00:00:00\",\"2021-05-13T00:00:00\",\"2021-05-14T00:00:00\",\"2021-05-17T00:00:00\",\"2021-05-18T00:00:00\",\"2021-05-20T00:00:00\",\"2021-05-21T00:00:00\",\"2021-05-24T00:00:00\",\"2021-05-25T00:00:00\",\"2021-05-26T00:00:00\",\"2021-05-27T00:00:00\",\"2021-05-28T00:00:00\",\"2021-05-31T00:00:00\",\"2021-06-01T00:00:00\",\"2021-06-02T00:00:00\",\"2021-06-03T00:00:00\",\"2021-06-04T00:00:00\",\"2021-06-07T00:00:00\",\"2021-06-08T00:00:00\",\"2021-06-09T00:00:00\",\"2021-06-10T00:00:00\",\"2021-06-11T00:00:00\",\"2021-06-14T00:00:00\",\"2021-06-15T00:00:00\",\"2021-06-16T00:00:00\",\"2021-06-17T00:00:00\",\"2021-06-18T00:00:00\",\"2021-06-21T00:00:00\",\"2021-06-22T00:00:00\",\"2021-06-23T00:00:00\",\"2021-06-24T00:00:00\",\"2021-06-25T00:00:00\",\"2021-06-28T00:00:00\",\"2021-06-29T00:00:00\",\"2021-06-30T00:00:00\",\"2021-07-01T00:00:00\",\"2021-07-02T00:00:00\",\"2021-07-05T00:00:00\",\"2021-07-06T00:00:00\",\"2021-07-07T00:00:00\",\"2021-07-08T00:00:00\",\"2021-07-09T00:00:00\",\"2021-07-12T00:00:00\",\"2021-07-13T00:00:00\",\"2021-07-14T00:00:00\",\"2021-07-15T00:00:00\",\"2021-07-16T00:00:00\",\"2021-07-19T00:00:00\",\"2021-07-20T00:00:00\",\"2021-07-21T00:00:00\",\"2021-07-22T00:00:00\",\"2021-07-23T00:00:00\",\"2021-07-26T00:00:00\",\"2021-07-27T00:00:00\",\"2021-07-28T00:00:00\",\"2021-07-29T00:00:00\",\"2021-07-30T00:00:00\",\"2021-08-02T00:00:00\",\"2021-08-03T00:00:00\"]}],                        {\"template\":{\"data\":{\"bar\":[{\"error_x\":{\"color\":\"#2a3f5f\"},\"error_y\":{\"color\":\"#2a3f5f\"},\"marker\":{\"line\":{\"color\":\"#E5ECF6\",\"width\":0.5},\"pattern\":{\"fillmode\":\"overlay\",\"size\":10,\"solidity\":0.2}},\"type\":\"bar\"}],\"barpolar\":[{\"marker\":{\"line\":{\"color\":\"#E5ECF6\",\"width\":0.5},\"pattern\":{\"fillmode\":\"overlay\",\"size\":10,\"solidity\":0.2}},\"type\":\"barpolar\"}],\"carpet\":[{\"aaxis\":{\"endlinecolor\":\"#2a3f5f\",\"gridcolor\":\"white\",\"linecolor\":\"white\",\"minorgridcolor\":\"white\",\"startlinecolor\":\"#2a3f5f\"},\"baxis\":{\"endlinecolor\":\"#2a3f5f\",\"gridcolor\":\"white\",\"linecolor\":\"white\",\"minorgridcolor\":\"white\",\"startlinecolor\":\"#2a3f5f\"},\"type\":\"carpet\"}],\"choropleth\":[{\"colorbar\":{\"outlinewidth\":0,\"ticks\":\"\"},\"type\":\"choropleth\"}],\"contour\":[{\"colorbar\":{\"outlinewidth\":0,\"ticks\":\"\"},\"colorscale\":[[0.0,\"#0d0887\"],[0.1111111111111111,\"#46039f\"],[0.2222222222222222,\"#7201a8\"],[0.3333333333333333,\"#9c179e\"],[0.4444444444444444,\"#bd3786\"],[0.5555555555555556,\"#d8576b\"],[0.6666666666666666,\"#ed7953\"],[0.7777777777777778,\"#fb9f3a\"],[0.8888888888888888,\"#fdca26\"],[1.0,\"#f0f921\"]],\"type\":\"contour\"}],\"contourcarpet\":[{\"colorbar\":{\"outlinewidth\":0,\"ticks\":\"\"},\"type\":\"contourcarpet\"}],\"heatmap\":[{\"colorbar\":{\"outlinewidth\":0,\"ticks\":\"\"},\"colorscale\":[[0.0,\"#0d0887\"],[0.1111111111111111,\"#46039f\"],[0.2222222222222222,\"#7201a8\"],[0.3333333333333333,\"#9c179e\"],[0.4444444444444444,\"#bd3786\"],[0.5555555555555556,\"#d8576b\"],[0.6666666666666666,\"#ed7953\"],[0.7777777777777778,\"#fb9f3a\"],[0.8888888888888888,\"#fdca26\"],[1.0,\"#f0f921\"]],\"type\":\"heatmap\"}],\"heatmapgl\":[{\"colorbar\":{\"outlinewidth\":0,\"ticks\":\"\"},\"colorscale\":[[0.0,\"#0d0887\"],[0.1111111111111111,\"#46039f\"],[0.2222222222222222,\"#7201a8\"],[0.3333333333333333,\"#9c179e\"],[0.4444444444444444,\"#bd3786\"],[0.5555555555555556,\"#d8576b\"],[0.6666666666666666,\"#ed7953\"],[0.7777777777777778,\"#fb9f3a\"],[0.8888888888888888,\"#fdca26\"],[1.0,\"#f0f921\"]],\"type\":\"heatmapgl\"}],\"histogram\":[{\"marker\":{\"pattern\":{\"fillmode\":\"overlay\",\"size\":10,\"solidity\":0.2}},\"type\":\"histogram\"}],\"histogram2d\":[{\"colorbar\":{\"outlinewidth\":0,\"ticks\":\"\"},\"colorscale\":[[0.0,\"#0d0887\"],[0.1111111111111111,\"#46039f\"],[0.2222222222222222,\"#7201a8\"],[0.3333333333333333,\"#9c179e\"],[0.4444444444444444,\"#bd3786\"],[0.5555555555555556,\"#d8576b\"],[0.6666666666666666,\"#ed7953\"],[0.7777777777777778,\"#fb9f3a\"],[0.8888888888888888,\"#fdca26\"],[1.0,\"#f0f921\"]],\"type\":\"histogram2d\"}],\"histogram2dcontour\":[{\"colorbar\":{\"outlinewidth\":0,\"ticks\":\"\"},\"colorscale\":[[0.0,\"#0d0887\"],[0.1111111111111111,\"#46039f\"],[0.2222222222222222,\"#7201a8\"],[0.3333333333333333,\"#9c179e\"],[0.4444444444444444,\"#bd3786\"],[0.5555555555555556,\"#d8576b\"],[0.6666666666666666,\"#ed7953\"],[0.7777777777777778,\"#fb9f3a\"],[0.8888888888888888,\"#fdca26\"],[1.0,\"#f0f921\"]],\"type\":\"histogram2dcontour\"}],\"mesh3d\":[{\"colorbar\":{\"outlinewidth\":0,\"ticks\":\"\"},\"type\":\"mesh3d\"}],\"parcoords\":[{\"line\":{\"colorbar\":{\"outlinewidth\":0,\"ticks\":\"\"}},\"type\":\"parcoords\"}],\"pie\":[{\"automargin\":true,\"type\":\"pie\"}],\"scatter\":[{\"marker\":{\"colorbar\":{\"outlinewidth\":0,\"ticks\":\"\"}},\"type\":\"scatter\"}],\"scatter3d\":[{\"line\":{\"colorbar\":{\"outlinewidth\":0,\"ticks\":\"\"}},\"marker\":{\"colorbar\":{\"outlinewidth\":0,\"ticks\":\"\"}},\"type\":\"scatter3d\"}],\"scattercarpet\":[{\"marker\":{\"colorbar\":{\"outlinewidth\":0,\"ticks\":\"\"}},\"type\":\"scattercarpet\"}],\"scattergeo\":[{\"marker\":{\"colorbar\":{\"outlinewidth\":0,\"ticks\":\"\"}},\"type\":\"scattergeo\"}],\"scattergl\":[{\"marker\":{\"colorbar\":{\"outlinewidth\":0,\"ticks\":\"\"}},\"type\":\"scattergl\"}],\"scattermapbox\":[{\"marker\":{\"colorbar\":{\"outlinewidth\":0,\"ticks\":\"\"}},\"type\":\"scattermapbox\"}],\"scatterpolar\":[{\"marker\":{\"colorbar\":{\"outlinewidth\":0,\"ticks\":\"\"}},\"type\":\"scatterpolar\"}],\"scatterpolargl\":[{\"marker\":{\"colorbar\":{\"outlinewidth\":0,\"ticks\":\"\"}},\"type\":\"scatterpolargl\"}],\"scatterternary\":[{\"marker\":{\"colorbar\":{\"outlinewidth\":0,\"ticks\":\"\"}},\"type\":\"scatterternary\"}],\"surface\":[{\"colorbar\":{\"outlinewidth\":0,\"ticks\":\"\"},\"colorscale\":[[0.0,\"#0d0887\"],[0.1111111111111111,\"#46039f\"],[0.2222222222222222,\"#7201a8\"],[0.3333333333333333,\"#9c179e\"],[0.4444444444444444,\"#bd3786\"],[0.5555555555555556,\"#d8576b\"],[0.6666666666666666,\"#ed7953\"],[0.7777777777777778,\"#fb9f3a\"],[0.8888888888888888,\"#fdca26\"],[1.0,\"#f0f921\"]],\"type\":\"surface\"}],\"table\":[{\"cells\":{\"fill\":{\"color\":\"#EBF0F8\"},\"line\":{\"color\":\"white\"}},\"header\":{\"fill\":{\"color\":\"#C8D4E3\"},\"line\":{\"color\":\"white\"}},\"type\":\"table\"}]},\"layout\":{\"annotationdefaults\":{\"arrowcolor\":\"#2a3f5f\",\"arrowhead\":0,\"arrowwidth\":1},\"autotypenumbers\":\"strict\",\"coloraxis\":{\"colorbar\":{\"outlinewidth\":0,\"ticks\":\"\"}},\"colorscale\":{\"diverging\":[[0,\"#8e0152\"],[0.1,\"#c51b7d\"],[0.2,\"#de77ae\"],[0.3,\"#f1b6da\"],[0.4,\"#fde0ef\"],[0.5,\"#f7f7f7\"],[0.6,\"#e6f5d0\"],[0.7,\"#b8e186\"],[0.8,\"#7fbc41\"],[0.9,\"#4d9221\"],[1,\"#276419\"]],\"sequential\":[[0.0,\"#0d0887\"],[0.1111111111111111,\"#46039f\"],[0.2222222222222222,\"#7201a8\"],[0.3333333333333333,\"#9c179e\"],[0.4444444444444444,\"#bd3786\"],[0.5555555555555556,\"#d8576b\"],[0.6666666666666666,\"#ed7953\"],[0.7777777777777778,\"#fb9f3a\"],[0.8888888888888888,\"#fdca26\"],[1.0,\"#f0f921\"]],\"sequentialminus\":[[0.0,\"#0d0887\"],[0.1111111111111111,\"#46039f\"],[0.2222222222222222,\"#7201a8\"],[0.3333333333333333,\"#9c179e\"],[0.4444444444444444,\"#bd3786\"],[0.5555555555555556,\"#d8576b\"],[0.6666666666666666,\"#ed7953\"],[0.7777777777777778,\"#fb9f3a\"],[0.8888888888888888,\"#fdca26\"],[1.0,\"#f0f921\"]]},\"colorway\":[\"#636efa\",\"#EF553B\",\"#00cc96\",\"#ab63fa\",\"#FFA15A\",\"#19d3f3\",\"#FF6692\",\"#B6E880\",\"#FF97FF\",\"#FECB52\"],\"font\":{\"color\":\"#2a3f5f\"},\"geo\":{\"bgcolor\":\"white\",\"lakecolor\":\"white\",\"landcolor\":\"#E5ECF6\",\"showlakes\":true,\"showland\":true,\"subunitcolor\":\"white\"},\"hoverlabel\":{\"align\":\"left\"},\"hovermode\":\"closest\",\"mapbox\":{\"style\":\"light\"},\"paper_bgcolor\":\"white\",\"plot_bgcolor\":\"#E5ECF6\",\"polar\":{\"angularaxis\":{\"gridcolor\":\"white\",\"linecolor\":\"white\",\"ticks\":\"\"},\"bgcolor\":\"#E5ECF6\",\"radialaxis\":{\"gridcolor\":\"white\",\"linecolor\":\"white\",\"ticks\":\"\"}},\"scene\":{\"xaxis\":{\"backgroundcolor\":\"#E5ECF6\",\"gridcolor\":\"white\",\"gridwidth\":2,\"linecolor\":\"white\",\"showbackground\":true,\"ticks\":\"\",\"zerolinecolor\":\"white\"},\"yaxis\":{\"backgroundcolor\":\"#E5ECF6\",\"gridcolor\":\"white\",\"gridwidth\":2,\"linecolor\":\"white\",\"showbackground\":true,\"ticks\":\"\",\"zerolinecolor\":\"white\"},\"zaxis\":{\"backgroundcolor\":\"#E5ECF6\",\"gridcolor\":\"white\",\"gridwidth\":2,\"linecolor\":\"white\",\"showbackground\":true,\"ticks\":\"\",\"zerolinecolor\":\"white\"}},\"shapedefaults\":{\"line\":{\"color\":\"#2a3f5f\"}},\"ternary\":{\"aaxis\":{\"gridcolor\":\"white\",\"linecolor\":\"white\",\"ticks\":\"\"},\"baxis\":{\"gridcolor\":\"white\",\"linecolor\":\"white\",\"ticks\":\"\"},\"bgcolor\":\"#E5ECF6\",\"caxis\":{\"gridcolor\":\"white\",\"linecolor\":\"white\",\"ticks\":\"\"}},\"title\":{\"x\":0.05},\"xaxis\":{\"automargin\":true,\"gridcolor\":\"white\",\"linecolor\":\"white\",\"ticks\":\"\",\"title\":{\"standoff\":15},\"zerolinecolor\":\"white\",\"zerolinewidth\":2},\"yaxis\":{\"automargin\":true,\"gridcolor\":\"white\",\"linecolor\":\"white\",\"ticks\":\"\",\"title\":{\"standoff\":15},\"zerolinecolor\":\"white\",\"zerolinewidth\":2}}},\"title\":{\"text\":\"\\uc0bc\\uc131\\uc804\\uc790\"},\"xaxis\":{\"rangebreaks\":[{\"bounds\":[\"sat\",\"mon\"]}],\"rangeslider\":{\"visible\":false}}},                        {\"responsive\": true}                    ).then(function(){\n                            \nvar gd = document.getElementById('ed6bc961-affc-437e-81de-e062300cb076');\nvar x = new MutationObserver(function (mutations, observer) {{\n        var display = window.getComputedStyle(gd).display;\n        if (!display || display === 'none') {{\n            console.log([gd, 'removed!']);\n            Plotly.purge(gd);\n            observer.disconnect();\n        }}\n}});\n\n// Listen for the removal of the full notebook cells\nvar notebookContainer = gd.closest('#notebook-container');\nif (notebookContainer) {{\n    x.observe(notebookContainer, {childList: true});\n}}\n\n// Listen for the clearing of the current output cell\nvar outputEl = gd.closest('.output');\nif (outputEl) {{\n    x.observe(outputEl, {childList: true});\n}}\n\n                        })                };                });            </script>        </div>"
     },
     "metadata": {},
     "output_type": "display_data"
    }
   ],
   "source": [
    "import plotly.offline as offline \n",
    "import plotly.graph_objs as go \n",
    "from datetime import datetime\n",
    "\n",
    "offline.init_notebook_mode(connected=True) \n",
    "\n",
    "trace = go.Candlestick(x=df.date, \n",
    "                        open=df.open,\n",
    "                        high=df.high, \n",
    "                        low=df.low, \n",
    "                        close=df.close,\n",
    "                        increasing_line_color= 'red', \n",
    "                        decreasing_line_color= 'blue'\n",
    "                        ) \n",
    "\n",
    "data = [trace] \n",
    "\n",
    "layout = go.Layout(title='삼성전자')\n",
    "\n",
    "fig = go.Figure(data=data, layout=layout) \n",
    "fig.update_xaxes(\n",
    "    rangebreaks=[\n",
    "        dict(bounds=[\"sat\", \"mon\"]),\n",
    "        #dict(values=[\"2020-12-25\", \"2021-01-01\"])\n",
    "    ]\n",
    ")\n",
    "\n",
    "fig.update_layout(xaxis_rangeslider_visible=False)\n",
    "offline.iplot(fig, filename=\"candlestick\")\n"
   ]
  },
  {
   "cell_type": "markdown",
   "metadata": {},
   "source": [
    "# 2.candlestick2_ohlc + pyplot 사용"
   ]
  },
  {
   "cell_type": "code",
   "execution_count": 5,
   "metadata": {},
   "outputs": [
    {
     "data": {
      "image/png": "[encoded data removed]",
      "text/plain": "<Figure size 1440x360 with 1 Axes>"
     },
     "metadata": {
      "needs_background": "light"
     },
     "output_type": "display_data"
    }
   ],
   "source": [
    "import datetime\n",
    "from mplfinance.original_flavor import candlestick2_ohlc\n",
    "import matplotlib.pyplot as plt\n",
    "\n",
    "fig = plt.figure(figsize=(20,5))\n",
    "ax = fig.add_subplot(1,1,1)\n",
    "\n",
    "candlestick2_ohlc(ax, df['open'],df['high'],df['low'], df['close'], width=0.5, colorup='r', colordown='b')\n",
    "plt.show()\n"
   ]
  }
 ],
 "metadata": {
  "kernelspec": {
   "display_name": "Python 3.8.10 64-bit",
   "name": "python3810jvsc74a57bd0916dbcbb3f70747c44a77c7bcd40155683ae19c65e1c03b4aa3499c5328201f1"
  },
  "language_info": {
   "codemirror_mode": {
    "name": "ipython",
    "version": 3
   },
   "file_extension": ".py",
   "mimetype": "text/x-python",
   "name": "python",
   "nbconvert_exporter": "python",
   "pygments_lexer": "ipython3",
   "version": "3.8.10"
  },
  "metadata": {
   "interpreter": {
    "hash": "916dbcbb3f70747c44a77c7bcd40155683ae19c65e1c03b4aa3499c5328201f1"
   }
  },
  "orig_nbformat": 2
 },
 "nbformat": 4,
 "nbformat_minor": 2
}