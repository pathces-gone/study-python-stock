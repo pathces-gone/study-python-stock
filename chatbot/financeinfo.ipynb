{
 "cells": [
  {
   "cell_type": "markdown",
   "metadata": {},
   "source": [
    "# FinanceInfo"
   ]
  },
  {
   "cell_type": "code",
   "execution_count": 1,
   "metadata": {},
   "outputs": [
    {
     "name": "stdout",
     "output_type": "stream",
     "text": [
      "Requirement already satisfied: pandas in /home/temp/.local/lib/python3.8/site-packages (1.2.5)\n",
      "Requirement already satisfied: numpy>=1.16.5 in /home/temp/.local/lib/python3.8/site-packages (from pandas) (1.19.4)\n",
      "Requirement already satisfied: pytz>=2017.3 in /usr/lib/python3/dist-packages (from pandas) (2019.3)\n",
      "Requirement already satisfied: python-dateutil>=2.7.3 in /usr/lib/python3/dist-packages (from pandas) (2.7.3)\n",
      "Requirement already satisfied: html5lib in /home/temp/.local/lib/python3.8/site-packages (1.1)\n",
      "Requirement already satisfied: webencodings in /home/temp/.local/lib/python3.8/site-packages (from html5lib) (0.5.1)\n",
      "Requirement already satisfied: six>=1.9 in /usr/lib/python3/dist-packages (from html5lib) (1.14.0)\n",
      "Requirement already satisfied: BeautifulSoup4 in /home/temp/.local/lib/python3.8/site-packages (4.9.3)\n",
      "Requirement already satisfied: soupsieve>1.2; python_version >= \"3.0\" in /home/temp/.local/lib/python3.8/site-packages (from BeautifulSoup4) (2.2.1)\n",
      "Requirement already satisfied: plotly in /home/temp/.local/lib/python3.8/site-packages (5.1.0)\n",
      "Requirement already satisfied: six in /usr/lib/python3/dist-packages (from plotly) (1.14.0)\n",
      "Requirement already satisfied: tenacity>=6.2.0 in /home/temp/.local/lib/python3.8/site-packages (from plotly) (8.0.1)\n",
      "Requirement already satisfied: nbformat in /home/temp/.local/lib/python3.8/site-packages (5.1.3)\n",
      "Requirement already satisfied: traitlets>=4.1 in /home/temp/.local/lib/python3.8/site-packages (from nbformat) (5.0.5)\n",
      "Requirement already satisfied: jsonschema!=2.5.0,>=2.4 in /home/temp/.local/lib/python3.8/site-packages (from nbformat) (3.2.0)\n",
      "Requirement already satisfied: ipython-genutils in /home/temp/.local/lib/python3.8/site-packages (from nbformat) (0.2.0)\n",
      "Requirement already satisfied: jupyter-core in /home/temp/.local/lib/python3.8/site-packages (from nbformat) (4.7.1)\n",
      "Requirement already satisfied: pyrsistent>=0.14.0 in /home/temp/.local/lib/python3.8/site-packages (from jsonschema!=2.5.0,>=2.4->nbformat) (0.18.0)\n",
      "Requirement already satisfied: attrs>=17.4.0 in /home/temp/.local/lib/python3.8/site-packages (from jsonschema!=2.5.0,>=2.4->nbformat) (19.3.0)\n",
      "Requirement already satisfied: six>=1.11.0 in /usr/lib/python3/dist-packages (from jsonschema!=2.5.0,>=2.4->nbformat) (1.14.0)\n",
      "Requirement already satisfied: setuptools in /usr/lib/python3/dist-packages (from jsonschema!=2.5.0,>=2.4->nbformat) (45.2.0)\n"
     ]
    }
   ],
   "source": [
    "!pip3 install --user pandas\n",
    "!pip3 install --user html5lib\n",
    "!pip3 install --user BeautifulSoup4\n",
    "!pip3 install --user plotly\n",
    "!pip3 install --user nbformat"
   ]
  },
  {
   "cell_type": "code",
   "execution_count": 59,
   "metadata": {},
   "outputs": [],
   "source": [
    "import pandas as pd\n",
    "import requests\n",
    "from bs4 import BeautifulSoup as bs\n",
    "\n",
    "import datetime\n",
    "from mplfinance.original_flavor import candlestick2_ohlc\n",
    "import matplotlib.pyplot as plt"
   ]
  },
  {
   "cell_type": "code",
   "execution_count": 3,
   "metadata": {},
   "outputs": [],
   "source": [
    "headers = {'user-agent': 'Mozilla/5.0 (Macintosh; Intel Mac OS X 10_15_7) AppleWebKit/537.36 (KHTML, like Gecko) Chrome/88.0.4324.96 Safari/537.36'}\n",
    "\n",
    "def get_url(item_name, code_df): \n",
    "  code = code_df.query(\"name=='{}'\".format(item_name))['code'].to_string(index=False) \n",
    "  url = 'http://finance.naver.com/item/sise_day.nhn?code={code}'.format(code=code) \n",
    "  print(\"요청 URL = {}\".format(url)) \n",
    "  return url\n",
    "\n",
    "def get_html_table_symbol(url):\n",
    "  response = requests.get(url, headers=headers)\n",
    "  html = bs(response.text, 'lxml')\n",
    "  html_table = html.select('table')\n",
    "  len(html_table)\n",
    "  return str(html_table)"
   ]
  },
  {
   "cell_type": "code",
   "execution_count": 4,
   "metadata": {},
   "outputs": [],
   "source": [
    "def get_report_time():\n",
    "  return datetime.datetime.now().strftime(\"%Y%m%d\")"
   ]
  },
  {
   "cell_type": "code",
   "execution_count": 5,
   "metadata": {},
   "outputs": [],
   "source": [
    "def get_stochastic(df, n=15, m=5, t=3):\n",
    "  df = pd.DataFrame(df)\n",
    "  ndays_high = df.high.rolling(window=n, min_periods=1).max()\n",
    "  ndays_low = df.low.rolling(window=n, min_periods=1).min()\n",
    "\n",
    "  # Fast%K\n",
    "  kdj_k = ((df.close - ndays_low)/(ndays_high-ndays_low))*100 #n=15\n",
    "  # Fast%D\n",
    "  kdj_d = kdj_k.ewm(span=m).mean() #m=5\n",
    "  # Slow%D\n",
    "  kdj_j = kdj_d.ewm(span=t).mean() #t=3\n",
    "  \n",
    "  df = df.assign(kdj_k=kdj_k, kdj_d=kdj_d, kdj_j=kdj_j).dropna()\n",
    "  return df"
   ]
  },
  {
   "cell_type": "code",
   "execution_count": 47,
   "metadata": {},
   "outputs": [],
   "source": [
    "class FinanceInfo:\n",
    "  def __init__(self, item_name, page:10):\n",
    "    self.item_name = item_name\n",
    "    self.page = page\n",
    "  \n",
    "    # 1: Get event_code from 상장법인목록.xls\n",
    "    code_df = pd.read_html('http://kind.krx.co.kr/corpgeneral/corpList.do?method=download&searchType=13', header=0)[0]\n",
    "    code_df.종목코드 = code_df.종목코드.map('{:06d}'.format) \n",
    "    code_df = code_df[['회사명', '종목코드']]\n",
    "    code_df = code_df.rename(columns={'회사명': 'name', '종목코드': 'code'})\n",
    "\n",
    "    # 2. Get stock data from naver finance\n",
    "    url = get_url(self.item_name, code_df)\n",
    "\n",
    "    df = pd.DataFrame()\n",
    "    for _page in range(1, self.page):\n",
    "      pg_url = '{url}&page={page}'.format(url=url, page=_page)\n",
    "      table = get_html_table_symbol(pg_url)\n",
    "      df = df.append(pd.read_html(table, header=0)[0], ignore_index=True)\n",
    "    df = df.dropna()\n",
    "\n",
    "    # 3. Rename columns\n",
    "    df = df.rename(columns= {'날짜': 'date', '종가': 'close', '전일비': 'diff', '시가': 'open', '고가': 'high', '저가': 'low', '거래량': 'volume'}) \n",
    "    df[['close', 'diff', 'open', 'high', 'low', 'volume']] = df[['close', 'diff', 'open', 'high', 'low', 'volume']].astype(int) \n",
    "    df['date'] = pd.to_datetime(df['date']) \n",
    "    df = df.sort_values(by=['date'], ascending=True)\n",
    "\n",
    "    self.df = df\n",
    "\n",
    "  def whoami(self):\n",
    "    return self.item_name\n",
    "\n",
    "  def get_page(self):\n",
    "    return self.page\n",
    "\n",
    "  def get_df(self):\n",
    "    return self.df\n",
    "\n",
    "  def get_stochastic(self):\n",
    "    df = get_stochastic(self.df)\n",
    "\n",
    "    fig = plt.figure(figsize=(20,20))\n",
    "    ax1 = fig.add_subplot(5,1,1)\n",
    "    ax2 = fig.add_subplot(5,1,2)\n",
    "    ax3 = fig.add_subplot(5,1,3)\n",
    "    ax4 = fig.add_subplot(5,1,4)\n",
    "    ax5 = fig.add_subplot(5,1,5)\n",
    "\n",
    "    ax4.plot(df.date, df['kdj_j'], 'r',label='Slow%D')\n",
    "    ax3.plot(df.date, df['kdj_d'], 'g',label='Slow%K')\n",
    "    ax2.plot(df.date, df['kdj_k'], 'b',label='Fast%K')\n",
    "\n",
    "    ax5.plot (df.date, df['kdj_d'], 'g',label='Fast%D (Slow%K)')\n",
    "    ax5.plot(df.date, df['kdj_j'] , 'r',label='Slow%D')\n",
    "\n",
    "    candlestick2_ohlc(ax1, df['open'],df['high'],df['low'], df['close'], width=0.5, colorup='r', colordown='b')\n",
    "\n",
    "    ax4.legend()\n",
    "    ax3.legend()\n",
    "    ax2.legend()\n",
    "\n",
    "    plt.axhline(20)\n",
    "    plt.axhline(80)\n",
    "\n",
    "    plt.savefig('../report/%s-%s.pdf'%(self.item_name,get_report_time()))\n",
    "    plt.close(fig)\n",
    "    #return fig"
   ]
  },
  {
   "cell_type": "code",
   "execution_count": 48,
   "metadata": {},
   "outputs": [
    {
     "name": "stdout",
     "output_type": "stream",
     "text": [
      "요청 URL = http://finance.naver.com/item/sise_day.nhn?code=151860\n"
     ]
    }
   ],
   "source": [
    "if __name__ == '__main__':\n",
    "  item = FinanceInfo('KG ETS',page=10)\n",
    "  item.get_stochastic()"
   ]
  },
  {
   "cell_type": "markdown",
   "metadata": {},
   "source": [
    "# Stock Signals\n",
    "http://www.stocksignals.co.kr:8080/stockguest/0025.php"
   ]
  },
  {
   "cell_type": "code",
   "execution_count": 151,
   "metadata": {},
   "outputs": [
    {
     "name": "stdout",
     "output_type": "stream",
     "text": [
      "Empty DataFrame\n",
      "Columns: [■ 투신과 연기금,외국인 동시순매수 종목현황 ( 2021-08-12 현재 )  기간선택  당일  5일  10일  20일  정렬선택  수량순  일수순  (단위 : 원,주,시가총액-억원,%)  종목명  시가총액  현재가  최근 1일  전일가  등락률  최고가  최저가  투신  연기금  외국인  일수  한화시스템19,95218,10018,100+7.7418,10016,800220,788181,816617,0761일삼강엠앤티*6,75019,00019,000+9.2019,00017,400182,78744,637242,5401일우리금융지주011,20011,200+0.4511,25011,200131,60979,5144,3701일카카오654,689147,500147,500+2.43147,500144,00079,911124,91313,8621일두산중공업91,67921,70021,700+1.6421,70021,35054,034115,1391,669,5251일JB금융지주15,6017,9207,920+2.337,9207,740103,52338,47251,3111일덕산테코피아*5,89932,10032,100+15.0532,10027,900124,38916,469163,2391일HMM140,40240,65040,650+1.2540,65040,15024,251108,292115,3541일와이지엔터테인먼트*11,35561,60061,600+11.5961,60055,20082,81035,59018,8801일브리지텍*7055,9005,900+2.795,9005,740114,98330097,1911일미래에셋생명7,7624,3854,385+0.924,3854,34579,99015,76842,6771일디아이씨2,5786,6306,630+7.636,6306,16094,13757203,3771일쌍용C&E40,6618,0708,070+1.008,0707,99052,72937,00580,4761일심텍*10,14631,85031,850+3.5831,85030,7509,08672,68768,5781일아시아나항공13,84118,60018,600+0.8118,60018,45034674,78666,6011일한화솔루션75,74639,60039,600+0.6439,60039,35068,1403,203120,4541일오스코텍*10,82936,20036,200+4.9336,20034,50056,10114,775166,9401일씨아이에스*6,92812,05012,050+6.1712,05011,35028,26738,71324,6271일엘앤에프*36,306129,300129,300+5.04129,300123,10037,61215,931171,7711일삼성증권42,15047,20047,200+1.1847,20046,65034,99618,167141,6371일현대일렉트릭8,83224,50024,500+1.2424,50024,20014,99330,14375,0621일한미반도체17,75635,90035,900+1.4135,90035,4001,18642,45318,6161일테스나*8,14755,20055,200+2.0355,20054,10034,8778,2859,8951일기아351,04586,60086,600+4.2186,60083,10018,23722,8742,002,8421일한솔로지스틱스1,3574,9404,940+1.425,0104,94019735,28181,6401일JYP Ent.*16,13445,45045,450+4.2445,45043,6009,01826,19874,8951일신한지주203,28239,35039,350+0.3839,35039,2004,23730,400265,8171일LIG넥스원9,97745,35045,350+2.4945,35044,2504,34529,42734,9241일DB하이텍28,54864,30064,300+2.7264,30062,6004,37725,998199,2771일한국타이어앤테크놀로60,69949,00049,000+0.9349,00048,5506,52023,83835,1551일레이언스*2,81216,95016,950+1.5016,95016,70017,03212,56941,6831일HDC현대산업개발19,67329,85029,850+1.1929,85029,5003,54224,54698,1501일일진머티리얼즈37,76581,90081,900+2.7681,90079,7007,11019,178113,7011일SK케미칼34,432293,000293,000+3.58303,500293,0005,40220,65622,7811일솔루스첨단소재069,90069,900+4.4869,90066,9009,83016,017100,3001일명신산업14,80336,30036,300+2.1136,30035,55020,4743,62250,5281일디오*8,33653,70053,700+5.5053,70050,90014,1688,88249,4541일셀트리온제약*59,022161,500161,500+3.39161,500156,20020,3911,29633,5351일대우조선해양33,09930,85030,850+1.6530,85030,35044420,4614,4221일한섬9,96340,45040,450+3.8540,45038,95013619,1655,3981일센코*1,87122,90022,900+7.0122,90021,40017,2722,00010,7231일SKC62,104164,000164,000+2.50164,000160,0004,79813,94563,7801일코오롱인더21,88081,10081,100+2.2781,10079,3005,33812,65065,4091일삼성카드39,62434,20034,200+0.1534,20034,15020415,60030,1041일삼양패키징4,46931,45031,450+2.7831,45030,60014,837786,0971일LG화학619,801878,000878,000+3.17878,000851,0004,5968,473167,4131일휴켐스10,24025,05025,050+2.2425,05024,5007,7575,2103,7421일인텔리안테크*4,66561,70061,700+3.1861,70059,8003,1049,8528,0411일모두투어*4,63124,50024,500+0.8224,50024,30021012,40813,9791일삼성바이오로직스643,124972,000972,000+0.31975,000972,0005,9355,6478,0021일인터로조*3,34527,85027,850+0.3627,85027,7502,9808,47512,0641일효성24,126114,500114,500+2.23114,500112,0002,2368,4101,5421일현대이지웰*2,93312,35012,350+2.9212,35012,0008,7851,85545,1681일신세계인터내셔날14,387201,500201,500+7.18201,500188,0006,2583,35344,1041일삼성SDI561,806817,000817,000+1.87817,000802,0002,1926,608108,9741일동서30,65830,75030,750+0.3330,75030,6502407,8451,1821일제우스*2,56524,70024,700+1.6225,10024,7004,2172,0009,6831일현대오토에버35,103128,000128,000+1.99128,000125,5001,8184,2692,4531일롯데하이마트8,13334,45034,450+1.0334,45034,100845,7989,0101일에스원31,15982,00082,000+0.4982,00081,6001,5713,5871,3201일덴티움9,80788,60088,600+10.0688,60080,5007304,02279,4251일코스맥스비티아이1,73818,10018,100+0.8418,10017,9505004,0002,9401일SK디앤디7,12137,50037,500+0.4037,50037,35064,2724,4411일대한유화15,990246,000246,000+1.86246,000241,500993,22118,5751일교촌에프앤비4,87219,50019,500+1.5619,50019,2003,264129601일씨에스윈드34,62382,10082,100+2.7582,10079,9001,0052,06264,8691일인크로스*4,20652,20052,200+0.9752,20051,7001,1541,6161,6221일한일시멘트14,233205,500205,500+2.49205,500200,5002,0793902,1751일동아쏘시오홀딩스7,386120,000120,000+2.56120,000117,000602,0338301일현대건설기계10,56053,60053,6000.0053,60053,6006669806,0851일넥센타이어8,9569,1709,170+1.669,1709,02024387339,7531일삼아알미늄1,81516,50016,500+4.4316,50015,8001,01816103,9191일LX홀딩스010,45010,4500.0010,45010,45030538417,1291일세아제강2,879101,500101,500+1.00101,500100,500259615031일SGC에너지6,96447,45047,450+1.0647,45046,950244121,6141일영풍12,802695,000695,000+0.87695,000689,00041291151일삼양홀딩스9,506111,000111,000+1.83111,000109,0002863,2571일 ※ 일수는 해당기간중 기관과 외국인이 동시 순매수한 일수의 합계임.  ※ 종목명 뒤의 *표시 종목은 KOSDAQ종목임.]\n",
      "Index: []\n"
     ]
    }
   ],
   "source": [
    "import pandas as pd\n",
    "import requests\n",
    "from bs4 import BeautifulSoup\n",
    "\n",
    "code_df = pd.read_html('http://www.stocksignals.co.kr:8080/stockguest/0025.php', header=0)[8]\n",
    "print(code_df)\n",
    "\n",
    "url = 'http://www.stocksignals.co.kr:8080/stockguest/0025.php'\n",
    "\n",
    "webpage = requests.get(url)\n",
    "soup = BeautifulSoup(webpage.content, \"html.parser\")\n",
    "\n",
    "html_ = str(soup.findAll(\"td\", {\"colspan\":\"11\"}))\n",
    "df = pd.read_html(html_)[1]\n",
    "headers = df.iloc[0]\n",
    "headers2 = df.iloc[1]\n",
    "\n",
    "print(headers)\n",
    "print(headers2)\n",
    "\n",
    "df = pd.DataFrame(df.values[2:], columns=headers)\n",
    "df.columns = pd.MultiIndex.from_tuples(zip(headers2,df.columns))\n",
    "\n",
    "pd.set_option('display.max_rows', 1000)\n",
    "pd.set_option('display.width', 1000)"
   ]
  },
  {
   "cell_type": "code",
   "execution_count": 152,
   "metadata": {},
   "outputs": [
    {
     "data": {
      "text/html": "<div>\n<style scoped>\n    .dataframe tbody tr th:only-of-type {\n        vertical-align: middle;\n    }\n\n    .dataframe tbody tr th {\n        vertical-align: top;\n    }\n\n    .dataframe thead tr th {\n        text-align: left;\n    }\n</style>\n<table border=\"1\" class=\"dataframe\">\n  <thead>\n    <tr>\n      <th></th>\n      <th>종</th>\n      <th>시</th>\n      <th>현</th>\n      <th>전</th>\n      <th>등</th>\n      <th colspan=\"2\" halign=\"left\">최</th>\n      <th>투</th>\n      <th>연</th>\n      <th>외</th>\n      <th>일</th>\n    </tr>\n    <tr>\n      <th></th>\n      <th>목</th>\n      <th>가</th>\n      <th>재</th>\n      <th>일</th>\n      <th>락</th>\n      <th>고</th>\n      <th>저</th>\n      <th>신</th>\n      <th>기</th>\n      <th>국</th>\n      <th>수</th>\n    </tr>\n  </thead>\n  <tbody>\n    <tr>\n      <th>0</th>\n      <td>한화시스템</td>\n      <td>19952</td>\n      <td>18100</td>\n      <td>18100</td>\n      <td>+7.74</td>\n      <td>18100</td>\n      <td>16800</td>\n      <td>220788</td>\n      <td>181816</td>\n      <td>617076</td>\n      <td>1일</td>\n    </tr>\n    <tr>\n      <th>1</th>\n      <td>삼강엠앤티*</td>\n      <td>6750</td>\n      <td>19000</td>\n      <td>19000</td>\n      <td>+9.20</td>\n      <td>19000</td>\n      <td>17400</td>\n      <td>182787</td>\n      <td>44637</td>\n      <td>242540</td>\n      <td>1일</td>\n    </tr>\n    <tr>\n      <th>2</th>\n      <td>우리금융지주</td>\n      <td>0</td>\n      <td>11200</td>\n      <td>11200</td>\n      <td>+0.45</td>\n      <td>11250</td>\n      <td>11200</td>\n      <td>131609</td>\n      <td>79514</td>\n      <td>4370</td>\n      <td>1일</td>\n    </tr>\n    <tr>\n      <th>3</th>\n      <td>카카오</td>\n      <td>654689</td>\n      <td>147500</td>\n      <td>147500</td>\n      <td>+2.43</td>\n      <td>147500</td>\n      <td>144000</td>\n      <td>79911</td>\n      <td>124913</td>\n      <td>13862</td>\n      <td>1일</td>\n    </tr>\n    <tr>\n      <th>4</th>\n      <td>두산중공업</td>\n      <td>91679</td>\n      <td>21700</td>\n      <td>21700</td>\n      <td>+1.64</td>\n      <td>21700</td>\n      <td>21350</td>\n      <td>54034</td>\n      <td>115139</td>\n      <td>1669525</td>\n      <td>1일</td>\n    </tr>\n    <tr>\n      <th>5</th>\n      <td>JB금융지주</td>\n      <td>15601</td>\n      <td>7920</td>\n      <td>7920</td>\n      <td>+2.33</td>\n      <td>7920</td>\n      <td>7740</td>\n      <td>103523</td>\n      <td>38472</td>\n      <td>51311</td>\n      <td>1일</td>\n    </tr>\n    <tr>\n      <th>6</th>\n      <td>덕산테코피아*</td>\n      <td>5899</td>\n      <td>32100</td>\n      <td>32100</td>\n      <td>+15.05</td>\n      <td>32100</td>\n      <td>27900</td>\n      <td>124389</td>\n      <td>16469</td>\n      <td>163239</td>\n      <td>1일</td>\n    </tr>\n    <tr>\n      <th>7</th>\n      <td>HMM</td>\n      <td>140402</td>\n      <td>40650</td>\n      <td>40650</td>\n      <td>+1.25</td>\n      <td>40650</td>\n      <td>40150</td>\n      <td>24251</td>\n      <td>108292</td>\n      <td>115354</td>\n      <td>1일</td>\n    </tr>\n    <tr>\n      <th>8</th>\n      <td>와이지엔터테인먼트*</td>\n      <td>11355</td>\n      <td>61600</td>\n      <td>61600</td>\n      <td>+11.59</td>\n      <td>61600</td>\n      <td>55200</td>\n      <td>82810</td>\n      <td>35590</td>\n      <td>18880</td>\n      <td>1일</td>\n    </tr>\n    <tr>\n      <th>9</th>\n      <td>브리지텍*</td>\n      <td>705</td>\n      <td>5900</td>\n      <td>5900</td>\n      <td>+2.79</td>\n      <td>5900</td>\n      <td>5740</td>\n      <td>114983</td>\n      <td>300</td>\n      <td>97191</td>\n      <td>1일</td>\n    </tr>\n    <tr>\n      <th>10</th>\n      <td>미래에셋생명</td>\n      <td>7762</td>\n      <td>4385</td>\n      <td>4385</td>\n      <td>+0.92</td>\n      <td>4385</td>\n      <td>4345</td>\n      <td>79990</td>\n      <td>15768</td>\n      <td>42677</td>\n      <td>1일</td>\n    </tr>\n    <tr>\n      <th>11</th>\n      <td>디아이씨</td>\n      <td>2578</td>\n      <td>6630</td>\n      <td>6630</td>\n      <td>+7.63</td>\n      <td>6630</td>\n      <td>6160</td>\n      <td>94137</td>\n      <td>57</td>\n      <td>203377</td>\n      <td>1일</td>\n    </tr>\n    <tr>\n      <th>12</th>\n      <td>쌍용C&amp;E</td>\n      <td>40661</td>\n      <td>8070</td>\n      <td>8070</td>\n      <td>+1.00</td>\n      <td>8070</td>\n      <td>7990</td>\n      <td>52729</td>\n      <td>37005</td>\n      <td>80476</td>\n      <td>1일</td>\n    </tr>\n    <tr>\n      <th>13</th>\n      <td>심텍*</td>\n      <td>10146</td>\n      <td>31850</td>\n      <td>31850</td>\n      <td>+3.58</td>\n      <td>31850</td>\n      <td>30750</td>\n      <td>9086</td>\n      <td>72687</td>\n      <td>68578</td>\n      <td>1일</td>\n    </tr>\n    <tr>\n      <th>14</th>\n      <td>아시아나항공</td>\n      <td>13841</td>\n      <td>18600</td>\n      <td>18600</td>\n      <td>+0.81</td>\n      <td>18600</td>\n      <td>18450</td>\n      <td>346</td>\n      <td>74786</td>\n      <td>66601</td>\n      <td>1일</td>\n    </tr>\n    <tr>\n      <th>15</th>\n      <td>한화솔루션</td>\n      <td>75746</td>\n      <td>39600</td>\n      <td>39600</td>\n      <td>+0.64</td>\n      <td>39600</td>\n      <td>39350</td>\n      <td>68140</td>\n      <td>3203</td>\n      <td>120454</td>\n      <td>1일</td>\n    </tr>\n    <tr>\n      <th>16</th>\n      <td>오스코텍*</td>\n      <td>10829</td>\n      <td>36200</td>\n      <td>36200</td>\n      <td>+4.93</td>\n      <td>36200</td>\n      <td>34500</td>\n      <td>56101</td>\n      <td>14775</td>\n      <td>166940</td>\n      <td>1일</td>\n    </tr>\n    <tr>\n      <th>17</th>\n      <td>씨아이에스*</td>\n      <td>6928</td>\n      <td>12050</td>\n      <td>12050</td>\n      <td>+6.17</td>\n      <td>12050</td>\n      <td>11350</td>\n      <td>28267</td>\n      <td>38713</td>\n      <td>24627</td>\n      <td>1일</td>\n    </tr>\n    <tr>\n      <th>18</th>\n      <td>엘앤에프*</td>\n      <td>36306</td>\n      <td>129300</td>\n      <td>129300</td>\n      <td>+5.04</td>\n      <td>129300</td>\n      <td>123100</td>\n      <td>37612</td>\n      <td>15931</td>\n      <td>171771</td>\n      <td>1일</td>\n    </tr>\n    <tr>\n      <th>19</th>\n      <td>삼성증권</td>\n      <td>42150</td>\n      <td>47200</td>\n      <td>47200</td>\n      <td>+1.18</td>\n      <td>47200</td>\n      <td>46650</td>\n      <td>34996</td>\n      <td>18167</td>\n      <td>141637</td>\n      <td>1일</td>\n    </tr>\n    <tr>\n      <th>20</th>\n      <td>현대일렉트릭</td>\n      <td>8832</td>\n      <td>24500</td>\n      <td>24500</td>\n      <td>+1.24</td>\n      <td>24500</td>\n      <td>24200</td>\n      <td>14993</td>\n      <td>30143</td>\n      <td>75062</td>\n      <td>1일</td>\n    </tr>\n    <tr>\n      <th>21</th>\n      <td>한미반도체</td>\n      <td>17756</td>\n      <td>35900</td>\n      <td>35900</td>\n      <td>+1.41</td>\n      <td>35900</td>\n      <td>35400</td>\n      <td>1186</td>\n      <td>42453</td>\n      <td>18616</td>\n      <td>1일</td>\n    </tr>\n    <tr>\n      <th>22</th>\n      <td>테스나*</td>\n      <td>8147</td>\n      <td>55200</td>\n      <td>55200</td>\n      <td>+2.03</td>\n      <td>55200</td>\n      <td>54100</td>\n      <td>34877</td>\n      <td>8285</td>\n      <td>9895</td>\n      <td>1일</td>\n    </tr>\n    <tr>\n      <th>23</th>\n      <td>기아</td>\n      <td>351045</td>\n      <td>86600</td>\n      <td>86600</td>\n      <td>+4.21</td>\n      <td>86600</td>\n      <td>83100</td>\n      <td>18237</td>\n      <td>22874</td>\n      <td>2002842</td>\n      <td>1일</td>\n    </tr>\n    <tr>\n      <th>24</th>\n      <td>한솔로지스틱스</td>\n      <td>1357</td>\n      <td>4940</td>\n      <td>4940</td>\n      <td>+1.42</td>\n      <td>5010</td>\n      <td>4940</td>\n      <td>197</td>\n      <td>35281</td>\n      <td>81640</td>\n      <td>1일</td>\n    </tr>\n    <tr>\n      <th>25</th>\n      <td>JYP Ent.*</td>\n      <td>16134</td>\n      <td>45450</td>\n      <td>45450</td>\n      <td>+4.24</td>\n      <td>45450</td>\n      <td>43600</td>\n      <td>9018</td>\n      <td>26198</td>\n      <td>74895</td>\n      <td>1일</td>\n    </tr>\n    <tr>\n      <th>26</th>\n      <td>신한지주</td>\n      <td>203282</td>\n      <td>39350</td>\n      <td>39350</td>\n      <td>+0.38</td>\n      <td>39350</td>\n      <td>39200</td>\n      <td>4237</td>\n      <td>30400</td>\n      <td>265817</td>\n      <td>1일</td>\n    </tr>\n    <tr>\n      <th>27</th>\n      <td>LIG넥스원</td>\n      <td>9977</td>\n      <td>45350</td>\n      <td>45350</td>\n      <td>+2.49</td>\n      <td>45350</td>\n      <td>44250</td>\n      <td>4345</td>\n      <td>29427</td>\n      <td>34924</td>\n      <td>1일</td>\n    </tr>\n    <tr>\n      <th>28</th>\n      <td>DB하이텍</td>\n      <td>28548</td>\n      <td>64300</td>\n      <td>64300</td>\n      <td>+2.72</td>\n      <td>64300</td>\n      <td>62600</td>\n      <td>4377</td>\n      <td>25998</td>\n      <td>199277</td>\n      <td>1일</td>\n    </tr>\n    <tr>\n      <th>29</th>\n      <td>한국타이어앤테크놀로</td>\n      <td>60699</td>\n      <td>49000</td>\n      <td>49000</td>\n      <td>+0.93</td>\n      <td>49000</td>\n      <td>48550</td>\n      <td>6520</td>\n      <td>23838</td>\n      <td>35155</td>\n      <td>1일</td>\n    </tr>\n    <tr>\n      <th>30</th>\n      <td>레이언스*</td>\n      <td>2812</td>\n      <td>16950</td>\n      <td>16950</td>\n      <td>+1.50</td>\n      <td>16950</td>\n      <td>16700</td>\n      <td>17032</td>\n      <td>12569</td>\n      <td>41683</td>\n      <td>1일</td>\n    </tr>\n    <tr>\n      <th>31</th>\n      <td>HDC현대산업개발</td>\n      <td>19673</td>\n      <td>29850</td>\n      <td>29850</td>\n      <td>+1.19</td>\n      <td>29850</td>\n      <td>29500</td>\n      <td>3542</td>\n      <td>24546</td>\n      <td>98150</td>\n      <td>1일</td>\n    </tr>\n    <tr>\n      <th>32</th>\n      <td>일진머티리얼즈</td>\n      <td>37765</td>\n      <td>81900</td>\n      <td>81900</td>\n      <td>+2.76</td>\n      <td>81900</td>\n      <td>79700</td>\n      <td>7110</td>\n      <td>19178</td>\n      <td>113701</td>\n      <td>1일</td>\n    </tr>\n    <tr>\n      <th>33</th>\n      <td>SK케미칼</td>\n      <td>34432</td>\n      <td>293000</td>\n      <td>293000</td>\n      <td>+3.58</td>\n      <td>303500</td>\n      <td>293000</td>\n      <td>5402</td>\n      <td>20656</td>\n      <td>22781</td>\n      <td>1일</td>\n    </tr>\n    <tr>\n      <th>34</th>\n      <td>솔루스첨단소재</td>\n      <td>0</td>\n      <td>69900</td>\n      <td>69900</td>\n      <td>+4.48</td>\n      <td>69900</td>\n      <td>66900</td>\n      <td>9830</td>\n      <td>16017</td>\n      <td>100300</td>\n      <td>1일</td>\n    </tr>\n    <tr>\n      <th>35</th>\n      <td>명신산업</td>\n      <td>14803</td>\n      <td>36300</td>\n      <td>36300</td>\n      <td>+2.11</td>\n      <td>36300</td>\n      <td>35550</td>\n      <td>20474</td>\n      <td>3622</td>\n      <td>50528</td>\n      <td>1일</td>\n    </tr>\n    <tr>\n      <th>36</th>\n      <td>디오*</td>\n      <td>8336</td>\n      <td>53700</td>\n      <td>53700</td>\n      <td>+5.50</td>\n      <td>53700</td>\n      <td>50900</td>\n      <td>14168</td>\n      <td>8882</td>\n      <td>49454</td>\n      <td>1일</td>\n    </tr>\n    <tr>\n      <th>37</th>\n      <td>셀트리온제약*</td>\n      <td>59022</td>\n      <td>161500</td>\n      <td>161500</td>\n      <td>+3.39</td>\n      <td>161500</td>\n      <td>156200</td>\n      <td>20391</td>\n      <td>1296</td>\n      <td>33535</td>\n      <td>1일</td>\n    </tr>\n    <tr>\n      <th>38</th>\n      <td>대우조선해양</td>\n      <td>33099</td>\n      <td>30850</td>\n      <td>30850</td>\n      <td>+1.65</td>\n      <td>30850</td>\n      <td>30350</td>\n      <td>444</td>\n      <td>20461</td>\n      <td>4422</td>\n      <td>1일</td>\n    </tr>\n    <tr>\n      <th>39</th>\n      <td>한섬</td>\n      <td>9963</td>\n      <td>40450</td>\n      <td>40450</td>\n      <td>+3.85</td>\n      <td>40450</td>\n      <td>38950</td>\n      <td>136</td>\n      <td>19165</td>\n      <td>5398</td>\n      <td>1일</td>\n    </tr>\n    <tr>\n      <th>40</th>\n      <td>센코*</td>\n      <td>1871</td>\n      <td>22900</td>\n      <td>22900</td>\n      <td>+7.01</td>\n      <td>22900</td>\n      <td>21400</td>\n      <td>17272</td>\n      <td>2000</td>\n      <td>10723</td>\n      <td>1일</td>\n    </tr>\n    <tr>\n      <th>41</th>\n      <td>SKC</td>\n      <td>62104</td>\n      <td>164000</td>\n      <td>164000</td>\n      <td>+2.50</td>\n      <td>164000</td>\n      <td>160000</td>\n      <td>4798</td>\n      <td>13945</td>\n      <td>63780</td>\n      <td>1일</td>\n    </tr>\n    <tr>\n      <th>42</th>\n      <td>코오롱인더</td>\n      <td>21880</td>\n      <td>81100</td>\n      <td>81100</td>\n      <td>+2.27</td>\n      <td>81100</td>\n      <td>79300</td>\n      <td>5338</td>\n      <td>12650</td>\n      <td>65409</td>\n      <td>1일</td>\n    </tr>\n    <tr>\n      <th>43</th>\n      <td>삼성카드</td>\n      <td>39624</td>\n      <td>34200</td>\n      <td>34200</td>\n      <td>+0.15</td>\n      <td>34200</td>\n      <td>34150</td>\n      <td>204</td>\n      <td>15600</td>\n      <td>30104</td>\n      <td>1일</td>\n    </tr>\n    <tr>\n      <th>44</th>\n      <td>삼양패키징</td>\n      <td>4469</td>\n      <td>31450</td>\n      <td>31450</td>\n      <td>+2.78</td>\n      <td>31450</td>\n      <td>30600</td>\n      <td>14837</td>\n      <td>78</td>\n      <td>6097</td>\n      <td>1일</td>\n    </tr>\n    <tr>\n      <th>45</th>\n      <td>LG화학</td>\n      <td>619801</td>\n      <td>878000</td>\n      <td>878000</td>\n      <td>+3.17</td>\n      <td>878000</td>\n      <td>851000</td>\n      <td>4596</td>\n      <td>8473</td>\n      <td>167413</td>\n      <td>1일</td>\n    </tr>\n    <tr>\n      <th>46</th>\n      <td>휴켐스</td>\n      <td>10240</td>\n      <td>25050</td>\n      <td>25050</td>\n      <td>+2.24</td>\n      <td>25050</td>\n      <td>24500</td>\n      <td>7757</td>\n      <td>5210</td>\n      <td>3742</td>\n      <td>1일</td>\n    </tr>\n    <tr>\n      <th>47</th>\n      <td>인텔리안테크*</td>\n      <td>4665</td>\n      <td>61700</td>\n      <td>61700</td>\n      <td>+3.18</td>\n      <td>61700</td>\n      <td>59800</td>\n      <td>3104</td>\n      <td>9852</td>\n      <td>8041</td>\n      <td>1일</td>\n    </tr>\n    <tr>\n      <th>48</th>\n      <td>모두투어*</td>\n      <td>4631</td>\n      <td>24500</td>\n      <td>24500</td>\n      <td>+0.82</td>\n      <td>24500</td>\n      <td>24300</td>\n      <td>210</td>\n      <td>12408</td>\n      <td>13979</td>\n      <td>1일</td>\n    </tr>\n    <tr>\n      <th>49</th>\n      <td>삼성바이오로직스</td>\n      <td>643124</td>\n      <td>972000</td>\n      <td>972000</td>\n      <td>+0.31</td>\n      <td>975000</td>\n      <td>972000</td>\n      <td>5935</td>\n      <td>5647</td>\n      <td>8002</td>\n      <td>1일</td>\n    </tr>\n    <tr>\n      <th>50</th>\n      <td>인터로조*</td>\n      <td>3345</td>\n      <td>27850</td>\n      <td>27850</td>\n      <td>+0.36</td>\n      <td>27850</td>\n      <td>27750</td>\n      <td>2980</td>\n      <td>8475</td>\n      <td>12064</td>\n      <td>1일</td>\n    </tr>\n    <tr>\n      <th>51</th>\n      <td>효성</td>\n      <td>24126</td>\n      <td>114500</td>\n      <td>114500</td>\n      <td>+2.23</td>\n      <td>114500</td>\n      <td>112000</td>\n      <td>2236</td>\n      <td>8410</td>\n      <td>1542</td>\n      <td>1일</td>\n    </tr>\n    <tr>\n      <th>52</th>\n      <td>현대이지웰*</td>\n      <td>2933</td>\n      <td>12350</td>\n      <td>12350</td>\n      <td>+2.92</td>\n      <td>12350</td>\n      <td>12000</td>\n      <td>8785</td>\n      <td>1855</td>\n      <td>45168</td>\n      <td>1일</td>\n    </tr>\n    <tr>\n      <th>53</th>\n      <td>신세계인터내셔날</td>\n      <td>14387</td>\n      <td>201500</td>\n      <td>201500</td>\n      <td>+7.18</td>\n      <td>201500</td>\n      <td>188000</td>\n      <td>6258</td>\n      <td>3353</td>\n      <td>44104</td>\n      <td>1일</td>\n    </tr>\n    <tr>\n      <th>54</th>\n      <td>삼성SDI</td>\n      <td>561806</td>\n      <td>817000</td>\n      <td>817000</td>\n      <td>+1.87</td>\n      <td>817000</td>\n      <td>802000</td>\n      <td>2192</td>\n      <td>6608</td>\n      <td>108974</td>\n      <td>1일</td>\n    </tr>\n    <tr>\n      <th>55</th>\n      <td>동서</td>\n      <td>30658</td>\n      <td>30750</td>\n      <td>30750</td>\n      <td>+0.33</td>\n      <td>30750</td>\n      <td>30650</td>\n      <td>240</td>\n      <td>7845</td>\n      <td>1182</td>\n      <td>1일</td>\n    </tr>\n    <tr>\n      <th>56</th>\n      <td>제우스*</td>\n      <td>2565</td>\n      <td>24700</td>\n      <td>24700</td>\n      <td>+1.62</td>\n      <td>25100</td>\n      <td>24700</td>\n      <td>4217</td>\n      <td>2000</td>\n      <td>9683</td>\n      <td>1일</td>\n    </tr>\n    <tr>\n      <th>57</th>\n      <td>현대오토에버</td>\n      <td>35103</td>\n      <td>128000</td>\n      <td>128000</td>\n      <td>+1.99</td>\n      <td>128000</td>\n      <td>125500</td>\n      <td>1818</td>\n      <td>4269</td>\n      <td>2453</td>\n      <td>1일</td>\n    </tr>\n    <tr>\n      <th>58</th>\n      <td>롯데하이마트</td>\n      <td>8133</td>\n      <td>34450</td>\n      <td>34450</td>\n      <td>+1.03</td>\n      <td>34450</td>\n      <td>34100</td>\n      <td>84</td>\n      <td>5798</td>\n      <td>9010</td>\n      <td>1일</td>\n    </tr>\n    <tr>\n      <th>59</th>\n      <td>에스원</td>\n      <td>31159</td>\n      <td>82000</td>\n      <td>82000</td>\n      <td>+0.49</td>\n      <td>82000</td>\n      <td>81600</td>\n      <td>1571</td>\n      <td>3587</td>\n      <td>1320</td>\n      <td>1일</td>\n    </tr>\n    <tr>\n      <th>60</th>\n      <td>덴티움</td>\n      <td>9807</td>\n      <td>88600</td>\n      <td>88600</td>\n      <td>+10.06</td>\n      <td>88600</td>\n      <td>80500</td>\n      <td>730</td>\n      <td>4022</td>\n      <td>79425</td>\n      <td>1일</td>\n    </tr>\n    <tr>\n      <th>61</th>\n      <td>코스맥스비티아이</td>\n      <td>1738</td>\n      <td>18100</td>\n      <td>18100</td>\n      <td>+0.84</td>\n      <td>18100</td>\n      <td>17950</td>\n      <td>500</td>\n      <td>4000</td>\n      <td>2940</td>\n      <td>1일</td>\n    </tr>\n    <tr>\n      <th>62</th>\n      <td>SK디앤디</td>\n      <td>7121</td>\n      <td>37500</td>\n      <td>37500</td>\n      <td>+0.40</td>\n      <td>37500</td>\n      <td>37350</td>\n      <td>6</td>\n      <td>4272</td>\n      <td>4441</td>\n      <td>1일</td>\n    </tr>\n    <tr>\n      <th>63</th>\n      <td>대한유화</td>\n      <td>15990</td>\n      <td>246000</td>\n      <td>246000</td>\n      <td>+1.86</td>\n      <td>246000</td>\n      <td>241500</td>\n      <td>99</td>\n      <td>3221</td>\n      <td>18575</td>\n      <td>1일</td>\n    </tr>\n    <tr>\n      <th>64</th>\n      <td>교촌에프앤비</td>\n      <td>4872</td>\n      <td>19500</td>\n      <td>19500</td>\n      <td>+1.56</td>\n      <td>19500</td>\n      <td>19200</td>\n      <td>3264</td>\n      <td>12</td>\n      <td>960</td>\n      <td>1일</td>\n    </tr>\n    <tr>\n      <th>65</th>\n      <td>씨에스윈드</td>\n      <td>34623</td>\n      <td>82100</td>\n      <td>82100</td>\n      <td>+2.75</td>\n      <td>82100</td>\n      <td>79900</td>\n      <td>1005</td>\n      <td>2062</td>\n      <td>64869</td>\n      <td>1일</td>\n    </tr>\n    <tr>\n      <th>66</th>\n      <td>인크로스*</td>\n      <td>4206</td>\n      <td>52200</td>\n      <td>52200</td>\n      <td>+0.97</td>\n      <td>52200</td>\n      <td>51700</td>\n      <td>1154</td>\n      <td>1616</td>\n      <td>1622</td>\n      <td>1일</td>\n    </tr>\n    <tr>\n      <th>67</th>\n      <td>한일시멘트</td>\n      <td>14233</td>\n      <td>205500</td>\n      <td>205500</td>\n      <td>+2.49</td>\n      <td>205500</td>\n      <td>200500</td>\n      <td>2079</td>\n      <td>390</td>\n      <td>2175</td>\n      <td>1일</td>\n    </tr>\n    <tr>\n      <th>68</th>\n      <td>동아쏘시오홀딩스</td>\n      <td>7386</td>\n      <td>120000</td>\n      <td>120000</td>\n      <td>+2.56</td>\n      <td>120000</td>\n      <td>117000</td>\n      <td>60</td>\n      <td>2033</td>\n      <td>830</td>\n      <td>1일</td>\n    </tr>\n    <tr>\n      <th>69</th>\n      <td>현대건설기계</td>\n      <td>10560</td>\n      <td>53600</td>\n      <td>53600</td>\n      <td>0.00</td>\n      <td>53600</td>\n      <td>53600</td>\n      <td>666</td>\n      <td>980</td>\n      <td>6085</td>\n      <td>1일</td>\n    </tr>\n    <tr>\n      <th>70</th>\n      <td>넥센타이어</td>\n      <td>8956</td>\n      <td>9170</td>\n      <td>9170</td>\n      <td>+1.66</td>\n      <td>9170</td>\n      <td>9020</td>\n      <td>243</td>\n      <td>873</td>\n      <td>39753</td>\n      <td>1일</td>\n    </tr>\n    <tr>\n      <th>71</th>\n      <td>삼아알미늄</td>\n      <td>1815</td>\n      <td>16500</td>\n      <td>16500</td>\n      <td>+4.43</td>\n      <td>16500</td>\n      <td>15800</td>\n      <td>1018</td>\n      <td>16</td>\n      <td>103919</td>\n      <td>1일</td>\n    </tr>\n    <tr>\n      <th>72</th>\n      <td>LX홀딩스</td>\n      <td>0</td>\n      <td>10450</td>\n      <td>10450</td>\n      <td>0.00</td>\n      <td>10450</td>\n      <td>10450</td>\n      <td>305</td>\n      <td>384</td>\n      <td>17129</td>\n      <td>1일</td>\n    </tr>\n    <tr>\n      <th>73</th>\n      <td>세아제강</td>\n      <td>2879</td>\n      <td>101500</td>\n      <td>101500</td>\n      <td>+1.00</td>\n      <td>101500</td>\n      <td>100500</td>\n      <td>259</td>\n      <td>61</td>\n      <td>503</td>\n      <td>1일</td>\n    </tr>\n    <tr>\n      <th>74</th>\n      <td>SGC에너지</td>\n      <td>6964</td>\n      <td>47450</td>\n      <td>47450</td>\n      <td>+1.06</td>\n      <td>47450</td>\n      <td>46950</td>\n      <td>244</td>\n      <td>12</td>\n      <td>1614</td>\n      <td>1일</td>\n    </tr>\n    <tr>\n      <th>75</th>\n      <td>영풍</td>\n      <td>12802</td>\n      <td>695000</td>\n      <td>695000</td>\n      <td>+0.87</td>\n      <td>695000</td>\n      <td>689000</td>\n      <td>4</td>\n      <td>129</td>\n      <td>115</td>\n      <td>1일</td>\n    </tr>\n    <tr>\n      <th>76</th>\n      <td>삼양홀딩스</td>\n      <td>9506</td>\n      <td>111000</td>\n      <td>111000</td>\n      <td>+1.83</td>\n      <td>111000</td>\n      <td>109000</td>\n      <td>28</td>\n      <td>6</td>\n      <td>3257</td>\n      <td>1일</td>\n    </tr>\n  </tbody>\n</table>\n</div>",
      "text/plain": "             종       시       현       전       등       최               투       연        외   일\n             목       가       재       일       락       고       저       신       기        국   수\n0   한화시스템       19952   18100   18100   +7.74   18100   16800   220788  181816  617076   1일\n1   삼강엠앤티*      6750    19000   19000   +9.20   19000   17400   182787  44637   242540   1일\n2   우리금융지주      0       11200   11200   +0.45   11250   11200   131609  79514   4370     1일\n3   카카오         654689  147500  147500  +2.43   147500  144000  79911   124913  13862    1일\n4   두산중공업       91679   21700   21700   +1.64   21700   21350   54034   115139  1669525  1일\n5   JB금융지주      15601   7920    7920    +2.33   7920    7740    103523  38472   51311    1일\n6   덕산테코피아*     5899    32100   32100   +15.05  32100   27900   124389  16469   163239   1일\n7   HMM         140402  40650   40650   +1.25   40650   40150   24251   108292  115354   1일\n8   와이지엔터테인먼트*  11355   61600   61600   +11.59  61600   55200   82810   35590   18880    1일\n9   브리지텍*       705     5900    5900    +2.79   5900    5740    114983  300     97191    1일\n10  미래에셋생명      7762    4385    4385    +0.92   4385    4345    79990   15768   42677    1일\n11  디아이씨        2578    6630    6630    +7.63   6630    6160    94137   57      203377   1일\n12  쌍용C&E       40661   8070    8070    +1.00   8070    7990    52729   37005   80476    1일\n13  심텍*         10146   31850   31850   +3.58   31850   30750   9086    72687   68578    1일\n14  아시아나항공      13841   18600   18600   +0.81   18600   18450   346     74786   66601    1일\n15  한화솔루션       75746   39600   39600   +0.64   39600   39350   68140   3203    120454   1일\n16  오스코텍*       10829   36200   36200   +4.93   36200   34500   56101   14775   166940   1일\n17  씨아이에스*      6928    12050   12050   +6.17   12050   11350   28267   38713   24627    1일\n18  엘앤에프*       36306   129300  129300  +5.04   129300  123100  37612   15931   171771   1일\n19  삼성증권        42150   47200   47200   +1.18   47200   46650   34996   18167   141637   1일\n20  현대일렉트릭      8832    24500   24500   +1.24   24500   24200   14993   30143   75062    1일\n21  한미반도체       17756   35900   35900   +1.41   35900   35400   1186    42453   18616    1일\n22  테스나*        8147    55200   55200   +2.03   55200   54100   34877   8285    9895     1일\n23  기아          351045  86600   86600   +4.21   86600   83100   18237   22874   2002842  1일\n24  한솔로지스틱스     1357    4940    4940    +1.42   5010    4940    197     35281   81640    1일\n25  JYP Ent.*   16134   45450   45450   +4.24   45450   43600   9018    26198   74895    1일\n26  신한지주        203282  39350   39350   +0.38   39350   39200   4237    30400   265817   1일\n27  LIG넥스원      9977    45350   45350   +2.49   45350   44250   4345    29427   34924    1일\n28  DB하이텍       28548   64300   64300   +2.72   64300   62600   4377    25998   199277   1일\n29  한국타이어앤테크놀로  60699   49000   49000   +0.93   49000   48550   6520    23838   35155    1일\n30  레이언스*       2812    16950   16950   +1.50   16950   16700   17032   12569   41683    1일\n31  HDC현대산업개발   19673   29850   29850   +1.19   29850   29500   3542    24546   98150    1일\n32  일진머티리얼즈     37765   81900   81900   +2.76   81900   79700   7110    19178   113701   1일\n33  SK케미칼       34432   293000  293000  +3.58   303500  293000  5402    20656   22781    1일\n34  솔루스첨단소재     0       69900   69900   +4.48   69900   66900   9830    16017   100300   1일\n35  명신산업        14803   36300   36300   +2.11   36300   35550   20474   3622    50528    1일\n36  디오*         8336    53700   53700   +5.50   53700   50900   14168   8882    49454    1일\n37  셀트리온제약*     59022   161500  161500  +3.39   161500  156200  20391   1296    33535    1일\n38  대우조선해양      33099   30850   30850   +1.65   30850   30350   444     20461   4422     1일\n39  한섬          9963    40450   40450   +3.85   40450   38950   136     19165   5398     1일\n40  센코*         1871    22900   22900   +7.01   22900   21400   17272   2000    10723    1일\n41  SKC         62104   164000  164000  +2.50   164000  160000  4798    13945   63780    1일\n42  코오롱인더       21880   81100   81100   +2.27   81100   79300   5338    12650   65409    1일\n43  삼성카드        39624   34200   34200   +0.15   34200   34150   204     15600   30104    1일\n44  삼양패키징       4469    31450   31450   +2.78   31450   30600   14837   78      6097     1일\n45  LG화학        619801  878000  878000  +3.17   878000  851000  4596    8473    167413   1일\n46  휴켐스         10240   25050   25050   +2.24   25050   24500   7757    5210    3742     1일\n47  인텔리안테크*     4665    61700   61700   +3.18   61700   59800   3104    9852    8041     1일\n48  모두투어*       4631    24500   24500   +0.82   24500   24300   210     12408   13979    1일\n49  삼성바이오로직스    643124  972000  972000  +0.31   975000  972000  5935    5647    8002     1일\n50  인터로조*       3345    27850   27850   +0.36   27850   27750   2980    8475    12064    1일\n51  효성          24126   114500  114500  +2.23   114500  112000  2236    8410    1542     1일\n52  현대이지웰*      2933    12350   12350   +2.92   12350   12000   8785    1855    45168    1일\n53  신세계인터내셔날    14387   201500  201500  +7.18   201500  188000  6258    3353    44104    1일\n54  삼성SDI       561806  817000  817000  +1.87   817000  802000  2192    6608    108974   1일\n55  동서          30658   30750   30750   +0.33   30750   30650   240     7845    1182     1일\n56  제우스*        2565    24700   24700   +1.62   25100   24700   4217    2000    9683     1일\n57  현대오토에버      35103   128000  128000  +1.99   128000  125500  1818    4269    2453     1일\n58  롯데하이마트      8133    34450   34450   +1.03   34450   34100   84      5798    9010     1일\n59  에스원         31159   82000   82000   +0.49   82000   81600   1571    3587    1320     1일\n60  덴티움         9807    88600   88600   +10.06  88600   80500   730     4022    79425    1일\n61  코스맥스비티아이    1738    18100   18100   +0.84   18100   17950   500     4000    2940     1일\n62  SK디앤디       7121    37500   37500   +0.40   37500   37350   6       4272    4441     1일\n63  대한유화        15990   246000  246000  +1.86   246000  241500  99      3221    18575    1일\n64  교촌에프앤비      4872    19500   19500   +1.56   19500   19200   3264    12      960      1일\n65  씨에스윈드       34623   82100   82100   +2.75   82100   79900   1005    2062    64869    1일\n66  인크로스*       4206    52200   52200   +0.97   52200   51700   1154    1616    1622     1일\n67  한일시멘트       14233   205500  205500  +2.49   205500  200500  2079    390     2175     1일\n68  동아쏘시오홀딩스    7386    120000  120000  +2.56   120000  117000  60      2033    830      1일\n69  현대건설기계      10560   53600   53600   0.00    53600   53600   666     980     6085     1일\n70  넥센타이어       8956    9170    9170    +1.66   9170    9020    243     873     39753    1일\n71  삼아알미늄       1815    16500   16500   +4.43   16500   15800   1018    16      103919   1일\n72  LX홀딩스       0       10450   10450   0.00    10450   10450   305     384     17129    1일\n73  세아제강        2879    101500  101500  +1.00   101500  100500  259     61      503      1일\n74  SGC에너지      6964    47450   47450   +1.06   47450   46950   244     12      1614     1일\n75  영풍          12802   695000  695000  +0.87   695000  689000  4       129     115      1일\n76  삼양홀딩스       9506    111000  111000  +1.83   111000  109000  28      6       3257     1일"
     },
     "execution_count": 152,
     "metadata": {},
     "output_type": "execute_result"
    }
   ],
   "source": [
    "#df.style.hide_index()\n",
    "df\n",
    "#print(df.iloc[0:1])\n",
    "#print(df)"
   ]
  },
  {
   "cell_type": "code",
   "execution_count": null,
   "metadata": {},
   "outputs": [],
   "source": []
  }
 ],
 "metadata": {
  "kernelspec": {
   "display_name": "Python 3 (ipykernel)",
   "language": "python",
   "name": "python3"
  },
  "language_info": {
   "name": "python",
   "version": ""
  },
  "orig_nbformat": 2
 },
 "nbformat": 4,
 "nbformat_minor": 2
}